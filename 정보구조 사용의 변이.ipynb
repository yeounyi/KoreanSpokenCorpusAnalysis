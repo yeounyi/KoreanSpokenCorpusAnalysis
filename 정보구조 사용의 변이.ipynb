{
 "cells": [
  {
   "cell_type": "markdown",
   "metadata": {},
   "source": [
    "# 정보구조 사용의 변이\n",
    "* 정보구조란? 의사소통에서 화자가 발화를 통해 전달하려는 정보가 청자에게 새로운 것인지 아니면 주어져 있는 것인지에 대한 화자의 가정을 반영하는 언어적 양상 (출처: 최윤지(2016): 한국어 정보구조 연구)\n",
    "* 정보구조의 규범적 사용: 신정보를 신정보처럼 제시 (담화에 새로운 내용을 제시할 때 청자가 이를 모를 것을 전제하고 말함)\n",
    "* 정보구조의 전략적 사용: 신정보를 구정보처럼 제시 (담화에 새로운 내용을 제시할 때 청자가 이를 알 것을 전제하고 말함)\n",
    "\n",
    "## 1. 새로운 주제 제시하는 문장 추출하기\n",
    "* 담화의 새로운 주제는 'X 이라는 Y' 형태로 많이 나타난다 (출처: 최윤지(2016): 한국어 정보구조 연구)"
   ]
  },
  {
   "cell_type": "code",
   "execution_count": 109,
   "metadata": {},
   "outputs": [],
   "source": [
    "import pandas as pd\n",
    "df = pd.read_csv('spoken0523.csv')"
   ]
  },
  {
   "cell_type": "code",
   "execution_count": null,
   "metadata": {},
   "outputs": [],
   "source": [
    "# 'X이라는 Y', 단, X는 보통명사 또는 고유명사로 한정 \n",
    "def check_new(speech):\n",
    "    new_speech = []\n",
    "    num = len(BeautifulSoup(speech).find_all('s'))\n",
    "    for i in range(num):\n",
    "        string = str(BeautifulSoup(speech).find_all('s')[i])\n",
    "        if '/NNG+이/VCP+라는/ETM' in string or '/NNP+이/VCP+라는/ETM' in string:\n",
    "            new_speech.append(string)\n",
    "        else:\n",
    "            continue\n",
    "    return new_speech"
   ]
  },
  {
   "cell_type": "code",
   "execution_count": null,
   "metadata": {},
   "outputs": [],
   "source": [
    "df['신정보speech'] = df['speech'].apply(lambda x:check_new(x))"
   ]
  },
  {
   "cell_type": "code",
   "execution_count": 119,
   "metadata": {},
   "outputs": [],
   "source": [
    "# 청자의 성별이 들어있는 df\n",
    "# 청자의 성별에 해당하는 칼럼만 뽑아 df와 합치기 \n",
    "listener = pd.read_csv('listener.csv')\n",
    "listener = pd.DataFrame(listener['listener'])"
   ]
  },
  {
   "cell_type": "code",
   "execution_count": 110,
   "metadata": {},
   "outputs": [
    {
     "data": {
      "text/html": [
       "<div>\n",
       "<style scoped>\n",
       "    .dataframe tbody tr th:only-of-type {\n",
       "        vertical-align: middle;\n",
       "    }\n",
       "\n",
       "    .dataframe tbody tr th {\n",
       "        vertical-align: top;\n",
       "    }\n",
       "\n",
       "    .dataframe thead th {\n",
       "        text-align: right;\n",
       "    }\n",
       "</style>\n",
       "<table border=\"1\" class=\"dataframe\">\n",
       "  <thead>\n",
       "    <tr style=\"text-align: right;\">\n",
       "      <th></th>\n",
       "      <th>filename</th>\n",
       "      <th>speaker</th>\n",
       "      <th>gender</th>\n",
       "      <th>setting</th>\n",
       "      <th>speech</th>\n",
       "      <th>거든speech</th>\n",
       "      <th>거든&amp;정의</th>\n",
       "      <th>거든&amp;나</th>\n",
       "      <th>거든&amp;과거</th>\n",
       "      <th>sent_num</th>\n",
       "      <th>...</th>\n",
       "      <th>잖|이라고</th>\n",
       "      <th>이라고&amp;다며num</th>\n",
       "      <th>다며|이라고</th>\n",
       "      <th>이라고&amp;거든num</th>\n",
       "      <th>거든|이라고</th>\n",
       "      <th>이라고&amp;대num</th>\n",
       "      <th>대|이라고</th>\n",
       "      <th>이라고&amp;단다num</th>\n",
       "      <th>단다|이라고</th>\n",
       "      <th>job</th>\n",
       "    </tr>\n",
       "  </thead>\n",
       "  <tbody>\n",
       "    <tr>\n",
       "      <th>0</th>\n",
       "      <td>5CT_0013.txt</td>\n",
       "      <td>P1</td>\n",
       "      <td>F</td>\n",
       "      <td>집에서 특별히 하는 일 없이 자연스러운 대화를 나누고 있음</td>\n",
       "      <td>[&lt;u who=\"P1\"&gt;\\r\\r\\r\\r\\r\\r\\r\\r\\r\\r\\n5CT_0013-00...</td>\n",
       "      <td>['&lt;s n=\"00116\"&gt;\\r\\n5CT_0013-0008610\\t일곱시\\t일곱/N...</td>\n",
       "      <td>0</td>\n",
       "      <td>1</td>\n",
       "      <td>4</td>\n",
       "      <td>548</td>\n",
       "      <td>...</td>\n",
       "      <td>0.000000</td>\n",
       "      <td>0</td>\n",
       "      <td>0.0</td>\n",
       "      <td>0</td>\n",
       "      <td>0.00</td>\n",
       "      <td>0</td>\n",
       "      <td>0.0</td>\n",
       "      <td>0</td>\n",
       "      <td>0.0</td>\n",
       "      <td>대학원생</td>\n",
       "    </tr>\n",
       "    <tr>\n",
       "      <th>1</th>\n",
       "      <td>5CT_0013.txt</td>\n",
       "      <td>P2</td>\n",
       "      <td>M</td>\n",
       "      <td>집에서 특별히 하는 일 없이 자연스러운 대화를 나누고 있음</td>\n",
       "      <td>[&lt;u who=\"P2\"&gt;\\r\\r\\r\\r\\r\\r\\r\\r\\r\\r\\n5CT_0013-00...</td>\n",
       "      <td>['&lt;s n=\"00685\"&gt;\\r\\n5CT_0013-0051350\\t난리가\\t난리/N...</td>\n",
       "      <td>1</td>\n",
       "      <td>1</td>\n",
       "      <td>1</td>\n",
       "      <td>521</td>\n",
       "      <td>...</td>\n",
       "      <td>0.000000</td>\n",
       "      <td>0</td>\n",
       "      <td>0.0</td>\n",
       "      <td>1</td>\n",
       "      <td>0.25</td>\n",
       "      <td>0</td>\n",
       "      <td>0.0</td>\n",
       "      <td>0</td>\n",
       "      <td>0.0</td>\n",
       "      <td>회사원</td>\n",
       "    </tr>\n",
       "    <tr>\n",
       "      <th>2</th>\n",
       "      <td>5CT_0014.txt</td>\n",
       "      <td>P1</td>\n",
       "      <td>F</td>\n",
       "      <td>날씨에 대해 자연스러운 대화를 나누고 있음</td>\n",
       "      <td>[&lt;u who=\"P1\"&gt;\\r\\r\\r\\r\\r\\r\\r\\r\\r\\r\\n5CT_0014-00...</td>\n",
       "      <td>['&lt;s n=\"00030\"&gt;\\r\\n5CT_0014-0002410\\t나가면\\t나가/V...</td>\n",
       "      <td>0</td>\n",
       "      <td>8</td>\n",
       "      <td>10</td>\n",
       "      <td>478</td>\n",
       "      <td>...</td>\n",
       "      <td>0.000000</td>\n",
       "      <td>0</td>\n",
       "      <td>0.0</td>\n",
       "      <td>1</td>\n",
       "      <td>1.00</td>\n",
       "      <td>0</td>\n",
       "      <td>0.0</td>\n",
       "      <td>0</td>\n",
       "      <td>0.0</td>\n",
       "      <td>대학생</td>\n",
       "    </tr>\n",
       "    <tr>\n",
       "      <th>3</th>\n",
       "      <td>5CT_0014.txt</td>\n",
       "      <td>P2</td>\n",
       "      <td>M</td>\n",
       "      <td>날씨에 대해 자연스러운 대화를 나누고 있음</td>\n",
       "      <td>[&lt;u who=\"P2\"&gt;\\r\\r\\r\\r\\r\\r\\r\\r\\r\\r\\n5CT_0014-00...</td>\n",
       "      <td>['&lt;s n=\"00206\"&gt;\\r\\n5CT_0014-0015810\\t천안\\t천안/NN...</td>\n",
       "      <td>0</td>\n",
       "      <td>3</td>\n",
       "      <td>4</td>\n",
       "      <td>518</td>\n",
       "      <td>...</td>\n",
       "      <td>NaN</td>\n",
       "      <td>0</td>\n",
       "      <td>NaN</td>\n",
       "      <td>0</td>\n",
       "      <td>NaN</td>\n",
       "      <td>0</td>\n",
       "      <td>NaN</td>\n",
       "      <td>0</td>\n",
       "      <td>NaN</td>\n",
       "      <td>대학생</td>\n",
       "    </tr>\n",
       "    <tr>\n",
       "      <th>4</th>\n",
       "      <td>5CT_0015.txt</td>\n",
       "      <td>P1</td>\n",
       "      <td>F</td>\n",
       "      <td>여자들이 물품 구입에 관한 대화를 나누고 있음</td>\n",
       "      <td>[&lt;u who=\"P1\"&gt;\\r\\r\\r\\r\\r\\r\\r\\r\\r\\r\\n5CT_0015-00...</td>\n",
       "      <td>['&lt;s n=\"00035\"&gt;\\r\\n5CT_0015-0002760\\t거기\\t거기/NP...</td>\n",
       "      <td>0</td>\n",
       "      <td>14</td>\n",
       "      <td>14</td>\n",
       "      <td>639</td>\n",
       "      <td>...</td>\n",
       "      <td>0.333333</td>\n",
       "      <td>0</td>\n",
       "      <td>0.0</td>\n",
       "      <td>0</td>\n",
       "      <td>0.00</td>\n",
       "      <td>0</td>\n",
       "      <td>0.0</td>\n",
       "      <td>0</td>\n",
       "      <td>0.0</td>\n",
       "      <td>대학생</td>\n",
       "    </tr>\n",
       "  </tbody>\n",
       "</table>\n",
       "<p>5 rows × 44 columns</p>\n",
       "</div>"
      ],
      "text/plain": [
       "       filename speaker gender                           setting  \\\n",
       "0  5CT_0013.txt      P1      F  집에서 특별히 하는 일 없이 자연스러운 대화를 나누고 있음   \n",
       "1  5CT_0013.txt      P2      M  집에서 특별히 하는 일 없이 자연스러운 대화를 나누고 있음   \n",
       "2  5CT_0014.txt      P1      F           날씨에 대해 자연스러운 대화를 나누고 있음   \n",
       "3  5CT_0014.txt      P2      M           날씨에 대해 자연스러운 대화를 나누고 있음   \n",
       "4  5CT_0015.txt      P1      F         여자들이 물품 구입에 관한 대화를 나누고 있음   \n",
       "\n",
       "                                              speech  \\\n",
       "0  [<u who=\"P1\">\\r\\r\\r\\r\\r\\r\\r\\r\\r\\r\\n5CT_0013-00...   \n",
       "1  [<u who=\"P2\">\\r\\r\\r\\r\\r\\r\\r\\r\\r\\r\\n5CT_0013-00...   \n",
       "2  [<u who=\"P1\">\\r\\r\\r\\r\\r\\r\\r\\r\\r\\r\\n5CT_0014-00...   \n",
       "3  [<u who=\"P2\">\\r\\r\\r\\r\\r\\r\\r\\r\\r\\r\\n5CT_0014-00...   \n",
       "4  [<u who=\"P1\">\\r\\r\\r\\r\\r\\r\\r\\r\\r\\r\\n5CT_0015-00...   \n",
       "\n",
       "                                            거든speech  거든&정의  거든&나  거든&과거  \\\n",
       "0  ['<s n=\"00116\">\\r\\n5CT_0013-0008610\\t일곱시\\t일곱/N...      0     1      4   \n",
       "1  ['<s n=\"00685\">\\r\\n5CT_0013-0051350\\t난리가\\t난리/N...      1     1      1   \n",
       "2  ['<s n=\"00030\">\\r\\n5CT_0014-0002410\\t나가면\\t나가/V...      0     8     10   \n",
       "3  ['<s n=\"00206\">\\r\\n5CT_0014-0015810\\t천안\\t천안/NN...      0     3      4   \n",
       "4  ['<s n=\"00035\">\\r\\n5CT_0015-0002760\\t거기\\t거기/NP...      0    14     14   \n",
       "\n",
       "   sent_num  ...      잖|이라고  이라고&다며num  다며|이라고  이라고&거든num 거든|이라고  이라고&대num  \\\n",
       "0       548  ...   0.000000          0     0.0          0   0.00         0   \n",
       "1       521  ...   0.000000          0     0.0          1   0.25         0   \n",
       "2       478  ...   0.000000          0     0.0          1   1.00         0   \n",
       "3       518  ...        NaN          0     NaN          0    NaN         0   \n",
       "4       639  ...   0.333333          0     0.0          0   0.00         0   \n",
       "\n",
       "   대|이라고  이라고&단다num  단다|이라고   job  \n",
       "0    0.0          0     0.0  대학원생  \n",
       "1    0.0          0     0.0   회사원  \n",
       "2    0.0          0     0.0   대학생  \n",
       "3    NaN          0     NaN   대학생  \n",
       "4    0.0          0     0.0   대학생  \n",
       "\n",
       "[5 rows x 44 columns]"
      ]
     },
     "execution_count": 110,
     "metadata": {},
     "output_type": "execute_result"
    }
   ],
   "source": [
    "df = df.join(job)\n",
    "df.head()"
   ]
  },
  {
   "cell_type": "code",
   "execution_count": 134,
   "metadata": {},
   "outputs": [
    {
     "data": {
      "text/plain": [
       "(309, 44)"
      ]
     },
     "execution_count": 134,
     "metadata": {},
     "output_type": "execute_result"
    }
   ],
   "source": [
    "# 'X이라는 Y'를 한번 이상 한 사람들의 speech만 남기기 \n",
    "new_df = df[df['신정보speech']!='[]']\n",
    "new_df.shape # 총 309명 "
   ]
  },
  {
   "cell_type": "code",
   "execution_count": 141,
   "metadata": {},
   "outputs": [
    {
     "data": {
      "text/plain": [
       "Index(['filename', 'speaker', 'gender', 'setting', 'speech', '거든speech',\n",
       "       '거든&정의', '거든&나', '거든&과거', 'sent_num', '잖', '거든', '잖 비율', '거든 비율',\n",
       "       '잖speech', '거든&나 비율', '거든&과거 비율', '거든&정의 비율', '잖&정의', '잖&정의 비율', '잖&나',\n",
       "       '잖&과거', '잖&나 비율', '잖&과거 비율', '대화상황', '나', '정의', '나 중 잖 비율', '정의 중 잖 비율',\n",
       "       'age', '신정보speech', '이라고num', '이라고&잖num', '잖|이라고', '이라고&다며num',\n",
       "       '다며|이라고', '이라고&거든num', '거든|이라고', '이라고&대num', '대|이라고', '이라고&단다num',\n",
       "       '단다|이라고', 'job', 'listener'],\n",
       "      dtype='object')"
      ]
     },
     "execution_count": 141,
     "metadata": {},
     "output_type": "execute_result"
    }
   ],
   "source": [
    "new_df.columns"
   ]
  },
  {
   "cell_type": "markdown",
   "metadata": {},
   "source": [
    "## 2. 한 열에 한 화자 → 한 열에 한 문장('X이라는 Y' 포함 문장)"
   ]
  },
  {
   "cell_type": "code",
   "execution_count": 142,
   "metadata": {},
   "outputs": [],
   "source": [
    "from bs4 import BeautifulSoup\n",
    "line_df = pd.DataFrame(columns=['filename', 'speaker', 'gender', 'listener','job','setting','age','new_speech'])\n",
    "count=0\n",
    "for i in range(len(new_df)):\n",
    "    speech = BeautifulSoup(new_df['신정보speech'][i]).find_all('s')\n",
    "    for j in range(len(speech)):\n",
    "        filename = new_df.iloc[i,0]\n",
    "        speaker = new_df.iloc[i,1]\n",
    "        gender = new_df.iloc[i,2]\n",
    "        listener = new_df.iloc[i,43]\n",
    "        job = new_df.iloc[i,42]\n",
    "        setting = new_df.iloc[i,3]\n",
    "        age = new_df.iloc[i,29]\n",
    "        new_speech = speech[j]\n",
    "        line_df.loc[count] = [filename, speaker, gender, listener, job,setting,age,new_speech]\n",
    "        count+=1"
   ]
  },
  {
   "cell_type": "code",
   "execution_count": 143,
   "metadata": {},
   "outputs": [
    {
     "data": {
      "text/html": [
       "<div>\n",
       "<style scoped>\n",
       "    .dataframe tbody tr th:only-of-type {\n",
       "        vertical-align: middle;\n",
       "    }\n",
       "\n",
       "    .dataframe tbody tr th {\n",
       "        vertical-align: top;\n",
       "    }\n",
       "\n",
       "    .dataframe thead th {\n",
       "        text-align: right;\n",
       "    }\n",
       "</style>\n",
       "<table border=\"1\" class=\"dataframe\">\n",
       "  <thead>\n",
       "    <tr style=\"text-align: right;\">\n",
       "      <th></th>\n",
       "      <th>filename</th>\n",
       "      <th>speaker</th>\n",
       "      <th>gender</th>\n",
       "      <th>listener</th>\n",
       "      <th>job</th>\n",
       "      <th>setting</th>\n",
       "      <th>age</th>\n",
       "      <th>new_speech</th>\n",
       "    </tr>\n",
       "  </thead>\n",
       "  <tbody>\n",
       "    <tr>\n",
       "      <th>0</th>\n",
       "      <td>5CT_0013.txt</td>\n",
       "      <td>P1</td>\n",
       "      <td>F</td>\n",
       "      <td>M</td>\n",
       "      <td>대학원생</td>\n",
       "      <td>집에서 특별히 하는 일 없이 자연스러운 대화를 나누고 있음</td>\n",
       "      <td>30s</td>\n",
       "      <td>&lt;s n=\"00196\"&gt;\\\\\\\\r\\\\\\\\r\\\\\\\\r\\\\\\\\r\\\\\\\\r\\\\\\\\r\\\\\\...</td>\n",
       "    </tr>\n",
       "    <tr>\n",
       "      <th>1</th>\n",
       "      <td>5CT_0013.txt</td>\n",
       "      <td>P2</td>\n",
       "      <td>M</td>\n",
       "      <td>F</td>\n",
       "      <td>회사원</td>\n",
       "      <td>집에서 특별히 하는 일 없이 자연스러운 대화를 나누고 있음</td>\n",
       "      <td>30s</td>\n",
       "      <td>&lt;s n=\"00742\"&gt;\\\\\\\\r\\\\\\\\r\\\\\\\\r\\\\\\\\r\\\\\\\\r\\\\\\\\r\\\\\\...</td>\n",
       "    </tr>\n",
       "    <tr>\n",
       "      <th>2</th>\n",
       "      <td>5CT_0013.txt</td>\n",
       "      <td>P2</td>\n",
       "      <td>M</td>\n",
       "      <td>F</td>\n",
       "      <td>회사원</td>\n",
       "      <td>집에서 특별히 하는 일 없이 자연스러운 대화를 나누고 있음</td>\n",
       "      <td>30s</td>\n",
       "      <td>&lt;s n=\"00748\"&gt;\\\\\\\\r\\\\\\\\r\\\\\\\\r\\\\\\\\r\\\\\\\\r\\\\\\\\r\\\\\\...</td>\n",
       "    </tr>\n",
       "    <tr>\n",
       "      <th>3</th>\n",
       "      <td>5CT_0013.txt</td>\n",
       "      <td>P2</td>\n",
       "      <td>M</td>\n",
       "      <td>F</td>\n",
       "      <td>회사원</td>\n",
       "      <td>집에서 특별히 하는 일 없이 자연스러운 대화를 나누고 있음</td>\n",
       "      <td>30s</td>\n",
       "      <td>&lt;s n=\"00752\"&gt;\\\\\\\\r\\\\\\\\r\\\\\\\\r\\\\\\\\r\\\\\\\\r\\\\\\\\r\\\\\\...</td>\n",
       "    </tr>\n",
       "    <tr>\n",
       "      <th>4</th>\n",
       "      <td>5CT_0013.txt</td>\n",
       "      <td>P2</td>\n",
       "      <td>M</td>\n",
       "      <td>F</td>\n",
       "      <td>회사원</td>\n",
       "      <td>집에서 특별히 하는 일 없이 자연스러운 대화를 나누고 있음</td>\n",
       "      <td>30s</td>\n",
       "      <td>&lt;s n=\"00754\"&gt;\\\\\\\\r\\\\\\\\r\\\\\\\\r\\\\\\\\r\\\\\\\\r\\\\\\\\r\\\\\\...</td>\n",
       "    </tr>\n",
       "    <tr>\n",
       "      <th>5</th>\n",
       "      <td>5CT_0014.txt</td>\n",
       "      <td>P1</td>\n",
       "      <td>F</td>\n",
       "      <td>M</td>\n",
       "      <td>대학생</td>\n",
       "      <td>날씨에 대해 자연스러운 대화를 나누고 있음</td>\n",
       "      <td>20s</td>\n",
       "      <td>&lt;s n=\"00127\"&gt;\\\\\\\\r\\\\\\\\r\\\\\\\\r\\\\\\\\r\\\\\\\\r\\\\\\\\r\\\\\\...</td>\n",
       "    </tr>\n",
       "    <tr>\n",
       "      <th>6</th>\n",
       "      <td>5CT_0015.txt</td>\n",
       "      <td>P1</td>\n",
       "      <td>F</td>\n",
       "      <td>F</td>\n",
       "      <td>대학생</td>\n",
       "      <td>여자들이 물품 구입에 관한 대화를 나누고 있음</td>\n",
       "      <td>20s</td>\n",
       "      <td>&lt;s n=\"00195\"&gt;\\\\\\\\r\\\\\\\\r\\\\\\\\r\\\\\\\\r\\\\\\\\r\\\\\\\\r\\\\\\...</td>\n",
       "    </tr>\n",
       "    <tr>\n",
       "      <th>7</th>\n",
       "      <td>5CT_0015.txt</td>\n",
       "      <td>P1</td>\n",
       "      <td>F</td>\n",
       "      <td>F</td>\n",
       "      <td>대학생</td>\n",
       "      <td>여자들이 물품 구입에 관한 대화를 나누고 있음</td>\n",
       "      <td>20s</td>\n",
       "      <td>&lt;s n=\"00364\"&gt;\\\\\\\\r\\\\\\\\r\\\\\\\\r\\\\\\\\r\\\\\\\\r\\\\\\\\r\\\\\\...</td>\n",
       "    </tr>\n",
       "    <tr>\n",
       "      <th>8</th>\n",
       "      <td>5CT_0015.txt</td>\n",
       "      <td>P1</td>\n",
       "      <td>F</td>\n",
       "      <td>F</td>\n",
       "      <td>대학생</td>\n",
       "      <td>여자들이 물품 구입에 관한 대화를 나누고 있음</td>\n",
       "      <td>20s</td>\n",
       "      <td>&lt;s n=\"01205\"&gt;\\\\\\\\r\\\\\\\\r\\\\\\\\r\\\\\\\\r\\\\\\\\r\\\\\\\\r\\\\\\...</td>\n",
       "    </tr>\n",
       "    <tr>\n",
       "      <th>9</th>\n",
       "      <td>5CT_0015.txt</td>\n",
       "      <td>P2</td>\n",
       "      <td>F</td>\n",
       "      <td>F</td>\n",
       "      <td>대학원생</td>\n",
       "      <td>여자들이 물품 구입에 관한 대화를 나누고 있음</td>\n",
       "      <td>20s</td>\n",
       "      <td>&lt;s n=\"00530\"&gt;\\\\\\\\r\\\\\\\\r\\\\\\\\r\\\\\\\\r\\\\\\\\r\\\\\\\\r\\\\\\...</td>\n",
       "    </tr>\n",
       "    <tr>\n",
       "      <th>10</th>\n",
       "      <td>5CT_0015.txt</td>\n",
       "      <td>P2</td>\n",
       "      <td>F</td>\n",
       "      <td>F</td>\n",
       "      <td>대학원생</td>\n",
       "      <td>여자들이 물품 구입에 관한 대화를 나누고 있음</td>\n",
       "      <td>20s</td>\n",
       "      <td>&lt;s n=\"00690\"&gt;\\\\\\\\r\\\\\\\\r\\\\\\\\r\\\\\\\\r\\\\\\\\r\\\\\\\\r\\\\\\...</td>\n",
       "    </tr>\n",
       "    <tr>\n",
       "      <th>11</th>\n",
       "      <td>5CT_0016.txt</td>\n",
       "      <td>P1</td>\n",
       "      <td>F</td>\n",
       "      <td>다수</td>\n",
       "      <td>대학생</td>\n",
       "      <td>남녀가 미팅에서 만나 자연스러운 대화를 나누고 있음</td>\n",
       "      <td>20s</td>\n",
       "      <td>&lt;s n=\"00427\"&gt;\\\\\\\\r\\\\\\\\r\\\\\\\\r\\\\\\\\r\\\\\\\\r\\\\\\\\r\\\\\\...</td>\n",
       "    </tr>\n",
       "    <tr>\n",
       "      <th>12</th>\n",
       "      <td>5CT_0016.txt</td>\n",
       "      <td>P1</td>\n",
       "      <td>F</td>\n",
       "      <td>다수</td>\n",
       "      <td>대학생</td>\n",
       "      <td>남녀가 미팅에서 만나 자연스러운 대화를 나누고 있음</td>\n",
       "      <td>20s</td>\n",
       "      <td>&lt;s n=\"01881\"&gt;\\\\\\\\r\\\\\\\\r\\\\\\\\r\\\\\\\\r\\\\\\\\r\\\\\\\\r\\\\\\...</td>\n",
       "    </tr>\n",
       "    <tr>\n",
       "      <th>13</th>\n",
       "      <td>5CT_0016.txt</td>\n",
       "      <td>P1</td>\n",
       "      <td>F</td>\n",
       "      <td>다수</td>\n",
       "      <td>대학생</td>\n",
       "      <td>남녀가 미팅에서 만나 자연스러운 대화를 나누고 있음</td>\n",
       "      <td>20s</td>\n",
       "      <td>&lt;s n=\"02042\"&gt;\\\\\\\\r\\\\\\\\r\\\\\\\\r\\\\\\\\r\\\\\\\\r\\\\\\\\r\\\\\\...</td>\n",
       "    </tr>\n",
       "    <tr>\n",
       "      <th>14</th>\n",
       "      <td>5CT_0016.txt</td>\n",
       "      <td>P1</td>\n",
       "      <td>F</td>\n",
       "      <td>다수</td>\n",
       "      <td>대학생</td>\n",
       "      <td>남녀가 미팅에서 만나 자연스러운 대화를 나누고 있음</td>\n",
       "      <td>20s</td>\n",
       "      <td>&lt;s n=\"03244\"&gt;\\\\\\\\r\\\\\\\\r\\\\\\\\r\\\\\\\\r\\\\\\\\r\\\\\\\\r\\\\\\...</td>\n",
       "    </tr>\n",
       "    <tr>\n",
       "      <th>15</th>\n",
       "      <td>5CT_0016.txt</td>\n",
       "      <td>P2</td>\n",
       "      <td>F</td>\n",
       "      <td>다수</td>\n",
       "      <td>대학생</td>\n",
       "      <td>남녀가 미팅에서 만나 자연스러운 대화를 나누고 있음</td>\n",
       "      <td>20s</td>\n",
       "      <td>&lt;s n=\"03455\"&gt;\\\\\\\\r\\\\\\\\r\\\\\\\\r\\\\\\\\r\\\\\\\\r\\\\\\\\r\\\\\\...</td>\n",
       "    </tr>\n",
       "    <tr>\n",
       "      <th>16</th>\n",
       "      <td>5CT_0016.txt</td>\n",
       "      <td>P2</td>\n",
       "      <td>F</td>\n",
       "      <td>다수</td>\n",
       "      <td>대학생</td>\n",
       "      <td>남녀가 미팅에서 만나 자연스러운 대화를 나누고 있음</td>\n",
       "      <td>20s</td>\n",
       "      <td>&lt;s n=\"04040\"&gt;\\\\\\\\r\\\\\\\\r\\\\\\\\r\\\\\\\\r\\\\\\\\r\\\\\\\\r\\\\\\...</td>\n",
       "    </tr>\n",
       "    <tr>\n",
       "      <th>17</th>\n",
       "      <td>5CT_0016.txt</td>\n",
       "      <td>P3</td>\n",
       "      <td>F</td>\n",
       "      <td>다수</td>\n",
       "      <td>대학생</td>\n",
       "      <td>남녀가 미팅에서 만나 자연스러운 대화를 나누고 있음</td>\n",
       "      <td>20s</td>\n",
       "      <td>&lt;s n=\"02038\"&gt;\\\\\\\\r\\\\\\\\r\\\\\\\\r\\\\\\\\r\\\\\\\\r\\\\\\\\r\\\\\\...</td>\n",
       "    </tr>\n",
       "    <tr>\n",
       "      <th>18</th>\n",
       "      <td>5CT_0016.txt</td>\n",
       "      <td>P3</td>\n",
       "      <td>F</td>\n",
       "      <td>다수</td>\n",
       "      <td>대학생</td>\n",
       "      <td>남녀가 미팅에서 만나 자연스러운 대화를 나누고 있음</td>\n",
       "      <td>20s</td>\n",
       "      <td>&lt;s n=\"02936\"&gt;\\\\\\\\r\\\\\\\\r\\\\\\\\r\\\\\\\\r\\\\\\\\r\\\\\\\\r\\\\\\...</td>\n",
       "    </tr>\n",
       "    <tr>\n",
       "      <th>19</th>\n",
       "      <td>5CT_0016.txt</td>\n",
       "      <td>P4</td>\n",
       "      <td>M</td>\n",
       "      <td>다수</td>\n",
       "      <td>직장인</td>\n",
       "      <td>남녀가 미팅에서 만나 자연스러운 대화를 나누고 있음</td>\n",
       "      <td>20s</td>\n",
       "      <td>&lt;s n=\"00618\"&gt;\\\\\\\\r\\\\\\\\r\\\\\\\\r\\\\\\\\r\\\\\\\\r\\\\\\\\r\\\\\\...</td>\n",
       "    </tr>\n",
       "    <tr>\n",
       "      <th>20</th>\n",
       "      <td>5CT_0016.txt</td>\n",
       "      <td>P5</td>\n",
       "      <td>M</td>\n",
       "      <td>다수</td>\n",
       "      <td>직장인</td>\n",
       "      <td>남녀가 미팅에서 만나 자연스러운 대화를 나누고 있음</td>\n",
       "      <td>20s</td>\n",
       "      <td>&lt;s n=\"00629\"&gt;\\\\\\\\r\\\\\\\\r\\\\\\\\r\\\\\\\\r\\\\\\\\r\\\\\\\\r\\\\\\...</td>\n",
       "    </tr>\n",
       "    <tr>\n",
       "      <th>21</th>\n",
       "      <td>5CT_0016.txt</td>\n",
       "      <td>P5</td>\n",
       "      <td>M</td>\n",
       "      <td>다수</td>\n",
       "      <td>직장인</td>\n",
       "      <td>남녀가 미팅에서 만나 자연스러운 대화를 나누고 있음</td>\n",
       "      <td>20s</td>\n",
       "      <td>&lt;s n=\"01021\"&gt;\\\\\\\\r\\\\\\\\r\\\\\\\\r\\\\\\\\r\\\\\\\\r\\\\\\\\r\\\\\\...</td>\n",
       "    </tr>\n",
       "    <tr>\n",
       "      <th>22</th>\n",
       "      <td>5CT_0016.txt</td>\n",
       "      <td>P5</td>\n",
       "      <td>M</td>\n",
       "      <td>다수</td>\n",
       "      <td>직장인</td>\n",
       "      <td>남녀가 미팅에서 만나 자연스러운 대화를 나누고 있음</td>\n",
       "      <td>20s</td>\n",
       "      <td>&lt;s n=\"01027\"&gt;\\\\\\\\r\\\\\\\\r\\\\\\\\r\\\\\\\\r\\\\\\\\r\\\\\\\\r\\\\\\...</td>\n",
       "    </tr>\n",
       "    <tr>\n",
       "      <th>23</th>\n",
       "      <td>5CT_0016.txt</td>\n",
       "      <td>P5</td>\n",
       "      <td>M</td>\n",
       "      <td>다수</td>\n",
       "      <td>직장인</td>\n",
       "      <td>남녀가 미팅에서 만나 자연스러운 대화를 나누고 있음</td>\n",
       "      <td>20s</td>\n",
       "      <td>&lt;s n=\"03945\"&gt;\\\\\\\\r\\\\\\\\r\\\\\\\\r\\\\\\\\r\\\\\\\\r\\\\\\\\r\\\\\\...</td>\n",
       "    </tr>\n",
       "    <tr>\n",
       "      <th>24</th>\n",
       "      <td>5CT_0016.txt</td>\n",
       "      <td>P6</td>\n",
       "      <td>M</td>\n",
       "      <td>다수</td>\n",
       "      <td>직장인</td>\n",
       "      <td>남녀가 미팅에서 만나 자연스러운 대화를 나누고 있음</td>\n",
       "      <td>20s</td>\n",
       "      <td>&lt;s n=\"00075\"&gt;\\\\\\\\r\\\\\\\\r\\\\\\\\r\\\\\\\\r\\\\\\\\r\\\\\\\\r\\\\\\...</td>\n",
       "    </tr>\n",
       "    <tr>\n",
       "      <th>25</th>\n",
       "      <td>5CT_0016.txt</td>\n",
       "      <td>P6</td>\n",
       "      <td>M</td>\n",
       "      <td>다수</td>\n",
       "      <td>직장인</td>\n",
       "      <td>남녀가 미팅에서 만나 자연스러운 대화를 나누고 있음</td>\n",
       "      <td>20s</td>\n",
       "      <td>&lt;s n=\"00423\"&gt;\\\\\\\\r\\\\\\\\r\\\\\\\\r\\\\\\\\r\\\\\\\\r\\\\\\\\r\\\\\\...</td>\n",
       "    </tr>\n",
       "    <tr>\n",
       "      <th>26</th>\n",
       "      <td>5CT_0016.txt</td>\n",
       "      <td>P6</td>\n",
       "      <td>M</td>\n",
       "      <td>다수</td>\n",
       "      <td>직장인</td>\n",
       "      <td>남녀가 미팅에서 만나 자연스러운 대화를 나누고 있음</td>\n",
       "      <td>20s</td>\n",
       "      <td>&lt;s n=\"04360\"&gt;\\\\\\\\r\\\\\\\\r\\\\\\\\r\\\\\\\\r\\\\\\\\r\\\\\\\\r\\\\\\...</td>\n",
       "    </tr>\n",
       "    <tr>\n",
       "      <th>27</th>\n",
       "      <td>5CT_0017.txt</td>\n",
       "      <td>P1</td>\n",
       "      <td>F</td>\n",
       "      <td>다수</td>\n",
       "      <td>직장인</td>\n",
       "      <td>직장인 남녀가 저녁에 만나 직장일과 세상일에 관한 얘기를 한다.</td>\n",
       "      <td>20s</td>\n",
       "      <td>&lt;s n=\"01234\"&gt;\\\\\\\\r\\\\\\\\r\\\\\\\\r\\\\\\\\r\\\\\\\\r\\\\\\\\r\\\\\\...</td>\n",
       "    </tr>\n",
       "    <tr>\n",
       "      <th>28</th>\n",
       "      <td>5CT_0017.txt</td>\n",
       "      <td>P1</td>\n",
       "      <td>F</td>\n",
       "      <td>다수</td>\n",
       "      <td>직장인</td>\n",
       "      <td>직장인 남녀가 저녁에 만나 직장일과 세상일에 관한 얘기를 한다.</td>\n",
       "      <td>20s</td>\n",
       "      <td>&lt;s n=\"01341\"&gt;\\\\\\\\r\\\\\\\\r\\\\\\\\r\\\\\\\\r\\\\\\\\r\\\\\\\\r\\\\\\...</td>\n",
       "    </tr>\n",
       "    <tr>\n",
       "      <th>29</th>\n",
       "      <td>5CT_0017.txt</td>\n",
       "      <td>P1</td>\n",
       "      <td>F</td>\n",
       "      <td>다수</td>\n",
       "      <td>직장인</td>\n",
       "      <td>직장인 남녀가 저녁에 만나 직장일과 세상일에 관한 얘기를 한다.</td>\n",
       "      <td>20s</td>\n",
       "      <td>&lt;s n=\"04317\"&gt;\\\\\\\\r\\\\\\\\r\\\\\\\\r\\\\\\\\r\\\\\\\\r\\\\\\\\r\\\\\\...</td>\n",
       "    </tr>\n",
       "    <tr>\n",
       "      <th>...</th>\n",
       "      <td>...</td>\n",
       "      <td>...</td>\n",
       "      <td>...</td>\n",
       "      <td>...</td>\n",
       "      <td>...</td>\n",
       "      <td>...</td>\n",
       "      <td>...</td>\n",
       "      <td>...</td>\n",
       "    </tr>\n",
       "    <tr>\n",
       "      <th>2488</th>\n",
       "      <td>9CT_0012.txt</td>\n",
       "      <td>P1</td>\n",
       "      <td>M</td>\n",
       "      <td>다수</td>\n",
       "      <td>목사</td>\n",
       "      <td>교회에서 목사가 설교를 하고 있음</td>\n",
       "      <td>30s</td>\n",
       "      <td>&lt;s n=\"00649\"&gt;\\\\\\\\r\\\\\\\\r\\\\\\\\r\\\\\\\\r\\\\\\\\r\\\\\\\\r\\\\\\...</td>\n",
       "    </tr>\n",
       "    <tr>\n",
       "      <th>2489</th>\n",
       "      <td>9CT_0012.txt</td>\n",
       "      <td>P1</td>\n",
       "      <td>M</td>\n",
       "      <td>다수</td>\n",
       "      <td>목사</td>\n",
       "      <td>교회에서 목사가 설교를 하고 있음</td>\n",
       "      <td>30s</td>\n",
       "      <td>&lt;s n=\"00853\"&gt;\\\\\\\\r\\\\\\\\r\\\\\\\\r\\\\\\\\r\\\\\\\\r\\\\\\\\r\\\\\\...</td>\n",
       "    </tr>\n",
       "    <tr>\n",
       "      <th>2490</th>\n",
       "      <td>9CT_0012.txt</td>\n",
       "      <td>P1</td>\n",
       "      <td>M</td>\n",
       "      <td>다수</td>\n",
       "      <td>목사</td>\n",
       "      <td>교회에서 목사가 설교를 하고 있음</td>\n",
       "      <td>30s</td>\n",
       "      <td>&lt;s n=\"00935\"&gt;\\\\\\\\r\\\\\\\\r\\\\\\\\r\\\\\\\\r\\\\\\\\r\\\\\\\\r\\\\\\...</td>\n",
       "    </tr>\n",
       "    <tr>\n",
       "      <th>2491</th>\n",
       "      <td>9CT_0012.txt</td>\n",
       "      <td>P1</td>\n",
       "      <td>M</td>\n",
       "      <td>다수</td>\n",
       "      <td>목사</td>\n",
       "      <td>교회에서 목사가 설교를 하고 있음</td>\n",
       "      <td>30s</td>\n",
       "      <td>&lt;s n=\"01167\"&gt;\\\\\\\\r\\\\\\\\r\\\\\\\\r\\\\\\\\r\\\\\\\\r\\\\\\\\r\\\\\\...</td>\n",
       "    </tr>\n",
       "    <tr>\n",
       "      <th>2492</th>\n",
       "      <td>9CT_0013.txt</td>\n",
       "      <td>P1</td>\n",
       "      <td>M</td>\n",
       "      <td>다수</td>\n",
       "      <td>목사</td>\n",
       "      <td>교회에서 목사가 설교를 하고 있음</td>\n",
       "      <td>30s</td>\n",
       "      <td>&lt;s n=\"00149\"&gt;\\\\\\\\r\\\\\\\\r\\\\\\\\r\\\\\\\\r\\\\\\\\r\\\\\\\\r\\\\\\...</td>\n",
       "    </tr>\n",
       "    <tr>\n",
       "      <th>2493</th>\n",
       "      <td>9CT_0013.txt</td>\n",
       "      <td>P1</td>\n",
       "      <td>M</td>\n",
       "      <td>다수</td>\n",
       "      <td>목사</td>\n",
       "      <td>교회에서 목사가 설교를 하고 있음</td>\n",
       "      <td>30s</td>\n",
       "      <td>&lt;s n=\"00185\"&gt;\\\\\\\\r\\\\\\\\r\\\\\\\\r\\\\\\\\r\\\\\\\\r\\\\\\\\r\\\\\\...</td>\n",
       "    </tr>\n",
       "    <tr>\n",
       "      <th>2494</th>\n",
       "      <td>9CT_0013.txt</td>\n",
       "      <td>P1</td>\n",
       "      <td>M</td>\n",
       "      <td>다수</td>\n",
       "      <td>목사</td>\n",
       "      <td>교회에서 목사가 설교를 하고 있음</td>\n",
       "      <td>30s</td>\n",
       "      <td>&lt;s n=\"00288\"&gt;\\\\\\\\r\\\\\\\\r\\\\\\\\r\\\\\\\\r\\\\\\\\r\\\\\\\\r\\\\\\...</td>\n",
       "    </tr>\n",
       "    <tr>\n",
       "      <th>2495</th>\n",
       "      <td>9CT_0013.txt</td>\n",
       "      <td>P1</td>\n",
       "      <td>M</td>\n",
       "      <td>다수</td>\n",
       "      <td>목사</td>\n",
       "      <td>교회에서 목사가 설교를 하고 있음</td>\n",
       "      <td>30s</td>\n",
       "      <td>&lt;s n=\"00344\"&gt;\\\\\\\\r\\\\\\\\r\\\\\\\\r\\\\\\\\r\\\\\\\\r\\\\\\\\r\\\\\\...</td>\n",
       "    </tr>\n",
       "    <tr>\n",
       "      <th>2496</th>\n",
       "      <td>9CT_0013.txt</td>\n",
       "      <td>P1</td>\n",
       "      <td>M</td>\n",
       "      <td>다수</td>\n",
       "      <td>목사</td>\n",
       "      <td>교회에서 목사가 설교를 하고 있음</td>\n",
       "      <td>30s</td>\n",
       "      <td>&lt;s n=\"00547\"&gt;\\\\\\\\r\\\\\\\\r\\\\\\\\r\\\\\\\\r\\\\\\\\r\\\\\\\\r\\\\\\...</td>\n",
       "    </tr>\n",
       "    <tr>\n",
       "      <th>2497</th>\n",
       "      <td>9CT_0013.txt</td>\n",
       "      <td>P1</td>\n",
       "      <td>M</td>\n",
       "      <td>다수</td>\n",
       "      <td>목사</td>\n",
       "      <td>교회에서 목사가 설교를 하고 있음</td>\n",
       "      <td>30s</td>\n",
       "      <td>&lt;s n=\"00553\"&gt;\\\\\\\\r\\\\\\\\r\\\\\\\\r\\\\\\\\r\\\\\\\\r\\\\\\\\r\\\\\\...</td>\n",
       "    </tr>\n",
       "    <tr>\n",
       "      <th>2498</th>\n",
       "      <td>9CT_0013.txt</td>\n",
       "      <td>P1</td>\n",
       "      <td>M</td>\n",
       "      <td>다수</td>\n",
       "      <td>목사</td>\n",
       "      <td>교회에서 목사가 설교를 하고 있음</td>\n",
       "      <td>30s</td>\n",
       "      <td>&lt;s n=\"00845\"&gt;\\\\\\\\r\\\\\\\\r\\\\\\\\r\\\\\\\\r\\\\\\\\r\\\\\\\\r\\\\\\...</td>\n",
       "    </tr>\n",
       "    <tr>\n",
       "      <th>2499</th>\n",
       "      <td>9CT_0013.txt</td>\n",
       "      <td>P1</td>\n",
       "      <td>M</td>\n",
       "      <td>다수</td>\n",
       "      <td>목사</td>\n",
       "      <td>교회에서 목사가 설교를 하고 있음</td>\n",
       "      <td>30s</td>\n",
       "      <td>&lt;s n=\"00901\"&gt;\\\\\\\\r\\\\\\\\r\\\\\\\\r\\\\\\\\r\\\\\\\\r\\\\\\\\r\\\\\\...</td>\n",
       "    </tr>\n",
       "    <tr>\n",
       "      <th>2500</th>\n",
       "      <td>9CT_0013.txt</td>\n",
       "      <td>P1</td>\n",
       "      <td>M</td>\n",
       "      <td>다수</td>\n",
       "      <td>목사</td>\n",
       "      <td>교회에서 목사가 설교를 하고 있음</td>\n",
       "      <td>30s</td>\n",
       "      <td>&lt;s n=\"00970\"&gt;\\\\\\\\r\\\\\\\\r\\\\\\\\r\\\\\\\\r\\\\\\\\r\\\\\\\\r\\\\\\...</td>\n",
       "    </tr>\n",
       "    <tr>\n",
       "      <th>2501</th>\n",
       "      <td>9CT_0013.txt</td>\n",
       "      <td>P1</td>\n",
       "      <td>M</td>\n",
       "      <td>다수</td>\n",
       "      <td>목사</td>\n",
       "      <td>교회에서 목사가 설교를 하고 있음</td>\n",
       "      <td>30s</td>\n",
       "      <td>&lt;s n=\"01003\"&gt;\\\\\\\\r\\\\\\\\r\\\\\\\\r\\\\\\\\r\\\\\\\\r\\\\\\\\r\\\\\\...</td>\n",
       "    </tr>\n",
       "    <tr>\n",
       "      <th>2502</th>\n",
       "      <td>9CT_0013.txt</td>\n",
       "      <td>P1</td>\n",
       "      <td>M</td>\n",
       "      <td>다수</td>\n",
       "      <td>목사</td>\n",
       "      <td>교회에서 목사가 설교를 하고 있음</td>\n",
       "      <td>30s</td>\n",
       "      <td>&lt;s n=\"01013\"&gt;\\\\\\\\r\\\\\\\\r\\\\\\\\r\\\\\\\\r\\\\\\\\r\\\\\\\\r\\\\\\...</td>\n",
       "    </tr>\n",
       "    <tr>\n",
       "      <th>2503</th>\n",
       "      <td>9CT_0013.txt</td>\n",
       "      <td>P1</td>\n",
       "      <td>M</td>\n",
       "      <td>다수</td>\n",
       "      <td>목사</td>\n",
       "      <td>교회에서 목사가 설교를 하고 있음</td>\n",
       "      <td>30s</td>\n",
       "      <td>&lt;s n=\"01018\"&gt;\\\\\\\\r\\\\\\\\r\\\\\\\\r\\\\\\\\r\\\\\\\\r\\\\\\\\r\\\\\\...</td>\n",
       "    </tr>\n",
       "    <tr>\n",
       "      <th>2504</th>\n",
       "      <td>9CT_0013.txt</td>\n",
       "      <td>P1</td>\n",
       "      <td>M</td>\n",
       "      <td>다수</td>\n",
       "      <td>목사</td>\n",
       "      <td>교회에서 목사가 설교를 하고 있음</td>\n",
       "      <td>30s</td>\n",
       "      <td>&lt;s n=\"01021\"&gt;\\\\\\\\r\\\\\\\\r\\\\\\\\r\\\\\\\\r\\\\\\\\r\\\\\\\\r\\\\\\...</td>\n",
       "    </tr>\n",
       "    <tr>\n",
       "      <th>2505</th>\n",
       "      <td>9CT_0013.txt</td>\n",
       "      <td>P1</td>\n",
       "      <td>M</td>\n",
       "      <td>다수</td>\n",
       "      <td>목사</td>\n",
       "      <td>교회에서 목사가 설교를 하고 있음</td>\n",
       "      <td>30s</td>\n",
       "      <td>&lt;s n=\"01023\"&gt;\\\\\\\\r\\\\\\\\r\\\\\\\\r\\\\\\\\r\\\\\\\\r\\\\\\\\r\\\\\\...</td>\n",
       "    </tr>\n",
       "    <tr>\n",
       "      <th>2506</th>\n",
       "      <td>9CT_0013.txt</td>\n",
       "      <td>P1</td>\n",
       "      <td>M</td>\n",
       "      <td>다수</td>\n",
       "      <td>목사</td>\n",
       "      <td>교회에서 목사가 설교를 하고 있음</td>\n",
       "      <td>30s</td>\n",
       "      <td>&lt;s n=\"01025\"&gt;\\\\\\\\r\\\\\\\\r\\\\\\\\r\\\\\\\\r\\\\\\\\r\\\\\\\\r\\\\\\...</td>\n",
       "    </tr>\n",
       "    <tr>\n",
       "      <th>2507</th>\n",
       "      <td>9CT_0013.txt</td>\n",
       "      <td>P1</td>\n",
       "      <td>M</td>\n",
       "      <td>다수</td>\n",
       "      <td>목사</td>\n",
       "      <td>교회에서 목사가 설교를 하고 있음</td>\n",
       "      <td>30s</td>\n",
       "      <td>&lt;s n=\"01027\"&gt;\\\\\\\\r\\\\\\\\r\\\\\\\\r\\\\\\\\r\\\\\\\\r\\\\\\\\r\\\\\\...</td>\n",
       "    </tr>\n",
       "    <tr>\n",
       "      <th>2508</th>\n",
       "      <td>9CT_0013.txt</td>\n",
       "      <td>P1</td>\n",
       "      <td>M</td>\n",
       "      <td>다수</td>\n",
       "      <td>목사</td>\n",
       "      <td>교회에서 목사가 설교를 하고 있음</td>\n",
       "      <td>30s</td>\n",
       "      <td>&lt;s n=\"01111\"&gt;\\\\\\\\r\\\\\\\\r\\\\\\\\r\\\\\\\\r\\\\\\\\r\\\\\\\\r\\\\\\...</td>\n",
       "    </tr>\n",
       "    <tr>\n",
       "      <th>2509</th>\n",
       "      <td>9CT_0013.txt</td>\n",
       "      <td>P1</td>\n",
       "      <td>M</td>\n",
       "      <td>다수</td>\n",
       "      <td>목사</td>\n",
       "      <td>교회에서 목사가 설교를 하고 있음</td>\n",
       "      <td>30s</td>\n",
       "      <td>&lt;s n=\"01131\"&gt;\\\\\\\\r\\\\\\\\r\\\\\\\\r\\\\\\\\r\\\\\\\\r\\\\\\\\r\\\\\\...</td>\n",
       "    </tr>\n",
       "    <tr>\n",
       "      <th>2510</th>\n",
       "      <td>9CT_0013.txt</td>\n",
       "      <td>P1</td>\n",
       "      <td>M</td>\n",
       "      <td>다수</td>\n",
       "      <td>목사</td>\n",
       "      <td>교회에서 목사가 설교를 하고 있음</td>\n",
       "      <td>30s</td>\n",
       "      <td>&lt;s n=\"01406\"&gt;\\\\\\\\r\\\\\\\\r\\\\\\\\r\\\\\\\\r\\\\\\\\r\\\\\\\\r\\\\\\...</td>\n",
       "    </tr>\n",
       "    <tr>\n",
       "      <th>2511</th>\n",
       "      <td>9CT_0013.txt</td>\n",
       "      <td>P1</td>\n",
       "      <td>M</td>\n",
       "      <td>다수</td>\n",
       "      <td>목사</td>\n",
       "      <td>교회에서 목사가 설교를 하고 있음</td>\n",
       "      <td>30s</td>\n",
       "      <td>&lt;s n=\"01445\"&gt;\\\\\\\\r\\\\\\\\r\\\\\\\\r\\\\\\\\r\\\\\\\\r\\\\\\\\r\\\\\\...</td>\n",
       "    </tr>\n",
       "    <tr>\n",
       "      <th>2512</th>\n",
       "      <td>9CT_0013.txt</td>\n",
       "      <td>P1</td>\n",
       "      <td>M</td>\n",
       "      <td>다수</td>\n",
       "      <td>목사</td>\n",
       "      <td>교회에서 목사가 설교를 하고 있음</td>\n",
       "      <td>30s</td>\n",
       "      <td>&lt;s n=\"01562\"&gt;\\\\\\\\r\\\\\\\\r\\\\\\\\r\\\\\\\\r\\\\\\\\r\\\\\\\\r\\\\\\...</td>\n",
       "    </tr>\n",
       "    <tr>\n",
       "      <th>2513</th>\n",
       "      <td>9CT_0013.txt</td>\n",
       "      <td>P1</td>\n",
       "      <td>M</td>\n",
       "      <td>다수</td>\n",
       "      <td>목사</td>\n",
       "      <td>교회에서 목사가 설교를 하고 있음</td>\n",
       "      <td>30s</td>\n",
       "      <td>&lt;s n=\"01570\"&gt;\\\\\\\\r\\\\\\\\r\\\\\\\\r\\\\\\\\r\\\\\\\\r\\\\\\\\r\\\\\\...</td>\n",
       "    </tr>\n",
       "    <tr>\n",
       "      <th>2514</th>\n",
       "      <td>9CT_0013.txt</td>\n",
       "      <td>P1</td>\n",
       "      <td>M</td>\n",
       "      <td>다수</td>\n",
       "      <td>목사</td>\n",
       "      <td>교회에서 목사가 설교를 하고 있음</td>\n",
       "      <td>30s</td>\n",
       "      <td>&lt;s n=\"01593\"&gt;\\\\\\\\r\\\\\\\\r\\\\\\\\r\\\\\\\\r\\\\\\\\r\\\\\\\\r\\\\\\...</td>\n",
       "    </tr>\n",
       "    <tr>\n",
       "      <th>2515</th>\n",
       "      <td>9CT_0013.txt</td>\n",
       "      <td>P1</td>\n",
       "      <td>M</td>\n",
       "      <td>다수</td>\n",
       "      <td>목사</td>\n",
       "      <td>교회에서 목사가 설교를 하고 있음</td>\n",
       "      <td>30s</td>\n",
       "      <td>&lt;s n=\"01615\"&gt;\\\\\\\\r\\\\\\\\r\\\\\\\\r\\\\\\\\r\\\\\\\\r\\\\\\\\r\\\\\\...</td>\n",
       "    </tr>\n",
       "    <tr>\n",
       "      <th>2516</th>\n",
       "      <td>9CT_0013.txt</td>\n",
       "      <td>P1</td>\n",
       "      <td>M</td>\n",
       "      <td>다수</td>\n",
       "      <td>목사</td>\n",
       "      <td>교회에서 목사가 설교를 하고 있음</td>\n",
       "      <td>30s</td>\n",
       "      <td>&lt;s n=\"01668\"&gt;\\\\\\\\r\\\\\\\\r\\\\\\\\r\\\\\\\\r\\\\\\\\r\\\\\\\\r\\\\\\...</td>\n",
       "    </tr>\n",
       "    <tr>\n",
       "      <th>2517</th>\n",
       "      <td>9CT_0013.txt</td>\n",
       "      <td>P1</td>\n",
       "      <td>M</td>\n",
       "      <td>다수</td>\n",
       "      <td>목사</td>\n",
       "      <td>교회에서 목사가 설교를 하고 있음</td>\n",
       "      <td>30s</td>\n",
       "      <td>&lt;s n=\"01717\"&gt;\\\\\\\\r\\\\\\\\r\\\\\\\\r\\\\\\\\r\\\\\\\\r\\\\\\\\r\\\\\\...</td>\n",
       "    </tr>\n",
       "  </tbody>\n",
       "</table>\n",
       "<p>2518 rows × 8 columns</p>\n",
       "</div>"
      ],
      "text/plain": [
       "          filename speaker gender listener   job  \\\n",
       "0     5CT_0013.txt      P1      F        M  대학원생   \n",
       "1     5CT_0013.txt      P2      M        F   회사원   \n",
       "2     5CT_0013.txt      P2      M        F   회사원   \n",
       "3     5CT_0013.txt      P2      M        F   회사원   \n",
       "4     5CT_0013.txt      P2      M        F   회사원   \n",
       "5     5CT_0014.txt      P1      F        M   대학생   \n",
       "6     5CT_0015.txt      P1      F        F   대학생   \n",
       "7     5CT_0015.txt      P1      F        F   대학생   \n",
       "8     5CT_0015.txt      P1      F        F   대학생   \n",
       "9     5CT_0015.txt      P2      F        F  대학원생   \n",
       "10    5CT_0015.txt      P2      F        F  대학원생   \n",
       "11    5CT_0016.txt      P1      F       다수   대학생   \n",
       "12    5CT_0016.txt      P1      F       다수   대학생   \n",
       "13    5CT_0016.txt      P1      F       다수   대학생   \n",
       "14    5CT_0016.txt      P1      F       다수   대학생   \n",
       "15    5CT_0016.txt      P2      F       다수   대학생   \n",
       "16    5CT_0016.txt      P2      F       다수   대학생   \n",
       "17    5CT_0016.txt      P3      F       다수   대학생   \n",
       "18    5CT_0016.txt      P3      F       다수   대학생   \n",
       "19    5CT_0016.txt      P4      M       다수   직장인   \n",
       "20    5CT_0016.txt      P5      M       다수   직장인   \n",
       "21    5CT_0016.txt      P5      M       다수   직장인   \n",
       "22    5CT_0016.txt      P5      M       다수   직장인   \n",
       "23    5CT_0016.txt      P5      M       다수   직장인   \n",
       "24    5CT_0016.txt      P6      M       다수   직장인   \n",
       "25    5CT_0016.txt      P6      M       다수   직장인   \n",
       "26    5CT_0016.txt      P6      M       다수   직장인   \n",
       "27    5CT_0017.txt      P1      F       다수   직장인   \n",
       "28    5CT_0017.txt      P1      F       다수   직장인   \n",
       "29    5CT_0017.txt      P1      F       다수   직장인   \n",
       "...            ...     ...    ...      ...   ...   \n",
       "2488  9CT_0012.txt      P1      M       다수    목사   \n",
       "2489  9CT_0012.txt      P1      M       다수    목사   \n",
       "2490  9CT_0012.txt      P1      M       다수    목사   \n",
       "2491  9CT_0012.txt      P1      M       다수    목사   \n",
       "2492  9CT_0013.txt      P1      M       다수    목사   \n",
       "2493  9CT_0013.txt      P1      M       다수    목사   \n",
       "2494  9CT_0013.txt      P1      M       다수    목사   \n",
       "2495  9CT_0013.txt      P1      M       다수    목사   \n",
       "2496  9CT_0013.txt      P1      M       다수    목사   \n",
       "2497  9CT_0013.txt      P1      M       다수    목사   \n",
       "2498  9CT_0013.txt      P1      M       다수    목사   \n",
       "2499  9CT_0013.txt      P1      M       다수    목사   \n",
       "2500  9CT_0013.txt      P1      M       다수    목사   \n",
       "2501  9CT_0013.txt      P1      M       다수    목사   \n",
       "2502  9CT_0013.txt      P1      M       다수    목사   \n",
       "2503  9CT_0013.txt      P1      M       다수    목사   \n",
       "2504  9CT_0013.txt      P1      M       다수    목사   \n",
       "2505  9CT_0013.txt      P1      M       다수    목사   \n",
       "2506  9CT_0013.txt      P1      M       다수    목사   \n",
       "2507  9CT_0013.txt      P1      M       다수    목사   \n",
       "2508  9CT_0013.txt      P1      M       다수    목사   \n",
       "2509  9CT_0013.txt      P1      M       다수    목사   \n",
       "2510  9CT_0013.txt      P1      M       다수    목사   \n",
       "2511  9CT_0013.txt      P1      M       다수    목사   \n",
       "2512  9CT_0013.txt      P1      M       다수    목사   \n",
       "2513  9CT_0013.txt      P1      M       다수    목사   \n",
       "2514  9CT_0013.txt      P1      M       다수    목사   \n",
       "2515  9CT_0013.txt      P1      M       다수    목사   \n",
       "2516  9CT_0013.txt      P1      M       다수    목사   \n",
       "2517  9CT_0013.txt      P1      M       다수    목사   \n",
       "\n",
       "                                  setting  age  \\\n",
       "0        집에서 특별히 하는 일 없이 자연스러운 대화를 나누고 있음  30s   \n",
       "1        집에서 특별히 하는 일 없이 자연스러운 대화를 나누고 있음  30s   \n",
       "2        집에서 특별히 하는 일 없이 자연스러운 대화를 나누고 있음  30s   \n",
       "3        집에서 특별히 하는 일 없이 자연스러운 대화를 나누고 있음  30s   \n",
       "4        집에서 특별히 하는 일 없이 자연스러운 대화를 나누고 있음  30s   \n",
       "5                 날씨에 대해 자연스러운 대화를 나누고 있음  20s   \n",
       "6               여자들이 물품 구입에 관한 대화를 나누고 있음  20s   \n",
       "7               여자들이 물품 구입에 관한 대화를 나누고 있음  20s   \n",
       "8               여자들이 물품 구입에 관한 대화를 나누고 있음  20s   \n",
       "9               여자들이 물품 구입에 관한 대화를 나누고 있음  20s   \n",
       "10              여자들이 물품 구입에 관한 대화를 나누고 있음  20s   \n",
       "11           남녀가 미팅에서 만나 자연스러운 대화를 나누고 있음  20s   \n",
       "12           남녀가 미팅에서 만나 자연스러운 대화를 나누고 있음  20s   \n",
       "13           남녀가 미팅에서 만나 자연스러운 대화를 나누고 있음  20s   \n",
       "14           남녀가 미팅에서 만나 자연스러운 대화를 나누고 있음  20s   \n",
       "15           남녀가 미팅에서 만나 자연스러운 대화를 나누고 있음  20s   \n",
       "16           남녀가 미팅에서 만나 자연스러운 대화를 나누고 있음  20s   \n",
       "17           남녀가 미팅에서 만나 자연스러운 대화를 나누고 있음  20s   \n",
       "18           남녀가 미팅에서 만나 자연스러운 대화를 나누고 있음  20s   \n",
       "19           남녀가 미팅에서 만나 자연스러운 대화를 나누고 있음  20s   \n",
       "20           남녀가 미팅에서 만나 자연스러운 대화를 나누고 있음  20s   \n",
       "21           남녀가 미팅에서 만나 자연스러운 대화를 나누고 있음  20s   \n",
       "22           남녀가 미팅에서 만나 자연스러운 대화를 나누고 있음  20s   \n",
       "23           남녀가 미팅에서 만나 자연스러운 대화를 나누고 있음  20s   \n",
       "24           남녀가 미팅에서 만나 자연스러운 대화를 나누고 있음  20s   \n",
       "25           남녀가 미팅에서 만나 자연스러운 대화를 나누고 있음  20s   \n",
       "26           남녀가 미팅에서 만나 자연스러운 대화를 나누고 있음  20s   \n",
       "27    직장인 남녀가 저녁에 만나 직장일과 세상일에 관한 얘기를 한다.  20s   \n",
       "28    직장인 남녀가 저녁에 만나 직장일과 세상일에 관한 얘기를 한다.  20s   \n",
       "29    직장인 남녀가 저녁에 만나 직장일과 세상일에 관한 얘기를 한다.  20s   \n",
       "...                                   ...  ...   \n",
       "2488                   교회에서 목사가 설교를 하고 있음  30s   \n",
       "2489                   교회에서 목사가 설교를 하고 있음  30s   \n",
       "2490                   교회에서 목사가 설교를 하고 있음  30s   \n",
       "2491                   교회에서 목사가 설교를 하고 있음  30s   \n",
       "2492                   교회에서 목사가 설교를 하고 있음  30s   \n",
       "2493                   교회에서 목사가 설교를 하고 있음  30s   \n",
       "2494                   교회에서 목사가 설교를 하고 있음  30s   \n",
       "2495                   교회에서 목사가 설교를 하고 있음  30s   \n",
       "2496                   교회에서 목사가 설교를 하고 있음  30s   \n",
       "2497                   교회에서 목사가 설교를 하고 있음  30s   \n",
       "2498                   교회에서 목사가 설교를 하고 있음  30s   \n",
       "2499                   교회에서 목사가 설교를 하고 있음  30s   \n",
       "2500                   교회에서 목사가 설교를 하고 있음  30s   \n",
       "2501                   교회에서 목사가 설교를 하고 있음  30s   \n",
       "2502                   교회에서 목사가 설교를 하고 있음  30s   \n",
       "2503                   교회에서 목사가 설교를 하고 있음  30s   \n",
       "2504                   교회에서 목사가 설교를 하고 있음  30s   \n",
       "2505                   교회에서 목사가 설교를 하고 있음  30s   \n",
       "2506                   교회에서 목사가 설교를 하고 있음  30s   \n",
       "2507                   교회에서 목사가 설교를 하고 있음  30s   \n",
       "2508                   교회에서 목사가 설교를 하고 있음  30s   \n",
       "2509                   교회에서 목사가 설교를 하고 있음  30s   \n",
       "2510                   교회에서 목사가 설교를 하고 있음  30s   \n",
       "2511                   교회에서 목사가 설교를 하고 있음  30s   \n",
       "2512                   교회에서 목사가 설교를 하고 있음  30s   \n",
       "2513                   교회에서 목사가 설교를 하고 있음  30s   \n",
       "2514                   교회에서 목사가 설교를 하고 있음  30s   \n",
       "2515                   교회에서 목사가 설교를 하고 있음  30s   \n",
       "2516                   교회에서 목사가 설교를 하고 있음  30s   \n",
       "2517                   교회에서 목사가 설교를 하고 있음  30s   \n",
       "\n",
       "                                             new_speech  \n",
       "0     <s n=\"00196\">\\\\\\\\r\\\\\\\\r\\\\\\\\r\\\\\\\\r\\\\\\\\r\\\\\\\\r\\\\\\...  \n",
       "1     <s n=\"00742\">\\\\\\\\r\\\\\\\\r\\\\\\\\r\\\\\\\\r\\\\\\\\r\\\\\\\\r\\\\\\...  \n",
       "2     <s n=\"00748\">\\\\\\\\r\\\\\\\\r\\\\\\\\r\\\\\\\\r\\\\\\\\r\\\\\\\\r\\\\\\...  \n",
       "3     <s n=\"00752\">\\\\\\\\r\\\\\\\\r\\\\\\\\r\\\\\\\\r\\\\\\\\r\\\\\\\\r\\\\\\...  \n",
       "4     <s n=\"00754\">\\\\\\\\r\\\\\\\\r\\\\\\\\r\\\\\\\\r\\\\\\\\r\\\\\\\\r\\\\\\...  \n",
       "5     <s n=\"00127\">\\\\\\\\r\\\\\\\\r\\\\\\\\r\\\\\\\\r\\\\\\\\r\\\\\\\\r\\\\\\...  \n",
       "6     <s n=\"00195\">\\\\\\\\r\\\\\\\\r\\\\\\\\r\\\\\\\\r\\\\\\\\r\\\\\\\\r\\\\\\...  \n",
       "7     <s n=\"00364\">\\\\\\\\r\\\\\\\\r\\\\\\\\r\\\\\\\\r\\\\\\\\r\\\\\\\\r\\\\\\...  \n",
       "8     <s n=\"01205\">\\\\\\\\r\\\\\\\\r\\\\\\\\r\\\\\\\\r\\\\\\\\r\\\\\\\\r\\\\\\...  \n",
       "9     <s n=\"00530\">\\\\\\\\r\\\\\\\\r\\\\\\\\r\\\\\\\\r\\\\\\\\r\\\\\\\\r\\\\\\...  \n",
       "10    <s n=\"00690\">\\\\\\\\r\\\\\\\\r\\\\\\\\r\\\\\\\\r\\\\\\\\r\\\\\\\\r\\\\\\...  \n",
       "11    <s n=\"00427\">\\\\\\\\r\\\\\\\\r\\\\\\\\r\\\\\\\\r\\\\\\\\r\\\\\\\\r\\\\\\...  \n",
       "12    <s n=\"01881\">\\\\\\\\r\\\\\\\\r\\\\\\\\r\\\\\\\\r\\\\\\\\r\\\\\\\\r\\\\\\...  \n",
       "13    <s n=\"02042\">\\\\\\\\r\\\\\\\\r\\\\\\\\r\\\\\\\\r\\\\\\\\r\\\\\\\\r\\\\\\...  \n",
       "14    <s n=\"03244\">\\\\\\\\r\\\\\\\\r\\\\\\\\r\\\\\\\\r\\\\\\\\r\\\\\\\\r\\\\\\...  \n",
       "15    <s n=\"03455\">\\\\\\\\r\\\\\\\\r\\\\\\\\r\\\\\\\\r\\\\\\\\r\\\\\\\\r\\\\\\...  \n",
       "16    <s n=\"04040\">\\\\\\\\r\\\\\\\\r\\\\\\\\r\\\\\\\\r\\\\\\\\r\\\\\\\\r\\\\\\...  \n",
       "17    <s n=\"02038\">\\\\\\\\r\\\\\\\\r\\\\\\\\r\\\\\\\\r\\\\\\\\r\\\\\\\\r\\\\\\...  \n",
       "18    <s n=\"02936\">\\\\\\\\r\\\\\\\\r\\\\\\\\r\\\\\\\\r\\\\\\\\r\\\\\\\\r\\\\\\...  \n",
       "19    <s n=\"00618\">\\\\\\\\r\\\\\\\\r\\\\\\\\r\\\\\\\\r\\\\\\\\r\\\\\\\\r\\\\\\...  \n",
       "20    <s n=\"00629\">\\\\\\\\r\\\\\\\\r\\\\\\\\r\\\\\\\\r\\\\\\\\r\\\\\\\\r\\\\\\...  \n",
       "21    <s n=\"01021\">\\\\\\\\r\\\\\\\\r\\\\\\\\r\\\\\\\\r\\\\\\\\r\\\\\\\\r\\\\\\...  \n",
       "22    <s n=\"01027\">\\\\\\\\r\\\\\\\\r\\\\\\\\r\\\\\\\\r\\\\\\\\r\\\\\\\\r\\\\\\...  \n",
       "23    <s n=\"03945\">\\\\\\\\r\\\\\\\\r\\\\\\\\r\\\\\\\\r\\\\\\\\r\\\\\\\\r\\\\\\...  \n",
       "24    <s n=\"00075\">\\\\\\\\r\\\\\\\\r\\\\\\\\r\\\\\\\\r\\\\\\\\r\\\\\\\\r\\\\\\...  \n",
       "25    <s n=\"00423\">\\\\\\\\r\\\\\\\\r\\\\\\\\r\\\\\\\\r\\\\\\\\r\\\\\\\\r\\\\\\...  \n",
       "26    <s n=\"04360\">\\\\\\\\r\\\\\\\\r\\\\\\\\r\\\\\\\\r\\\\\\\\r\\\\\\\\r\\\\\\...  \n",
       "27    <s n=\"01234\">\\\\\\\\r\\\\\\\\r\\\\\\\\r\\\\\\\\r\\\\\\\\r\\\\\\\\r\\\\\\...  \n",
       "28    <s n=\"01341\">\\\\\\\\r\\\\\\\\r\\\\\\\\r\\\\\\\\r\\\\\\\\r\\\\\\\\r\\\\\\...  \n",
       "29    <s n=\"04317\">\\\\\\\\r\\\\\\\\r\\\\\\\\r\\\\\\\\r\\\\\\\\r\\\\\\\\r\\\\\\...  \n",
       "...                                                 ...  \n",
       "2488  <s n=\"00649\">\\\\\\\\r\\\\\\\\r\\\\\\\\r\\\\\\\\r\\\\\\\\r\\\\\\\\r\\\\\\...  \n",
       "2489  <s n=\"00853\">\\\\\\\\r\\\\\\\\r\\\\\\\\r\\\\\\\\r\\\\\\\\r\\\\\\\\r\\\\\\...  \n",
       "2490  <s n=\"00935\">\\\\\\\\r\\\\\\\\r\\\\\\\\r\\\\\\\\r\\\\\\\\r\\\\\\\\r\\\\\\...  \n",
       "2491  <s n=\"01167\">\\\\\\\\r\\\\\\\\r\\\\\\\\r\\\\\\\\r\\\\\\\\r\\\\\\\\r\\\\\\...  \n",
       "2492  <s n=\"00149\">\\\\\\\\r\\\\\\\\r\\\\\\\\r\\\\\\\\r\\\\\\\\r\\\\\\\\r\\\\\\...  \n",
       "2493  <s n=\"00185\">\\\\\\\\r\\\\\\\\r\\\\\\\\r\\\\\\\\r\\\\\\\\r\\\\\\\\r\\\\\\...  \n",
       "2494  <s n=\"00288\">\\\\\\\\r\\\\\\\\r\\\\\\\\r\\\\\\\\r\\\\\\\\r\\\\\\\\r\\\\\\...  \n",
       "2495  <s n=\"00344\">\\\\\\\\r\\\\\\\\r\\\\\\\\r\\\\\\\\r\\\\\\\\r\\\\\\\\r\\\\\\...  \n",
       "2496  <s n=\"00547\">\\\\\\\\r\\\\\\\\r\\\\\\\\r\\\\\\\\r\\\\\\\\r\\\\\\\\r\\\\\\...  \n",
       "2497  <s n=\"00553\">\\\\\\\\r\\\\\\\\r\\\\\\\\r\\\\\\\\r\\\\\\\\r\\\\\\\\r\\\\\\...  \n",
       "2498  <s n=\"00845\">\\\\\\\\r\\\\\\\\r\\\\\\\\r\\\\\\\\r\\\\\\\\r\\\\\\\\r\\\\\\...  \n",
       "2499  <s n=\"00901\">\\\\\\\\r\\\\\\\\r\\\\\\\\r\\\\\\\\r\\\\\\\\r\\\\\\\\r\\\\\\...  \n",
       "2500  <s n=\"00970\">\\\\\\\\r\\\\\\\\r\\\\\\\\r\\\\\\\\r\\\\\\\\r\\\\\\\\r\\\\\\...  \n",
       "2501  <s n=\"01003\">\\\\\\\\r\\\\\\\\r\\\\\\\\r\\\\\\\\r\\\\\\\\r\\\\\\\\r\\\\\\...  \n",
       "2502  <s n=\"01013\">\\\\\\\\r\\\\\\\\r\\\\\\\\r\\\\\\\\r\\\\\\\\r\\\\\\\\r\\\\\\...  \n",
       "2503  <s n=\"01018\">\\\\\\\\r\\\\\\\\r\\\\\\\\r\\\\\\\\r\\\\\\\\r\\\\\\\\r\\\\\\...  \n",
       "2504  <s n=\"01021\">\\\\\\\\r\\\\\\\\r\\\\\\\\r\\\\\\\\r\\\\\\\\r\\\\\\\\r\\\\\\...  \n",
       "2505  <s n=\"01023\">\\\\\\\\r\\\\\\\\r\\\\\\\\r\\\\\\\\r\\\\\\\\r\\\\\\\\r\\\\\\...  \n",
       "2506  <s n=\"01025\">\\\\\\\\r\\\\\\\\r\\\\\\\\r\\\\\\\\r\\\\\\\\r\\\\\\\\r\\\\\\...  \n",
       "2507  <s n=\"01027\">\\\\\\\\r\\\\\\\\r\\\\\\\\r\\\\\\\\r\\\\\\\\r\\\\\\\\r\\\\\\...  \n",
       "2508  <s n=\"01111\">\\\\\\\\r\\\\\\\\r\\\\\\\\r\\\\\\\\r\\\\\\\\r\\\\\\\\r\\\\\\...  \n",
       "2509  <s n=\"01131\">\\\\\\\\r\\\\\\\\r\\\\\\\\r\\\\\\\\r\\\\\\\\r\\\\\\\\r\\\\\\...  \n",
       "2510  <s n=\"01406\">\\\\\\\\r\\\\\\\\r\\\\\\\\r\\\\\\\\r\\\\\\\\r\\\\\\\\r\\\\\\...  \n",
       "2511  <s n=\"01445\">\\\\\\\\r\\\\\\\\r\\\\\\\\r\\\\\\\\r\\\\\\\\r\\\\\\\\r\\\\\\...  \n",
       "2512  <s n=\"01562\">\\\\\\\\r\\\\\\\\r\\\\\\\\r\\\\\\\\r\\\\\\\\r\\\\\\\\r\\\\\\...  \n",
       "2513  <s n=\"01570\">\\\\\\\\r\\\\\\\\r\\\\\\\\r\\\\\\\\r\\\\\\\\r\\\\\\\\r\\\\\\...  \n",
       "2514  <s n=\"01593\">\\\\\\\\r\\\\\\\\r\\\\\\\\r\\\\\\\\r\\\\\\\\r\\\\\\\\r\\\\\\...  \n",
       "2515  <s n=\"01615\">\\\\\\\\r\\\\\\\\r\\\\\\\\r\\\\\\\\r\\\\\\\\r\\\\\\\\r\\\\\\...  \n",
       "2516  <s n=\"01668\">\\\\\\\\r\\\\\\\\r\\\\\\\\r\\\\\\\\r\\\\\\\\r\\\\\\\\r\\\\\\...  \n",
       "2517  <s n=\"01717\">\\\\\\\\r\\\\\\\\r\\\\\\\\r\\\\\\\\r\\\\\\\\r\\\\\\\\r\\\\\\...  \n",
       "\n",
       "[2518 rows x 8 columns]"
      ]
     },
     "execution_count": 143,
     "metadata": {},
     "output_type": "execute_result"
    }
   ],
   "source": [
    "# 총 2518개의 문장\n",
    "line_df"
   ]
  },
  {
   "cell_type": "code",
   "execution_count": 147,
   "metadata": {},
   "outputs": [],
   "source": [
    "line_df.to_csv('oneline.csv', index=False, encoding='utf-8')"
   ]
  },
  {
   "cell_type": "code",
   "execution_count": 148,
   "metadata": {},
   "outputs": [
    {
     "data": {
      "text/html": [
       "<div>\n",
       "<style scoped>\n",
       "    .dataframe tbody tr th:only-of-type {\n",
       "        vertical-align: middle;\n",
       "    }\n",
       "\n",
       "    .dataframe tbody tr th {\n",
       "        vertical-align: top;\n",
       "    }\n",
       "\n",
       "    .dataframe thead th {\n",
       "        text-align: right;\n",
       "    }\n",
       "</style>\n",
       "<table border=\"1\" class=\"dataframe\">\n",
       "  <thead>\n",
       "    <tr style=\"text-align: right;\">\n",
       "      <th></th>\n",
       "      <th>filename</th>\n",
       "      <th>speaker</th>\n",
       "      <th>gender</th>\n",
       "      <th>listener</th>\n",
       "      <th>job</th>\n",
       "      <th>setting</th>\n",
       "      <th>age</th>\n",
       "      <th>new_speech</th>\n",
       "    </tr>\n",
       "  </thead>\n",
       "  <tbody>\n",
       "    <tr>\n",
       "      <th>0</th>\n",
       "      <td>5CT_0013.txt</td>\n",
       "      <td>P1</td>\n",
       "      <td>F</td>\n",
       "      <td>M</td>\n",
       "      <td>대학원생</td>\n",
       "      <td>집에서 특별히 하는 일 없이 자연스러운 대화를 나누고 있음</td>\n",
       "      <td>30s</td>\n",
       "      <td>&lt;s n=\"00196\"&gt;\\\\\\\\r\\\\\\\\r\\\\\\\\r\\\\\\\\r\\\\\\\\r\\\\\\\\r\\\\\\...</td>\n",
       "    </tr>\n",
       "    <tr>\n",
       "      <th>1</th>\n",
       "      <td>5CT_0013.txt</td>\n",
       "      <td>P2</td>\n",
       "      <td>M</td>\n",
       "      <td>F</td>\n",
       "      <td>회사원</td>\n",
       "      <td>집에서 특별히 하는 일 없이 자연스러운 대화를 나누고 있음</td>\n",
       "      <td>30s</td>\n",
       "      <td>&lt;s n=\"00742\"&gt;\\\\\\\\r\\\\\\\\r\\\\\\\\r\\\\\\\\r\\\\\\\\r\\\\\\\\r\\\\\\...</td>\n",
       "    </tr>\n",
       "    <tr>\n",
       "      <th>2</th>\n",
       "      <td>5CT_0013.txt</td>\n",
       "      <td>P2</td>\n",
       "      <td>M</td>\n",
       "      <td>F</td>\n",
       "      <td>회사원</td>\n",
       "      <td>집에서 특별히 하는 일 없이 자연스러운 대화를 나누고 있음</td>\n",
       "      <td>30s</td>\n",
       "      <td>&lt;s n=\"00748\"&gt;\\\\\\\\r\\\\\\\\r\\\\\\\\r\\\\\\\\r\\\\\\\\r\\\\\\\\r\\\\\\...</td>\n",
       "    </tr>\n",
       "    <tr>\n",
       "      <th>3</th>\n",
       "      <td>5CT_0013.txt</td>\n",
       "      <td>P2</td>\n",
       "      <td>M</td>\n",
       "      <td>F</td>\n",
       "      <td>회사원</td>\n",
       "      <td>집에서 특별히 하는 일 없이 자연스러운 대화를 나누고 있음</td>\n",
       "      <td>30s</td>\n",
       "      <td>&lt;s n=\"00752\"&gt;\\\\\\\\r\\\\\\\\r\\\\\\\\r\\\\\\\\r\\\\\\\\r\\\\\\\\r\\\\\\...</td>\n",
       "    </tr>\n",
       "    <tr>\n",
       "      <th>4</th>\n",
       "      <td>5CT_0013.txt</td>\n",
       "      <td>P2</td>\n",
       "      <td>M</td>\n",
       "      <td>F</td>\n",
       "      <td>회사원</td>\n",
       "      <td>집에서 특별히 하는 일 없이 자연스러운 대화를 나누고 있음</td>\n",
       "      <td>30s</td>\n",
       "      <td>&lt;s n=\"00754\"&gt;\\\\\\\\r\\\\\\\\r\\\\\\\\r\\\\\\\\r\\\\\\\\r\\\\\\\\r\\\\\\...</td>\n",
       "    </tr>\n",
       "  </tbody>\n",
       "</table>\n",
       "</div>"
      ],
      "text/plain": [
       "       filename speaker gender listener   job  \\\n",
       "0  5CT_0013.txt      P1      F        M  대학원생   \n",
       "1  5CT_0013.txt      P2      M        F   회사원   \n",
       "2  5CT_0013.txt      P2      M        F   회사원   \n",
       "3  5CT_0013.txt      P2      M        F   회사원   \n",
       "4  5CT_0013.txt      P2      M        F   회사원   \n",
       "\n",
       "                            setting  age  \\\n",
       "0  집에서 특별히 하는 일 없이 자연스러운 대화를 나누고 있음  30s   \n",
       "1  집에서 특별히 하는 일 없이 자연스러운 대화를 나누고 있음  30s   \n",
       "2  집에서 특별히 하는 일 없이 자연스러운 대화를 나누고 있음  30s   \n",
       "3  집에서 특별히 하는 일 없이 자연스러운 대화를 나누고 있음  30s   \n",
       "4  집에서 특별히 하는 일 없이 자연스러운 대화를 나누고 있음  30s   \n",
       "\n",
       "                                          new_speech  \n",
       "0  <s n=\"00196\">\\\\\\\\r\\\\\\\\r\\\\\\\\r\\\\\\\\r\\\\\\\\r\\\\\\\\r\\\\\\...  \n",
       "1  <s n=\"00742\">\\\\\\\\r\\\\\\\\r\\\\\\\\r\\\\\\\\r\\\\\\\\r\\\\\\\\r\\\\\\...  \n",
       "2  <s n=\"00748\">\\\\\\\\r\\\\\\\\r\\\\\\\\r\\\\\\\\r\\\\\\\\r\\\\\\\\r\\\\\\...  \n",
       "3  <s n=\"00752\">\\\\\\\\r\\\\\\\\r\\\\\\\\r\\\\\\\\r\\\\\\\\r\\\\\\\\r\\\\\\...  \n",
       "4  <s n=\"00754\">\\\\\\\\r\\\\\\\\r\\\\\\\\r\\\\\\\\r\\\\\\\\r\\\\\\\\r\\\\\\...  "
      ]
     },
     "execution_count": 148,
     "metadata": {},
     "output_type": "execute_result"
    }
   ],
   "source": [
    "import pandas as pd\n",
    "df = pd.read_csv('oneline.csv')\n",
    "df.head()"
   ]
  },
  {
   "cell_type": "markdown",
   "metadata": {},
   "source": [
    "## 3. 데이터 클리닝"
   ]
  },
  {
   "cell_type": "code",
   "execution_count": 75,
   "metadata": {},
   "outputs": [
    {
     "data": {
      "text/plain": [
       "'한국 롤러코스터라고 그러는 거.'"
      ]
     },
     "execution_count": 75,
     "metadata": {},
     "output_type": "execute_result"
    }
   ],
   "source": [
    "string = df.new_speech[0]\n",
    "string = string.replace('\\\\\\\\\\\\\\\\r\\\\\\\\\\\\\\\\r\\\\\\\\\\\\\\\\r\\\\\\\\\\\\\\\\r\\\\\\\\\\\\\\\\r\\\\\\\\\\\\\\\\r\\\\\\\\\\\\\\\\n', ' ')\n",
    "string = string.replace('\\\\\\\\\\\\\\\\t', ' ')\n",
    "#string = re.sub('[\\dA-Za-z\\/\\+\\_\\-\\>\\<]','',string)\n",
    "pattern = '[가-힣]'\n",
    "tokens = string.split(' ')\n",
    "sent = []\n",
    "for i in range(len(tokens)):\n",
    "    if re.search(pattern, tokens[i]) and '/' not in tokens[i]:\n",
    "        sent.append(tokens[i])\n",
    "        \n",
    "' '.join(sent)"
   ]
  },
  {
   "cell_type": "code",
   "execution_count": 144,
   "metadata": {},
   "outputs": [],
   "source": [
    "# 문장 클리닝 \n",
    "import re\n",
    "def clean(string):\n",
    "    # 특수문자는 공백으로\n",
    "    string = string.replace('\\\\\\\\\\\\\\\\r\\\\\\\\\\\\\\\\r\\\\\\\\\\\\\\\\r\\\\\\\\\\\\\\\\r\\\\\\\\\\\\\\\\r\\\\\\\\\\\\\\\\r\\\\\\\\\\\\\\\\n', ' ')\n",
    "    string = string.replace('\\\\\\\\\\\\\\\\t', ' ')\n",
    "    pattern = '[가-힣]'\n",
    "    tokens = string.split(' ')\n",
    "    sent = []\n",
    "    for i in range(len(tokens)):\n",
    "        # 품사 태깅 없는 원문 단어만 \n",
    "        if re.search(pattern, tokens[i]) and '/' not in tokens[i]:\n",
    "            sent.append(tokens[i])\n",
    "    return ' '.join(sent)"
   ]
  },
  {
   "cell_type": "code",
   "execution_count": 149,
   "metadata": {},
   "outputs": [],
   "source": [
    "df['cleaned'] = df['new_speech'].apply(lambda x: clean(x))"
   ]
  },
  {
   "cell_type": "code",
   "execution_count": 150,
   "metadata": {},
   "outputs": [
    {
     "data": {
      "text/html": [
       "<div>\n",
       "<style scoped>\n",
       "    .dataframe tbody tr th:only-of-type {\n",
       "        vertical-align: middle;\n",
       "    }\n",
       "\n",
       "    .dataframe tbody tr th {\n",
       "        vertical-align: top;\n",
       "    }\n",
       "\n",
       "    .dataframe thead th {\n",
       "        text-align: right;\n",
       "    }\n",
       "</style>\n",
       "<table border=\"1\" class=\"dataframe\">\n",
       "  <thead>\n",
       "    <tr style=\"text-align: right;\">\n",
       "      <th></th>\n",
       "      <th>filename</th>\n",
       "      <th>speaker</th>\n",
       "      <th>gender</th>\n",
       "      <th>listener</th>\n",
       "      <th>job</th>\n",
       "      <th>setting</th>\n",
       "      <th>age</th>\n",
       "      <th>new_speech</th>\n",
       "      <th>cleaned</th>\n",
       "    </tr>\n",
       "  </thead>\n",
       "  <tbody>\n",
       "    <tr>\n",
       "      <th>0</th>\n",
       "      <td>5CT_0013.txt</td>\n",
       "      <td>P1</td>\n",
       "      <td>F</td>\n",
       "      <td>M</td>\n",
       "      <td>대학원생</td>\n",
       "      <td>집에서 특별히 하는 일 없이 자연스러운 대화를 나누고 있음</td>\n",
       "      <td>30s</td>\n",
       "      <td>&lt;s n=\"00196\"&gt;\\\\\\\\r\\\\\\\\r\\\\\\\\r\\\\\\\\r\\\\\\\\r\\\\\\\\r\\\\\\...</td>\n",
       "      <td>한국 롤러코스터라고 그러는 거.</td>\n",
       "    </tr>\n",
       "    <tr>\n",
       "      <th>1</th>\n",
       "      <td>5CT_0013.txt</td>\n",
       "      <td>P2</td>\n",
       "      <td>M</td>\n",
       "      <td>F</td>\n",
       "      <td>회사원</td>\n",
       "      <td>집에서 특별히 하는 일 없이 자연스러운 대화를 나누고 있음</td>\n",
       "      <td>30s</td>\n",
       "      <td>&lt;s n=\"00742\"&gt;\\\\\\\\r\\\\\\\\r\\\\\\\\r\\\\\\\\r\\\\\\\\r\\\\\\\\r\\\\\\...</td>\n",
       "      <td>컨버터라고 부르더라고 우리 같은 사람을 우리 같은 수입해 가지고 만들어서,</td>\n",
       "    </tr>\n",
       "    <tr>\n",
       "      <th>2</th>\n",
       "      <td>5CT_0013.txt</td>\n",
       "      <td>P2</td>\n",
       "      <td>M</td>\n",
       "      <td>F</td>\n",
       "      <td>회사원</td>\n",
       "      <td>집에서 특별히 하는 일 없이 자연스러운 대화를 나누고 있음</td>\n",
       "      <td>30s</td>\n",
       "      <td>&lt;s n=\"00748\"&gt;\\\\\\\\r\\\\\\\\r\\\\\\\\r\\\\\\\\r\\\\\\\\r\\\\\\\\r\\\\\\...</td>\n",
       "      <td>그걸 컨버터라고 그러고.</td>\n",
       "    </tr>\n",
       "    <tr>\n",
       "      <th>3</th>\n",
       "      <td>5CT_0013.txt</td>\n",
       "      <td>P2</td>\n",
       "      <td>M</td>\n",
       "      <td>F</td>\n",
       "      <td>회사원</td>\n",
       "      <td>집에서 특별히 하는 일 없이 자연스러운 대화를 나누고 있음</td>\n",
       "      <td>30s</td>\n",
       "      <td>&lt;s n=\"00752\"&gt;\\\\\\\\r\\\\\\\\r\\\\\\\\r\\\\\\\\r\\\\\\\\r\\\\\\\\r\\\\\\...</td>\n",
       "      <td>프린터라고 그러거든 보통 프린팅 하는 데를,</td>\n",
       "    </tr>\n",
       "    <tr>\n",
       "      <th>4</th>\n",
       "      <td>5CT_0013.txt</td>\n",
       "      <td>P2</td>\n",
       "      <td>M</td>\n",
       "      <td>F</td>\n",
       "      <td>회사원</td>\n",
       "      <td>집에서 특별히 하는 일 없이 자연스러운 대화를 나누고 있음</td>\n",
       "      <td>30s</td>\n",
       "      <td>&lt;s n=\"00754\"&gt;\\\\\\\\r\\\\\\\\r\\\\\\\\r\\\\\\\\r\\\\\\\\r\\\\\\\\r\\\\\\...</td>\n",
       "      <td>프린터라고 그러는데 그건 아니고 컨버터라고 그러더라고,</td>\n",
       "    </tr>\n",
       "  </tbody>\n",
       "</table>\n",
       "</div>"
      ],
      "text/plain": [
       "       filename speaker gender listener   job  \\\n",
       "0  5CT_0013.txt      P1      F        M  대학원생   \n",
       "1  5CT_0013.txt      P2      M        F   회사원   \n",
       "2  5CT_0013.txt      P2      M        F   회사원   \n",
       "3  5CT_0013.txt      P2      M        F   회사원   \n",
       "4  5CT_0013.txt      P2      M        F   회사원   \n",
       "\n",
       "                            setting  age  \\\n",
       "0  집에서 특별히 하는 일 없이 자연스러운 대화를 나누고 있음  30s   \n",
       "1  집에서 특별히 하는 일 없이 자연스러운 대화를 나누고 있음  30s   \n",
       "2  집에서 특별히 하는 일 없이 자연스러운 대화를 나누고 있음  30s   \n",
       "3  집에서 특별히 하는 일 없이 자연스러운 대화를 나누고 있음  30s   \n",
       "4  집에서 특별히 하는 일 없이 자연스러운 대화를 나누고 있음  30s   \n",
       "\n",
       "                                          new_speech  \\\n",
       "0  <s n=\"00196\">\\\\\\\\r\\\\\\\\r\\\\\\\\r\\\\\\\\r\\\\\\\\r\\\\\\\\r\\\\\\...   \n",
       "1  <s n=\"00742\">\\\\\\\\r\\\\\\\\r\\\\\\\\r\\\\\\\\r\\\\\\\\r\\\\\\\\r\\\\\\...   \n",
       "2  <s n=\"00748\">\\\\\\\\r\\\\\\\\r\\\\\\\\r\\\\\\\\r\\\\\\\\r\\\\\\\\r\\\\\\...   \n",
       "3  <s n=\"00752\">\\\\\\\\r\\\\\\\\r\\\\\\\\r\\\\\\\\r\\\\\\\\r\\\\\\\\r\\\\\\...   \n",
       "4  <s n=\"00754\">\\\\\\\\r\\\\\\\\r\\\\\\\\r\\\\\\\\r\\\\\\\\r\\\\\\\\r\\\\\\...   \n",
       "\n",
       "                                     cleaned  \n",
       "0                          한국 롤러코스터라고 그러는 거.  \n",
       "1  컨버터라고 부르더라고 우리 같은 사람을 우리 같은 수입해 가지고 만들어서,  \n",
       "2                              그걸 컨버터라고 그러고.  \n",
       "3                   프린터라고 그러거든 보통 프린팅 하는 데를,  \n",
       "4             프린터라고 그러는데 그건 아니고 컨버터라고 그러더라고,  "
      ]
     },
     "execution_count": 150,
     "metadata": {},
     "output_type": "execute_result"
    }
   ],
   "source": [
    "df.head()"
   ]
  },
  {
   "cell_type": "code",
   "execution_count": 151,
   "metadata": {},
   "outputs": [],
   "source": [
    "df.to_csv('oneline.csv', index=False, encoding='utf-8')"
   ]
  },
  {
   "cell_type": "markdown",
   "metadata": {},
   "source": [
    "## 4. 각 사회적 변수에 따라 어미 '-잖-' 또는 '-거든' 사용 비율 비교\n",
    "* 사회적 변수: 성별, 연령, 사회적 지위 등\n",
    "* '-거든'은 청자가 모른다고 전제할 때 사용하는 어미\n",
    "* '-잖-'은 청자가 안다고 전제할 때 사용하는 어미 \n",
    "* 따라서 신정보를 제시할 때, '-거든'을 쓰면 정보구조의 규범적 사용, '-잖-'을 쓰면 정보구조의 전략적 사용"
   ]
  },
  {
   "cell_type": "code",
   "execution_count": 154,
   "metadata": {},
   "outputs": [],
   "source": [
    "# 선어말어미 '잖' 의 유무 \n",
    "def count1(speech):\n",
    "    if '잖/EP' in speech:\n",
    "        return 1\n",
    "    else:\n",
    "        return 0"
   ]
  },
  {
   "cell_type": "code",
   "execution_count": 155,
   "metadata": {},
   "outputs": [],
   "source": [
    "# 종결어미 '거든' 의 유무\n",
    "def count2(speech):\n",
    "    ef = ['거던/EF','거덩/EF', '거든/EF', '거든요/EF', '거등/EF', '거등요/EF', '그던/EF','그덩/EF',\\\n",
    "          '그든/EF','그든요/EF','그등/EF', '그등요/EF']\n",
    "    if any(elem in speech for elem in ef):\n",
    "        return 1\n",
    "    else:\n",
    "        return 0"
   ]
  },
  {
   "cell_type": "code",
   "execution_count": 156,
   "metadata": {},
   "outputs": [],
   "source": [
    "df['잖'] = df['new_speech'].apply(lambda x:count1(x))\n",
    "df['거든'] = df['new_speech'].apply(lambda x:count2(x))"
   ]
  },
  {
   "cell_type": "code",
   "execution_count": 159,
   "metadata": {},
   "outputs": [
    {
     "data": {
      "text/html": [
       "<div>\n",
       "<style scoped>\n",
       "    .dataframe tbody tr th:only-of-type {\n",
       "        vertical-align: middle;\n",
       "    }\n",
       "\n",
       "    .dataframe tbody tr th {\n",
       "        vertical-align: top;\n",
       "    }\n",
       "\n",
       "    .dataframe thead th {\n",
       "        text-align: right;\n",
       "    }\n",
       "</style>\n",
       "<table border=\"1\" class=\"dataframe\">\n",
       "  <thead>\n",
       "    <tr style=\"text-align: right;\">\n",
       "      <th></th>\n",
       "      <th>잖</th>\n",
       "      <th>거든</th>\n",
       "    </tr>\n",
       "    <tr>\n",
       "      <th>gender</th>\n",
       "      <th></th>\n",
       "      <th></th>\n",
       "    </tr>\n",
       "  </thead>\n",
       "  <tbody>\n",
       "    <tr>\n",
       "      <th>F</th>\n",
       "      <td>0.027165</td>\n",
       "      <td>0.026316</td>\n",
       "    </tr>\n",
       "    <tr>\n",
       "      <th>M</th>\n",
       "      <td>0.020149</td>\n",
       "      <td>0.030597</td>\n",
       "    </tr>\n",
       "  </tbody>\n",
       "</table>\n",
       "</div>"
      ],
      "text/plain": [
       "               잖        거든\n",
       "gender                    \n",
       "F       0.027165  0.026316\n",
       "M       0.020149  0.030597"
      ]
     },
     "execution_count": 159,
     "metadata": {},
     "output_type": "execute_result"
    }
   ],
   "source": [
    "# 화자의 성별에 따른 어미 사용 비율\n",
    "df.groupby('gender').mean()[['잖','거든']]"
   ]
  },
  {
   "cell_type": "code",
   "execution_count": 160,
   "metadata": {},
   "outputs": [
    {
     "data": {
      "text/html": [
       "<div>\n",
       "<style scoped>\n",
       "    .dataframe tbody tr th:only-of-type {\n",
       "        vertical-align: middle;\n",
       "    }\n",
       "\n",
       "    .dataframe tbody tr th {\n",
       "        vertical-align: top;\n",
       "    }\n",
       "\n",
       "    .dataframe thead th {\n",
       "        text-align: right;\n",
       "    }\n",
       "</style>\n",
       "<table border=\"1\" class=\"dataframe\">\n",
       "  <thead>\n",
       "    <tr style=\"text-align: right;\">\n",
       "      <th></th>\n",
       "      <th>잖</th>\n",
       "      <th>거든</th>\n",
       "    </tr>\n",
       "    <tr>\n",
       "      <th>listener</th>\n",
       "      <th></th>\n",
       "      <th></th>\n",
       "    </tr>\n",
       "  </thead>\n",
       "  <tbody>\n",
       "    <tr>\n",
       "      <th>F</th>\n",
       "      <td>0.035806</td>\n",
       "      <td>0.038363</td>\n",
       "    </tr>\n",
       "    <tr>\n",
       "      <th>M</th>\n",
       "      <td>0.012658</td>\n",
       "      <td>0.015190</td>\n",
       "    </tr>\n",
       "    <tr>\n",
       "      <th>다수</th>\n",
       "      <td>0.023095</td>\n",
       "      <td>0.029446</td>\n",
       "    </tr>\n",
       "  </tbody>\n",
       "</table>\n",
       "</div>"
      ],
      "text/plain": [
       "                 잖        거든\n",
       "listener                    \n",
       "F         0.035806  0.038363\n",
       "M         0.012658  0.015190\n",
       "다수        0.023095  0.029446"
      ]
     },
     "execution_count": 160,
     "metadata": {},
     "output_type": "execute_result"
    }
   ],
   "source": [
    "# 청자의 성별에 따른 어미 사용 비율\n",
    "df.groupby('listener').mean()[['잖','거든']]"
   ]
  },
  {
   "cell_type": "code",
   "execution_count": 165,
   "metadata": {},
   "outputs": [
    {
     "data": {
      "text/html": [
       "<div>\n",
       "<style scoped>\n",
       "    .dataframe tbody tr th:only-of-type {\n",
       "        vertical-align: middle;\n",
       "    }\n",
       "\n",
       "    .dataframe tbody tr th {\n",
       "        vertical-align: top;\n",
       "    }\n",
       "\n",
       "    .dataframe thead th {\n",
       "        text-align: right;\n",
       "    }\n",
       "</style>\n",
       "<table border=\"1\" class=\"dataframe\">\n",
       "  <thead>\n",
       "    <tr style=\"text-align: right;\">\n",
       "      <th></th>\n",
       "      <th></th>\n",
       "      <th>잖</th>\n",
       "      <th>거든</th>\n",
       "    </tr>\n",
       "    <tr>\n",
       "      <th>gender</th>\n",
       "      <th>listener</th>\n",
       "      <th></th>\n",
       "      <th></th>\n",
       "    </tr>\n",
       "  </thead>\n",
       "  <tbody>\n",
       "    <tr>\n",
       "      <th rowspan=\"3\" valign=\"top\">F</th>\n",
       "      <th>F</th>\n",
       "      <td>0.027132</td>\n",
       "      <td>0.050388</td>\n",
       "    </tr>\n",
       "    <tr>\n",
       "      <th>M</th>\n",
       "      <td>0.005405</td>\n",
       "      <td>0.005405</td>\n",
       "    </tr>\n",
       "    <tr>\n",
       "      <th>다수</th>\n",
       "      <td>0.032653</td>\n",
       "      <td>0.023129</td>\n",
       "    </tr>\n",
       "    <tr>\n",
       "      <th rowspan=\"3\" valign=\"top\">M</th>\n",
       "      <th>F</th>\n",
       "      <td>0.052632</td>\n",
       "      <td>0.015038</td>\n",
       "    </tr>\n",
       "    <tr>\n",
       "      <th>M</th>\n",
       "      <td>0.019048</td>\n",
       "      <td>0.023810</td>\n",
       "    </tr>\n",
       "    <tr>\n",
       "      <th>다수</th>\n",
       "      <td>0.016048</td>\n",
       "      <td>0.034102</td>\n",
       "    </tr>\n",
       "  </tbody>\n",
       "</table>\n",
       "</div>"
      ],
      "text/plain": [
       "                        잖        거든\n",
       "gender listener                    \n",
       "F      F         0.027132  0.050388\n",
       "       M         0.005405  0.005405\n",
       "       다수        0.032653  0.023129\n",
       "M      F         0.052632  0.015038\n",
       "       M         0.019048  0.023810\n",
       "       다수        0.016048  0.034102"
      ]
     },
     "execution_count": 165,
     "metadata": {},
     "output_type": "execute_result"
    }
   ],
   "source": [
    "# 화자의 성별 + 청자의 성별에 따른 어미 사용 비율\n",
    "df.groupby(['gender','listener']).mean()[['잖','거든']]"
   ]
  },
  {
   "cell_type": "code",
   "execution_count": 163,
   "metadata": {},
   "outputs": [
    {
     "data": {
      "text/html": [
       "<div>\n",
       "<style scoped>\n",
       "    .dataframe tbody tr th:only-of-type {\n",
       "        vertical-align: middle;\n",
       "    }\n",
       "\n",
       "    .dataframe tbody tr th {\n",
       "        vertical-align: top;\n",
       "    }\n",
       "\n",
       "    .dataframe thead th {\n",
       "        text-align: right;\n",
       "    }\n",
       "</style>\n",
       "<table border=\"1\" class=\"dataframe\">\n",
       "  <thead>\n",
       "    <tr style=\"text-align: right;\">\n",
       "      <th></th>\n",
       "      <th>잖</th>\n",
       "      <th>거든</th>\n",
       "    </tr>\n",
       "    <tr>\n",
       "      <th>대화상황</th>\n",
       "      <th></th>\n",
       "      <th></th>\n",
       "    </tr>\n",
       "  </thead>\n",
       "  <tbody>\n",
       "    <tr>\n",
       "      <th>강의</th>\n",
       "      <td>0.010911</td>\n",
       "      <td>0.018614</td>\n",
       "    </tr>\n",
       "    <tr>\n",
       "      <th>독백</th>\n",
       "      <td>0.000000</td>\n",
       "      <td>0.029126</td>\n",
       "    </tr>\n",
       "    <tr>\n",
       "      <th>일상대화</th>\n",
       "      <td>0.050305</td>\n",
       "      <td>0.042683</td>\n",
       "    </tr>\n",
       "    <tr>\n",
       "      <th>토론</th>\n",
       "      <td>0.056962</td>\n",
       "      <td>0.075949</td>\n",
       "    </tr>\n",
       "    <tr>\n",
       "      <th>프로그램</th>\n",
       "      <td>0.000000</td>\n",
       "      <td>0.000000</td>\n",
       "    </tr>\n",
       "  </tbody>\n",
       "</table>\n",
       "</div>"
      ],
      "text/plain": [
       "             잖        거든\n",
       "대화상황                    \n",
       "강의    0.010911  0.018614\n",
       "독백    0.000000  0.029126\n",
       "일상대화  0.050305  0.042683\n",
       "토론    0.056962  0.075949\n",
       "프로그램  0.000000  0.000000"
      ]
     },
     "execution_count": 163,
     "metadata": {},
     "output_type": "execute_result"
    }
   ],
   "source": [
    "# 대화상황에 따른 어미 사용 비율\n",
    "df.groupby('대화상황').mean()[['잖','거든']]"
   ]
  },
  {
   "cell_type": "code",
   "execution_count": 164,
   "metadata": {},
   "outputs": [
    {
     "data": {
      "text/html": [
       "<div>\n",
       "<style scoped>\n",
       "    .dataframe tbody tr th:only-of-type {\n",
       "        vertical-align: middle;\n",
       "    }\n",
       "\n",
       "    .dataframe tbody tr th {\n",
       "        vertical-align: top;\n",
       "    }\n",
       "\n",
       "    .dataframe thead th {\n",
       "        text-align: right;\n",
       "    }\n",
       "</style>\n",
       "<table border=\"1\" class=\"dataframe\">\n",
       "  <thead>\n",
       "    <tr style=\"text-align: right;\">\n",
       "      <th></th>\n",
       "      <th>잖</th>\n",
       "      <th>거든</th>\n",
       "    </tr>\n",
       "    <tr>\n",
       "      <th>age</th>\n",
       "      <th></th>\n",
       "      <th></th>\n",
       "    </tr>\n",
       "  </thead>\n",
       "  <tbody>\n",
       "    <tr>\n",
       "      <th>10s</th>\n",
       "      <td>0.045455</td>\n",
       "      <td>0.000000</td>\n",
       "    </tr>\n",
       "    <tr>\n",
       "      <th>20s</th>\n",
       "      <td>0.038698</td>\n",
       "      <td>0.036939</td>\n",
       "    </tr>\n",
       "    <tr>\n",
       "      <th>30s</th>\n",
       "      <td>0.010076</td>\n",
       "      <td>0.030227</td>\n",
       "    </tr>\n",
       "    <tr>\n",
       "      <th>40s</th>\n",
       "      <td>0.007519</td>\n",
       "      <td>0.019549</td>\n",
       "    </tr>\n",
       "    <tr>\n",
       "      <th>50s</th>\n",
       "      <td>0.000000</td>\n",
       "      <td>0.011905</td>\n",
       "    </tr>\n",
       "    <tr>\n",
       "      <th>60s</th>\n",
       "      <td>0.000000</td>\n",
       "      <td>0.000000</td>\n",
       "    </tr>\n",
       "    <tr>\n",
       "      <th>70s</th>\n",
       "      <td>0.000000</td>\n",
       "      <td>0.000000</td>\n",
       "    </tr>\n",
       "    <tr>\n",
       "      <th>?</th>\n",
       "      <td>0.027027</td>\n",
       "      <td>0.021622</td>\n",
       "    </tr>\n",
       "  </tbody>\n",
       "</table>\n",
       "</div>"
      ],
      "text/plain": [
       "            잖        거든\n",
       "age                    \n",
       "10s  0.045455  0.000000\n",
       "20s  0.038698  0.036939\n",
       "30s  0.010076  0.030227\n",
       "40s  0.007519  0.019549\n",
       "50s  0.000000  0.011905\n",
       "60s  0.000000  0.000000\n",
       "70s  0.000000  0.000000\n",
       "?    0.027027  0.021622"
      ]
     },
     "execution_count": 164,
     "metadata": {},
     "output_type": "execute_result"
    }
   ],
   "source": [
    "# 연령에 따른 어미 사용 비율\n",
    "df.groupby('age').mean()[['잖','거든']]"
   ]
  },
  {
   "cell_type": "code",
   "execution_count": 199,
   "metadata": {},
   "outputs": [],
   "source": [
    "# 화자의 직업 분류하기 \n",
    "teacher = ['강사', '교수', '교사', '명예교수', '목사', '선생님', '학원강사' ]\n",
    "student = ['학생', '고등학생', '대학생', '대학원생', '수강생', '연구원']\n",
    "mc = ['사회자', '아나운서', '축구해설자']\n",
    "doc = ['의사','한의사']\n",
    "home = ['주부']\n",
    "work = ['직장인', '회사원', '직원']\n",
    "\n",
    "def job_classifier(job):\n",
    "    if any(elem in job for elem in teacher):\n",
    "        return '선생님'\n",
    "    elif any(elem in job for elem in student):\n",
    "        return '학생'\n",
    "    elif any(elem in job for elem in mc):\n",
    "        return '진행자'\n",
    "    elif any(elem in job for elem in doc):\n",
    "        return '의사'\n",
    "    elif any(elem in job for elem in home):\n",
    "        return '주부'\n",
    "    elif any(elem in job for elem in work):\n",
    "        return '직장인'\n",
    "    else:\n",
    "        return '기타'"
   ]
  },
  {
   "cell_type": "code",
   "execution_count": 200,
   "metadata": {},
   "outputs": [],
   "source": [
    "df['직업'] = df['job'].apply(lambda x : job_classifier(x))"
   ]
  },
  {
   "cell_type": "code",
   "execution_count": 171,
   "metadata": {},
   "outputs": [],
   "source": [
    "# 화자의 상대적 지위 분류하기\n",
    "high = ['선배','아버지', '발표자'] + teacher + doc\n",
    "low = ['동생','후배']\n",
    "\n",
    "def relation_classifier(job):\n",
    "    if any(elem in job for elem in high):\n",
    "        return '상'\n",
    "    elif any(elem in job for elem in low):\n",
    "        return '하'\n",
    "    else:\n",
    "        return '모름'"
   ]
  },
  {
   "cell_type": "code",
   "execution_count": 172,
   "metadata": {},
   "outputs": [],
   "source": [
    "df['지위'] = df['job'].apply(lambda x : relation_classifier(x))"
   ]
  },
  {
   "cell_type": "code",
   "execution_count": 268,
   "metadata": {},
   "outputs": [
    {
     "data": {
      "text/html": [
       "<div>\n",
       "<style scoped>\n",
       "    .dataframe tbody tr th:only-of-type {\n",
       "        vertical-align: middle;\n",
       "    }\n",
       "\n",
       "    .dataframe tbody tr th {\n",
       "        vertical-align: top;\n",
       "    }\n",
       "\n",
       "    .dataframe thead th {\n",
       "        text-align: right;\n",
       "    }\n",
       "</style>\n",
       "<table border=\"1\" class=\"dataframe\">\n",
       "  <thead>\n",
       "    <tr style=\"text-align: right;\">\n",
       "      <th></th>\n",
       "      <th>gender</th>\n",
       "      <th>잖</th>\n",
       "      <th>거든</th>\n",
       "    </tr>\n",
       "  </thead>\n",
       "  <tbody>\n",
       "    <tr>\n",
       "      <th>0</th>\n",
       "      <td>F</td>\n",
       "      <td>2.929688</td>\n",
       "      <td>2.734375</td>\n",
       "    </tr>\n",
       "    <tr>\n",
       "      <th>1</th>\n",
       "      <td>M</td>\n",
       "      <td>1.473297</td>\n",
       "      <td>3.867403</td>\n",
       "    </tr>\n",
       "  </tbody>\n",
       "</table>\n",
       "</div>"
      ],
      "text/plain": [
       "  gender         잖        거든\n",
       "0      F  2.929688  2.734375\n",
       "1      M  1.473297  3.867403"
      ]
     },
     "execution_count": 268,
     "metadata": {},
     "output_type": "execute_result"
    }
   ],
   "source": [
    "mean = df.groupby('gender').mean()[['잖','거든']]*100\n",
    "mean = mean.reset_index()\n",
    "mean"
   ]
  },
  {
   "cell_type": "markdown",
   "metadata": {},
   "source": [
    "## 5. 결과 시각화"
   ]
  },
  {
   "cell_type": "code",
   "execution_count": 269,
   "metadata": {},
   "outputs": [
    {
     "data": {
      "text/html": [
       "<div>\n",
       "<style scoped>\n",
       "    .dataframe tbody tr th:only-of-type {\n",
       "        vertical-align: middle;\n",
       "    }\n",
       "\n",
       "    .dataframe tbody tr th {\n",
       "        vertical-align: top;\n",
       "    }\n",
       "\n",
       "    .dataframe thead th {\n",
       "        text-align: right;\n",
       "    }\n",
       "</style>\n",
       "<table border=\"1\" class=\"dataframe\">\n",
       "  <thead>\n",
       "    <tr style=\"text-align: right;\">\n",
       "      <th></th>\n",
       "      <th>gender</th>\n",
       "      <th>어미</th>\n",
       "      <th>비율</th>\n",
       "    </tr>\n",
       "  </thead>\n",
       "  <tbody>\n",
       "    <tr>\n",
       "      <th>0</th>\n",
       "      <td>F</td>\n",
       "      <td>잖</td>\n",
       "      <td>2.929688</td>\n",
       "    </tr>\n",
       "    <tr>\n",
       "      <th>1</th>\n",
       "      <td>M</td>\n",
       "      <td>잖</td>\n",
       "      <td>1.473297</td>\n",
       "    </tr>\n",
       "    <tr>\n",
       "      <th>2</th>\n",
       "      <td>F</td>\n",
       "      <td>거든</td>\n",
       "      <td>2.734375</td>\n",
       "    </tr>\n",
       "    <tr>\n",
       "      <th>3</th>\n",
       "      <td>M</td>\n",
       "      <td>거든</td>\n",
       "      <td>3.867403</td>\n",
       "    </tr>\n",
       "  </tbody>\n",
       "</table>\n",
       "</div>"
      ],
      "text/plain": [
       "  gender  어미        비율\n",
       "0      F   잖  2.929688\n",
       "1      M   잖  1.473297\n",
       "2      F  거든  2.734375\n",
       "3      M  거든  3.867403"
      ]
     },
     "execution_count": 269,
     "metadata": {},
     "output_type": "execute_result"
    }
   ],
   "source": [
    "mean = pd.melt(mean, id_vars=['gender'], value_vars=['잖', '거든'], var_name='어미',value_name='비율')\n",
    "mean"
   ]
  },
  {
   "cell_type": "code",
   "execution_count": 270,
   "metadata": {},
   "outputs": [
    {
     "data": {
      "application/vnd.plotly.v1+json": {
       "config": {
        "plotlyServerURL": "https://plot.ly"
       },
       "data": [
        {
         "alignmentgroup": "True",
         "hoverlabel": {
          "namelength": 0
         },
         "hovertemplate": "어미=잖<br>gender=%{x}<br>비율=%{y}",
         "legendgroup": "어미=잖",
         "marker": {
          "color": "#636efa"
         },
         "name": "어미=잖",
         "offsetgroup": "어미=잖",
         "orientation": "v",
         "showlegend": true,
         "textposition": "auto",
         "type": "bar",
         "x": [
          "F",
          "M"
         ],
         "xaxis": "x",
         "y": [
          2.9296875,
          1.4732965009208103
         ],
         "yaxis": "y"
        },
        {
         "alignmentgroup": "True",
         "hoverlabel": {
          "namelength": 0
         },
         "hovertemplate": "어미=거든<br>gender=%{x}<br>비율=%{y}",
         "legendgroup": "어미=거든",
         "marker": {
          "color": "#EF553B"
         },
         "name": "어미=거든",
         "offsetgroup": "어미=거든",
         "orientation": "v",
         "showlegend": true,
         "textposition": "auto",
         "type": "bar",
         "x": [
          "F",
          "M"
         ],
         "xaxis": "x",
         "y": [
          2.734375,
          3.867403314917127
         ],
         "yaxis": "y"
        }
       ],
       "layout": {
        "barmode": "group",
        "height": 400,
        "legend": {
         "tracegroupgap": 0
        },
        "margin": {
         "t": 60
        },
        "template": {
         "data": {
          "bar": [
           {
            "error_x": {
             "color": "#2a3f5f"
            },
            "error_y": {
             "color": "#2a3f5f"
            },
            "marker": {
             "line": {
              "color": "#E5ECF6",
              "width": 0.5
             }
            },
            "type": "bar"
           }
          ],
          "barpolar": [
           {
            "marker": {
             "line": {
              "color": "#E5ECF6",
              "width": 0.5
             }
            },
            "type": "barpolar"
           }
          ],
          "carpet": [
           {
            "aaxis": {
             "endlinecolor": "#2a3f5f",
             "gridcolor": "white",
             "linecolor": "white",
             "minorgridcolor": "white",
             "startlinecolor": "#2a3f5f"
            },
            "baxis": {
             "endlinecolor": "#2a3f5f",
             "gridcolor": "white",
             "linecolor": "white",
             "minorgridcolor": "white",
             "startlinecolor": "#2a3f5f"
            },
            "type": "carpet"
           }
          ],
          "choropleth": [
           {
            "colorbar": {
             "outlinewidth": 0,
             "ticks": ""
            },
            "type": "choropleth"
           }
          ],
          "contour": [
           {
            "colorbar": {
             "outlinewidth": 0,
             "ticks": ""
            },
            "colorscale": [
             [
              0,
              "#0d0887"
             ],
             [
              0.1111111111111111,
              "#46039f"
             ],
             [
              0.2222222222222222,
              "#7201a8"
             ],
             [
              0.3333333333333333,
              "#9c179e"
             ],
             [
              0.4444444444444444,
              "#bd3786"
             ],
             [
              0.5555555555555556,
              "#d8576b"
             ],
             [
              0.6666666666666666,
              "#ed7953"
             ],
             [
              0.7777777777777778,
              "#fb9f3a"
             ],
             [
              0.8888888888888888,
              "#fdca26"
             ],
             [
              1,
              "#f0f921"
             ]
            ],
            "type": "contour"
           }
          ],
          "contourcarpet": [
           {
            "colorbar": {
             "outlinewidth": 0,
             "ticks": ""
            },
            "type": "contourcarpet"
           }
          ],
          "heatmap": [
           {
            "colorbar": {
             "outlinewidth": 0,
             "ticks": ""
            },
            "colorscale": [
             [
              0,
              "#0d0887"
             ],
             [
              0.1111111111111111,
              "#46039f"
             ],
             [
              0.2222222222222222,
              "#7201a8"
             ],
             [
              0.3333333333333333,
              "#9c179e"
             ],
             [
              0.4444444444444444,
              "#bd3786"
             ],
             [
              0.5555555555555556,
              "#d8576b"
             ],
             [
              0.6666666666666666,
              "#ed7953"
             ],
             [
              0.7777777777777778,
              "#fb9f3a"
             ],
             [
              0.8888888888888888,
              "#fdca26"
             ],
             [
              1,
              "#f0f921"
             ]
            ],
            "type": "heatmap"
           }
          ],
          "heatmapgl": [
           {
            "colorbar": {
             "outlinewidth": 0,
             "ticks": ""
            },
            "colorscale": [
             [
              0,
              "#0d0887"
             ],
             [
              0.1111111111111111,
              "#46039f"
             ],
             [
              0.2222222222222222,
              "#7201a8"
             ],
             [
              0.3333333333333333,
              "#9c179e"
             ],
             [
              0.4444444444444444,
              "#bd3786"
             ],
             [
              0.5555555555555556,
              "#d8576b"
             ],
             [
              0.6666666666666666,
              "#ed7953"
             ],
             [
              0.7777777777777778,
              "#fb9f3a"
             ],
             [
              0.8888888888888888,
              "#fdca26"
             ],
             [
              1,
              "#f0f921"
             ]
            ],
            "type": "heatmapgl"
           }
          ],
          "histogram": [
           {
            "marker": {
             "colorbar": {
              "outlinewidth": 0,
              "ticks": ""
             }
            },
            "type": "histogram"
           }
          ],
          "histogram2d": [
           {
            "colorbar": {
             "outlinewidth": 0,
             "ticks": ""
            },
            "colorscale": [
             [
              0,
              "#0d0887"
             ],
             [
              0.1111111111111111,
              "#46039f"
             ],
             [
              0.2222222222222222,
              "#7201a8"
             ],
             [
              0.3333333333333333,
              "#9c179e"
             ],
             [
              0.4444444444444444,
              "#bd3786"
             ],
             [
              0.5555555555555556,
              "#d8576b"
             ],
             [
              0.6666666666666666,
              "#ed7953"
             ],
             [
              0.7777777777777778,
              "#fb9f3a"
             ],
             [
              0.8888888888888888,
              "#fdca26"
             ],
             [
              1,
              "#f0f921"
             ]
            ],
            "type": "histogram2d"
           }
          ],
          "histogram2dcontour": [
           {
            "colorbar": {
             "outlinewidth": 0,
             "ticks": ""
            },
            "colorscale": [
             [
              0,
              "#0d0887"
             ],
             [
              0.1111111111111111,
              "#46039f"
             ],
             [
              0.2222222222222222,
              "#7201a8"
             ],
             [
              0.3333333333333333,
              "#9c179e"
             ],
             [
              0.4444444444444444,
              "#bd3786"
             ],
             [
              0.5555555555555556,
              "#d8576b"
             ],
             [
              0.6666666666666666,
              "#ed7953"
             ],
             [
              0.7777777777777778,
              "#fb9f3a"
             ],
             [
              0.8888888888888888,
              "#fdca26"
             ],
             [
              1,
              "#f0f921"
             ]
            ],
            "type": "histogram2dcontour"
           }
          ],
          "mesh3d": [
           {
            "colorbar": {
             "outlinewidth": 0,
             "ticks": ""
            },
            "type": "mesh3d"
           }
          ],
          "parcoords": [
           {
            "line": {
             "colorbar": {
              "outlinewidth": 0,
              "ticks": ""
             }
            },
            "type": "parcoords"
           }
          ],
          "scatter": [
           {
            "marker": {
             "colorbar": {
              "outlinewidth": 0,
              "ticks": ""
             }
            },
            "type": "scatter"
           }
          ],
          "scatter3d": [
           {
            "line": {
             "colorbar": {
              "outlinewidth": 0,
              "ticks": ""
             }
            },
            "marker": {
             "colorbar": {
              "outlinewidth": 0,
              "ticks": ""
             }
            },
            "type": "scatter3d"
           }
          ],
          "scattercarpet": [
           {
            "marker": {
             "colorbar": {
              "outlinewidth": 0,
              "ticks": ""
             }
            },
            "type": "scattercarpet"
           }
          ],
          "scattergeo": [
           {
            "marker": {
             "colorbar": {
              "outlinewidth": 0,
              "ticks": ""
             }
            },
            "type": "scattergeo"
           }
          ],
          "scattergl": [
           {
            "marker": {
             "colorbar": {
              "outlinewidth": 0,
              "ticks": ""
             }
            },
            "type": "scattergl"
           }
          ],
          "scattermapbox": [
           {
            "marker": {
             "colorbar": {
              "outlinewidth": 0,
              "ticks": ""
             }
            },
            "type": "scattermapbox"
           }
          ],
          "scatterpolar": [
           {
            "marker": {
             "colorbar": {
              "outlinewidth": 0,
              "ticks": ""
             }
            },
            "type": "scatterpolar"
           }
          ],
          "scatterpolargl": [
           {
            "marker": {
             "colorbar": {
              "outlinewidth": 0,
              "ticks": ""
             }
            },
            "type": "scatterpolargl"
           }
          ],
          "scatterternary": [
           {
            "marker": {
             "colorbar": {
              "outlinewidth": 0,
              "ticks": ""
             }
            },
            "type": "scatterternary"
           }
          ],
          "surface": [
           {
            "colorbar": {
             "outlinewidth": 0,
             "ticks": ""
            },
            "colorscale": [
             [
              0,
              "#0d0887"
             ],
             [
              0.1111111111111111,
              "#46039f"
             ],
             [
              0.2222222222222222,
              "#7201a8"
             ],
             [
              0.3333333333333333,
              "#9c179e"
             ],
             [
              0.4444444444444444,
              "#bd3786"
             ],
             [
              0.5555555555555556,
              "#d8576b"
             ],
             [
              0.6666666666666666,
              "#ed7953"
             ],
             [
              0.7777777777777778,
              "#fb9f3a"
             ],
             [
              0.8888888888888888,
              "#fdca26"
             ],
             [
              1,
              "#f0f921"
             ]
            ],
            "type": "surface"
           }
          ],
          "table": [
           {
            "cells": {
             "fill": {
              "color": "#EBF0F8"
             },
             "line": {
              "color": "white"
             }
            },
            "header": {
             "fill": {
              "color": "#C8D4E3"
             },
             "line": {
              "color": "white"
             }
            },
            "type": "table"
           }
          ]
         },
         "layout": {
          "annotationdefaults": {
           "arrowcolor": "#2a3f5f",
           "arrowhead": 0,
           "arrowwidth": 1
          },
          "colorscale": {
           "diverging": [
            [
             0,
             "#8e0152"
            ],
            [
             0.1,
             "#c51b7d"
            ],
            [
             0.2,
             "#de77ae"
            ],
            [
             0.3,
             "#f1b6da"
            ],
            [
             0.4,
             "#fde0ef"
            ],
            [
             0.5,
             "#f7f7f7"
            ],
            [
             0.6,
             "#e6f5d0"
            ],
            [
             0.7,
             "#b8e186"
            ],
            [
             0.8,
             "#7fbc41"
            ],
            [
             0.9,
             "#4d9221"
            ],
            [
             1,
             "#276419"
            ]
           ],
           "sequential": [
            [
             0,
             "#0d0887"
            ],
            [
             0.1111111111111111,
             "#46039f"
            ],
            [
             0.2222222222222222,
             "#7201a8"
            ],
            [
             0.3333333333333333,
             "#9c179e"
            ],
            [
             0.4444444444444444,
             "#bd3786"
            ],
            [
             0.5555555555555556,
             "#d8576b"
            ],
            [
             0.6666666666666666,
             "#ed7953"
            ],
            [
             0.7777777777777778,
             "#fb9f3a"
            ],
            [
             0.8888888888888888,
             "#fdca26"
            ],
            [
             1,
             "#f0f921"
            ]
           ],
           "sequentialminus": [
            [
             0,
             "#0d0887"
            ],
            [
             0.1111111111111111,
             "#46039f"
            ],
            [
             0.2222222222222222,
             "#7201a8"
            ],
            [
             0.3333333333333333,
             "#9c179e"
            ],
            [
             0.4444444444444444,
             "#bd3786"
            ],
            [
             0.5555555555555556,
             "#d8576b"
            ],
            [
             0.6666666666666666,
             "#ed7953"
            ],
            [
             0.7777777777777778,
             "#fb9f3a"
            ],
            [
             0.8888888888888888,
             "#fdca26"
            ],
            [
             1,
             "#f0f921"
            ]
           ]
          },
          "colorway": [
           "#636efa",
           "#EF553B",
           "#00cc96",
           "#ab63fa",
           "#FFA15A",
           "#19d3f3",
           "#FF6692",
           "#B6E880",
           "#FF97FF",
           "#FECB52"
          ],
          "font": {
           "color": "#2a3f5f"
          },
          "geo": {
           "bgcolor": "white",
           "lakecolor": "white",
           "landcolor": "#E5ECF6",
           "showlakes": true,
           "showland": true,
           "subunitcolor": "white"
          },
          "hoverlabel": {
           "align": "left"
          },
          "hovermode": "closest",
          "mapbox": {
           "style": "light"
          },
          "paper_bgcolor": "white",
          "plot_bgcolor": "#E5ECF6",
          "polar": {
           "angularaxis": {
            "gridcolor": "white",
            "linecolor": "white",
            "ticks": ""
           },
           "bgcolor": "#E5ECF6",
           "radialaxis": {
            "gridcolor": "white",
            "linecolor": "white",
            "ticks": ""
           }
          },
          "scene": {
           "xaxis": {
            "backgroundcolor": "#E5ECF6",
            "gridcolor": "white",
            "gridwidth": 2,
            "linecolor": "white",
            "showbackground": true,
            "ticks": "",
            "zerolinecolor": "white"
           },
           "yaxis": {
            "backgroundcolor": "#E5ECF6",
            "gridcolor": "white",
            "gridwidth": 2,
            "linecolor": "white",
            "showbackground": true,
            "ticks": "",
            "zerolinecolor": "white"
           },
           "zaxis": {
            "backgroundcolor": "#E5ECF6",
            "gridcolor": "white",
            "gridwidth": 2,
            "linecolor": "white",
            "showbackground": true,
            "ticks": "",
            "zerolinecolor": "white"
           }
          },
          "shapedefaults": {
           "line": {
            "color": "#2a3f5f"
           }
          },
          "ternary": {
           "aaxis": {
            "gridcolor": "white",
            "linecolor": "white",
            "ticks": ""
           },
           "baxis": {
            "gridcolor": "white",
            "linecolor": "white",
            "ticks": ""
           },
           "bgcolor": "#E5ECF6",
           "caxis": {
            "gridcolor": "white",
            "linecolor": "white",
            "ticks": ""
           }
          },
          "title": {
           "x": 0.05
          },
          "xaxis": {
           "automargin": true,
           "gridcolor": "white",
           "linecolor": "white",
           "ticks": "",
           "zerolinecolor": "white",
           "zerolinewidth": 2
          },
          "yaxis": {
           "automargin": true,
           "gridcolor": "white",
           "linecolor": "white",
           "ticks": "",
           "zerolinecolor": "white",
           "zerolinewidth": 2
          }
         }
        },
        "title": {
         "text": "화자의 성별에 따른 어미 사용 비율"
        },
        "xaxis": {
         "anchor": "y",
         "domain": [
          0,
          0.98
         ],
         "title": {
          "text": "화자의 성별"
         }
        },
        "yaxis": {
         "anchor": "x",
         "domain": [
          0,
          1
         ],
         "title": {
          "text": "어미 사용 비율(%)"
         }
        }
       }
      },
      "text/html": [
       "<div>\n",
       "        \n",
       "        \n",
       "            <div id=\"8e68f887-33ea-4e2f-a711-19d7b799c882\" class=\"plotly-graph-div\" style=\"height:400px; width:100%;\"></div>\n",
       "            <script type=\"text/javascript\">\n",
       "                require([\"plotly\"], function(Plotly) {\n",
       "                    window.PLOTLYENV=window.PLOTLYENV || {};\n",
       "                    \n",
       "                if (document.getElementById(\"8e68f887-33ea-4e2f-a711-19d7b799c882\")) {\n",
       "                    Plotly.newPlot(\n",
       "                        '8e68f887-33ea-4e2f-a711-19d7b799c882',\n",
       "                        [{\"alignmentgroup\": \"True\", \"hoverlabel\": {\"namelength\": 0}, \"hovertemplate\": \"\\uc5b4\\ubbf8=\\uc796<br>gender=%{x}<br>\\ube44\\uc728=%{y}\", \"legendgroup\": \"\\uc5b4\\ubbf8=\\uc796\", \"marker\": {\"color\": \"#636efa\"}, \"name\": \"\\uc5b4\\ubbf8=\\uc796\", \"offsetgroup\": \"\\uc5b4\\ubbf8=\\uc796\", \"orientation\": \"v\", \"showlegend\": true, \"textposition\": \"auto\", \"type\": \"bar\", \"x\": [\"F\", \"M\"], \"xaxis\": \"x\", \"y\": [2.9296875, 1.4732965009208103], \"yaxis\": \"y\"}, {\"alignmentgroup\": \"True\", \"hoverlabel\": {\"namelength\": 0}, \"hovertemplate\": \"\\uc5b4\\ubbf8=\\uac70\\ub4e0<br>gender=%{x}<br>\\ube44\\uc728=%{y}\", \"legendgroup\": \"\\uc5b4\\ubbf8=\\uac70\\ub4e0\", \"marker\": {\"color\": \"#EF553B\"}, \"name\": \"\\uc5b4\\ubbf8=\\uac70\\ub4e0\", \"offsetgroup\": \"\\uc5b4\\ubbf8=\\uac70\\ub4e0\", \"orientation\": \"v\", \"showlegend\": true, \"textposition\": \"auto\", \"type\": \"bar\", \"x\": [\"F\", \"M\"], \"xaxis\": \"x\", \"y\": [2.734375, 3.867403314917127], \"yaxis\": \"y\"}],\n",
       "                        {\"barmode\": \"group\", \"height\": 400, \"legend\": {\"tracegroupgap\": 0}, \"margin\": {\"t\": 60}, \"template\": {\"data\": {\"bar\": [{\"error_x\": {\"color\": \"#2a3f5f\"}, \"error_y\": {\"color\": \"#2a3f5f\"}, \"marker\": {\"line\": {\"color\": \"#E5ECF6\", \"width\": 0.5}}, \"type\": \"bar\"}], \"barpolar\": [{\"marker\": {\"line\": {\"color\": \"#E5ECF6\", \"width\": 0.5}}, \"type\": \"barpolar\"}], \"carpet\": [{\"aaxis\": {\"endlinecolor\": \"#2a3f5f\", \"gridcolor\": \"white\", \"linecolor\": \"white\", \"minorgridcolor\": \"white\", \"startlinecolor\": \"#2a3f5f\"}, \"baxis\": {\"endlinecolor\": \"#2a3f5f\", \"gridcolor\": \"white\", \"linecolor\": \"white\", \"minorgridcolor\": \"white\", \"startlinecolor\": \"#2a3f5f\"}, \"type\": \"carpet\"}], \"choropleth\": [{\"colorbar\": {\"outlinewidth\": 0, \"ticks\": \"\"}, \"type\": \"choropleth\"}], \"contour\": [{\"colorbar\": {\"outlinewidth\": 0, \"ticks\": \"\"}, \"colorscale\": [[0.0, \"#0d0887\"], [0.1111111111111111, \"#46039f\"], [0.2222222222222222, \"#7201a8\"], [0.3333333333333333, \"#9c179e\"], [0.4444444444444444, \"#bd3786\"], [0.5555555555555556, \"#d8576b\"], [0.6666666666666666, \"#ed7953\"], [0.7777777777777778, \"#fb9f3a\"], [0.8888888888888888, \"#fdca26\"], [1.0, \"#f0f921\"]], \"type\": \"contour\"}], \"contourcarpet\": [{\"colorbar\": {\"outlinewidth\": 0, \"ticks\": \"\"}, \"type\": \"contourcarpet\"}], \"heatmap\": [{\"colorbar\": {\"outlinewidth\": 0, \"ticks\": \"\"}, \"colorscale\": [[0.0, \"#0d0887\"], [0.1111111111111111, \"#46039f\"], [0.2222222222222222, \"#7201a8\"], [0.3333333333333333, \"#9c179e\"], [0.4444444444444444, \"#bd3786\"], [0.5555555555555556, \"#d8576b\"], [0.6666666666666666, \"#ed7953\"], [0.7777777777777778, \"#fb9f3a\"], [0.8888888888888888, \"#fdca26\"], [1.0, \"#f0f921\"]], \"type\": \"heatmap\"}], \"heatmapgl\": [{\"colorbar\": {\"outlinewidth\": 0, \"ticks\": \"\"}, \"colorscale\": [[0.0, \"#0d0887\"], [0.1111111111111111, \"#46039f\"], [0.2222222222222222, \"#7201a8\"], [0.3333333333333333, \"#9c179e\"], [0.4444444444444444, \"#bd3786\"], [0.5555555555555556, \"#d8576b\"], [0.6666666666666666, \"#ed7953\"], [0.7777777777777778, \"#fb9f3a\"], [0.8888888888888888, \"#fdca26\"], [1.0, \"#f0f921\"]], \"type\": \"heatmapgl\"}], \"histogram\": [{\"marker\": {\"colorbar\": {\"outlinewidth\": 0, \"ticks\": \"\"}}, \"type\": \"histogram\"}], \"histogram2d\": [{\"colorbar\": {\"outlinewidth\": 0, \"ticks\": \"\"}, \"colorscale\": [[0.0, \"#0d0887\"], [0.1111111111111111, \"#46039f\"], [0.2222222222222222, \"#7201a8\"], [0.3333333333333333, \"#9c179e\"], [0.4444444444444444, \"#bd3786\"], [0.5555555555555556, \"#d8576b\"], [0.6666666666666666, \"#ed7953\"], [0.7777777777777778, \"#fb9f3a\"], [0.8888888888888888, \"#fdca26\"], [1.0, \"#f0f921\"]], \"type\": \"histogram2d\"}], \"histogram2dcontour\": [{\"colorbar\": {\"outlinewidth\": 0, \"ticks\": \"\"}, \"colorscale\": [[0.0, \"#0d0887\"], [0.1111111111111111, \"#46039f\"], [0.2222222222222222, \"#7201a8\"], [0.3333333333333333, \"#9c179e\"], [0.4444444444444444, \"#bd3786\"], [0.5555555555555556, \"#d8576b\"], [0.6666666666666666, \"#ed7953\"], [0.7777777777777778, \"#fb9f3a\"], [0.8888888888888888, \"#fdca26\"], [1.0, \"#f0f921\"]], \"type\": \"histogram2dcontour\"}], \"mesh3d\": [{\"colorbar\": {\"outlinewidth\": 0, \"ticks\": \"\"}, \"type\": \"mesh3d\"}], \"parcoords\": [{\"line\": {\"colorbar\": {\"outlinewidth\": 0, \"ticks\": \"\"}}, \"type\": \"parcoords\"}], \"scatter\": [{\"marker\": {\"colorbar\": {\"outlinewidth\": 0, \"ticks\": \"\"}}, \"type\": \"scatter\"}], \"scatter3d\": [{\"line\": {\"colorbar\": {\"outlinewidth\": 0, \"ticks\": \"\"}}, \"marker\": {\"colorbar\": {\"outlinewidth\": 0, \"ticks\": \"\"}}, \"type\": \"scatter3d\"}], \"scattercarpet\": [{\"marker\": {\"colorbar\": {\"outlinewidth\": 0, \"ticks\": \"\"}}, \"type\": \"scattercarpet\"}], \"scattergeo\": [{\"marker\": {\"colorbar\": {\"outlinewidth\": 0, \"ticks\": \"\"}}, \"type\": \"scattergeo\"}], \"scattergl\": [{\"marker\": {\"colorbar\": {\"outlinewidth\": 0, \"ticks\": \"\"}}, \"type\": \"scattergl\"}], \"scattermapbox\": [{\"marker\": {\"colorbar\": {\"outlinewidth\": 0, \"ticks\": \"\"}}, \"type\": \"scattermapbox\"}], \"scatterpolar\": [{\"marker\": {\"colorbar\": {\"outlinewidth\": 0, \"ticks\": \"\"}}, \"type\": \"scatterpolar\"}], \"scatterpolargl\": [{\"marker\": {\"colorbar\": {\"outlinewidth\": 0, \"ticks\": \"\"}}, \"type\": \"scatterpolargl\"}], \"scatterternary\": [{\"marker\": {\"colorbar\": {\"outlinewidth\": 0, \"ticks\": \"\"}}, \"type\": \"scatterternary\"}], \"surface\": [{\"colorbar\": {\"outlinewidth\": 0, \"ticks\": \"\"}, \"colorscale\": [[0.0, \"#0d0887\"], [0.1111111111111111, \"#46039f\"], [0.2222222222222222, \"#7201a8\"], [0.3333333333333333, \"#9c179e\"], [0.4444444444444444, \"#bd3786\"], [0.5555555555555556, \"#d8576b\"], [0.6666666666666666, \"#ed7953\"], [0.7777777777777778, \"#fb9f3a\"], [0.8888888888888888, \"#fdca26\"], [1.0, \"#f0f921\"]], \"type\": \"surface\"}], \"table\": [{\"cells\": {\"fill\": {\"color\": \"#EBF0F8\"}, \"line\": {\"color\": \"white\"}}, \"header\": {\"fill\": {\"color\": \"#C8D4E3\"}, \"line\": {\"color\": \"white\"}}, \"type\": \"table\"}]}, \"layout\": {\"annotationdefaults\": {\"arrowcolor\": \"#2a3f5f\", \"arrowhead\": 0, \"arrowwidth\": 1}, \"colorscale\": {\"diverging\": [[0, \"#8e0152\"], [0.1, \"#c51b7d\"], [0.2, \"#de77ae\"], [0.3, \"#f1b6da\"], [0.4, \"#fde0ef\"], [0.5, \"#f7f7f7\"], [0.6, \"#e6f5d0\"], [0.7, \"#b8e186\"], [0.8, \"#7fbc41\"], [0.9, \"#4d9221\"], [1, \"#276419\"]], \"sequential\": [[0.0, \"#0d0887\"], [0.1111111111111111, \"#46039f\"], [0.2222222222222222, \"#7201a8\"], [0.3333333333333333, \"#9c179e\"], [0.4444444444444444, \"#bd3786\"], [0.5555555555555556, \"#d8576b\"], [0.6666666666666666, \"#ed7953\"], [0.7777777777777778, \"#fb9f3a\"], [0.8888888888888888, \"#fdca26\"], [1.0, \"#f0f921\"]], \"sequentialminus\": [[0.0, \"#0d0887\"], [0.1111111111111111, \"#46039f\"], [0.2222222222222222, \"#7201a8\"], [0.3333333333333333, \"#9c179e\"], [0.4444444444444444, \"#bd3786\"], [0.5555555555555556, \"#d8576b\"], [0.6666666666666666, \"#ed7953\"], [0.7777777777777778, \"#fb9f3a\"], [0.8888888888888888, \"#fdca26\"], [1.0, \"#f0f921\"]]}, \"colorway\": [\"#636efa\", \"#EF553B\", \"#00cc96\", \"#ab63fa\", \"#FFA15A\", \"#19d3f3\", \"#FF6692\", \"#B6E880\", \"#FF97FF\", \"#FECB52\"], \"font\": {\"color\": \"#2a3f5f\"}, \"geo\": {\"bgcolor\": \"white\", \"lakecolor\": \"white\", \"landcolor\": \"#E5ECF6\", \"showlakes\": true, \"showland\": true, \"subunitcolor\": \"white\"}, \"hoverlabel\": {\"align\": \"left\"}, \"hovermode\": \"closest\", \"mapbox\": {\"style\": \"light\"}, \"paper_bgcolor\": \"white\", \"plot_bgcolor\": \"#E5ECF6\", \"polar\": {\"angularaxis\": {\"gridcolor\": \"white\", \"linecolor\": \"white\", \"ticks\": \"\"}, \"bgcolor\": \"#E5ECF6\", \"radialaxis\": {\"gridcolor\": \"white\", \"linecolor\": \"white\", \"ticks\": \"\"}}, \"scene\": {\"xaxis\": {\"backgroundcolor\": \"#E5ECF6\", \"gridcolor\": \"white\", \"gridwidth\": 2, \"linecolor\": \"white\", \"showbackground\": true, \"ticks\": \"\", \"zerolinecolor\": \"white\"}, \"yaxis\": {\"backgroundcolor\": \"#E5ECF6\", \"gridcolor\": \"white\", \"gridwidth\": 2, \"linecolor\": \"white\", \"showbackground\": true, \"ticks\": \"\", \"zerolinecolor\": \"white\"}, \"zaxis\": {\"backgroundcolor\": \"#E5ECF6\", \"gridcolor\": \"white\", \"gridwidth\": 2, \"linecolor\": \"white\", \"showbackground\": true, \"ticks\": \"\", \"zerolinecolor\": \"white\"}}, \"shapedefaults\": {\"line\": {\"color\": \"#2a3f5f\"}}, \"ternary\": {\"aaxis\": {\"gridcolor\": \"white\", \"linecolor\": \"white\", \"ticks\": \"\"}, \"baxis\": {\"gridcolor\": \"white\", \"linecolor\": \"white\", \"ticks\": \"\"}, \"bgcolor\": \"#E5ECF6\", \"caxis\": {\"gridcolor\": \"white\", \"linecolor\": \"white\", \"ticks\": \"\"}}, \"title\": {\"x\": 0.05}, \"xaxis\": {\"automargin\": true, \"gridcolor\": \"white\", \"linecolor\": \"white\", \"ticks\": \"\", \"zerolinecolor\": \"white\", \"zerolinewidth\": 2}, \"yaxis\": {\"automargin\": true, \"gridcolor\": \"white\", \"linecolor\": \"white\", \"ticks\": \"\", \"zerolinecolor\": \"white\", \"zerolinewidth\": 2}}}, \"title\": {\"text\": \"\\ud654\\uc790\\uc758 \\uc131\\ubcc4\\uc5d0 \\ub530\\ub978 \\uc5b4\\ubbf8 \\uc0ac\\uc6a9 \\ube44\\uc728\"}, \"xaxis\": {\"anchor\": \"y\", \"domain\": [0.0, 0.98], \"title\": {\"text\": \"\\ud654\\uc790\\uc758 \\uc131\\ubcc4\"}}, \"yaxis\": {\"anchor\": \"x\", \"domain\": [0.0, 1.0], \"title\": {\"text\": \"\\uc5b4\\ubbf8 \\uc0ac\\uc6a9 \\ube44\\uc728(%)\"}}},\n",
       "                        {\"responsive\": true}\n",
       "                    ).then(function(){\n",
       "                            \n",
       "var gd = document.getElementById('8e68f887-33ea-4e2f-a711-19d7b799c882');\n",
       "var x = new MutationObserver(function (mutations, observer) {{\n",
       "        var display = window.getComputedStyle(gd).display;\n",
       "        if (!display || display === 'none') {{\n",
       "            console.log([gd, 'removed!']);\n",
       "            Plotly.purge(gd);\n",
       "            observer.disconnect();\n",
       "        }}\n",
       "}});\n",
       "\n",
       "// Listen for the removal of the full notebook cells\n",
       "var notebookContainer = gd.closest('#notebook-container');\n",
       "if (notebookContainer) {{\n",
       "    x.observe(notebookContainer, {childList: true});\n",
       "}}\n",
       "\n",
       "// Listen for the clearing of the current output cell\n",
       "var outputEl = gd.closest('.output');\n",
       "if (outputEl) {{\n",
       "    x.observe(outputEl, {childList: true});\n",
       "}}\n",
       "\n",
       "                        })\n",
       "                };\n",
       "                });\n",
       "            </script>\n",
       "        </div>"
      ]
     },
     "metadata": {},
     "output_type": "display_data"
    }
   ],
   "source": [
    "import plotly.express as px\n",
    "fig = px.bar(mean, x=\"gender\", y=\"비율\", color='어미', barmode='group',\n",
    "             height=400)\n",
    "fig.update_layout(title=\"화자의 성별에 따른 어미 사용 비율\", xaxis_title=\"화자의 성별\", yaxis_title = \"어미 사용 비율(%)\")\n",
    "fig.show()"
   ]
  },
  {
   "cell_type": "code",
   "execution_count": 271,
   "metadata": {},
   "outputs": [
    {
     "data": {
      "text/html": [
       "<div>\n",
       "<style scoped>\n",
       "    .dataframe tbody tr th:only-of-type {\n",
       "        vertical-align: middle;\n",
       "    }\n",
       "\n",
       "    .dataframe tbody tr th {\n",
       "        vertical-align: top;\n",
       "    }\n",
       "\n",
       "    .dataframe thead th {\n",
       "        text-align: right;\n",
       "    }\n",
       "</style>\n",
       "<table border=\"1\" class=\"dataframe\">\n",
       "  <thead>\n",
       "    <tr style=\"text-align: right;\">\n",
       "      <th></th>\n",
       "      <th>listener</th>\n",
       "      <th>어미</th>\n",
       "      <th>비율</th>\n",
       "    </tr>\n",
       "  </thead>\n",
       "  <tbody>\n",
       "    <tr>\n",
       "      <th>0</th>\n",
       "      <td>F</td>\n",
       "      <td>잖</td>\n",
       "      <td>1.438849</td>\n",
       "    </tr>\n",
       "    <tr>\n",
       "      <th>1</th>\n",
       "      <td>M</td>\n",
       "      <td>잖</td>\n",
       "      <td>0.724638</td>\n",
       "    </tr>\n",
       "    <tr>\n",
       "      <th>2</th>\n",
       "      <td>다수</td>\n",
       "      <td>잖</td>\n",
       "      <td>2.570694</td>\n",
       "    </tr>\n",
       "    <tr>\n",
       "      <th>3</th>\n",
       "      <td>F</td>\n",
       "      <td>거든</td>\n",
       "      <td>4.316547</td>\n",
       "    </tr>\n",
       "    <tr>\n",
       "      <th>4</th>\n",
       "      <td>M</td>\n",
       "      <td>거든</td>\n",
       "      <td>2.173913</td>\n",
       "    </tr>\n",
       "    <tr>\n",
       "      <th>5</th>\n",
       "      <td>다수</td>\n",
       "      <td>거든</td>\n",
       "      <td>3.341902</td>\n",
       "    </tr>\n",
       "  </tbody>\n",
       "</table>\n",
       "</div>"
      ],
      "text/plain": [
       "  listener  어미        비율\n",
       "0        F   잖  1.438849\n",
       "1        M   잖  0.724638\n",
       "2       다수   잖  2.570694\n",
       "3        F  거든  4.316547\n",
       "4        M  거든  2.173913\n",
       "5       다수  거든  3.341902"
      ]
     },
     "execution_count": 271,
     "metadata": {},
     "output_type": "execute_result"
    }
   ],
   "source": [
    "mean3 = df.groupby('listener').mean()[['잖','거든']]*100\n",
    "mean3 = mean3.reset_index()\n",
    "mean3 = pd.melt(mean3, id_vars=['listener'], value_vars=['잖', '거든'], var_name='어미',value_name='비율')\n",
    "mean3"
   ]
  },
  {
   "cell_type": "code",
   "execution_count": 272,
   "metadata": {},
   "outputs": [
    {
     "data": {
      "application/vnd.plotly.v1+json": {
       "config": {
        "plotlyServerURL": "https://plot.ly"
       },
       "data": [
        {
         "alignmentgroup": "True",
         "hoverlabel": {
          "namelength": 0
         },
         "hovertemplate": "어미=잖<br>listener=%{x}<br>비율=%{y}",
         "legendgroup": "어미=잖",
         "marker": {
          "color": "#636efa"
         },
         "name": "어미=잖",
         "offsetgroup": "어미=잖",
         "orientation": "v",
         "showlegend": true,
         "textposition": "auto",
         "type": "bar",
         "x": [
          "F",
          "M",
          "다수"
         ],
         "xaxis": "x",
         "y": [
          1.4388489208633095,
          0.7246376811594203,
          2.570694087403599
         ],
         "yaxis": "y"
        },
        {
         "alignmentgroup": "True",
         "hoverlabel": {
          "namelength": 0
         },
         "hovertemplate": "어미=거든<br>listener=%{x}<br>비율=%{y}",
         "legendgroup": "어미=거든",
         "marker": {
          "color": "#EF553B"
         },
         "name": "어미=거든",
         "offsetgroup": "어미=거든",
         "orientation": "v",
         "showlegend": true,
         "textposition": "auto",
         "type": "bar",
         "x": [
          "F",
          "M",
          "다수"
         ],
         "xaxis": "x",
         "y": [
          4.316546762589928,
          2.1739130434782608,
          3.3419023136246784
         ],
         "yaxis": "y"
        }
       ],
       "layout": {
        "barmode": "group",
        "height": 400,
        "legend": {
         "tracegroupgap": 0
        },
        "margin": {
         "t": 60
        },
        "template": {
         "data": {
          "bar": [
           {
            "error_x": {
             "color": "#2a3f5f"
            },
            "error_y": {
             "color": "#2a3f5f"
            },
            "marker": {
             "line": {
              "color": "#E5ECF6",
              "width": 0.5
             }
            },
            "type": "bar"
           }
          ],
          "barpolar": [
           {
            "marker": {
             "line": {
              "color": "#E5ECF6",
              "width": 0.5
             }
            },
            "type": "barpolar"
           }
          ],
          "carpet": [
           {
            "aaxis": {
             "endlinecolor": "#2a3f5f",
             "gridcolor": "white",
             "linecolor": "white",
             "minorgridcolor": "white",
             "startlinecolor": "#2a3f5f"
            },
            "baxis": {
             "endlinecolor": "#2a3f5f",
             "gridcolor": "white",
             "linecolor": "white",
             "minorgridcolor": "white",
             "startlinecolor": "#2a3f5f"
            },
            "type": "carpet"
           }
          ],
          "choropleth": [
           {
            "colorbar": {
             "outlinewidth": 0,
             "ticks": ""
            },
            "type": "choropleth"
           }
          ],
          "contour": [
           {
            "colorbar": {
             "outlinewidth": 0,
             "ticks": ""
            },
            "colorscale": [
             [
              0,
              "#0d0887"
             ],
             [
              0.1111111111111111,
              "#46039f"
             ],
             [
              0.2222222222222222,
              "#7201a8"
             ],
             [
              0.3333333333333333,
              "#9c179e"
             ],
             [
              0.4444444444444444,
              "#bd3786"
             ],
             [
              0.5555555555555556,
              "#d8576b"
             ],
             [
              0.6666666666666666,
              "#ed7953"
             ],
             [
              0.7777777777777778,
              "#fb9f3a"
             ],
             [
              0.8888888888888888,
              "#fdca26"
             ],
             [
              1,
              "#f0f921"
             ]
            ],
            "type": "contour"
           }
          ],
          "contourcarpet": [
           {
            "colorbar": {
             "outlinewidth": 0,
             "ticks": ""
            },
            "type": "contourcarpet"
           }
          ],
          "heatmap": [
           {
            "colorbar": {
             "outlinewidth": 0,
             "ticks": ""
            },
            "colorscale": [
             [
              0,
              "#0d0887"
             ],
             [
              0.1111111111111111,
              "#46039f"
             ],
             [
              0.2222222222222222,
              "#7201a8"
             ],
             [
              0.3333333333333333,
              "#9c179e"
             ],
             [
              0.4444444444444444,
              "#bd3786"
             ],
             [
              0.5555555555555556,
              "#d8576b"
             ],
             [
              0.6666666666666666,
              "#ed7953"
             ],
             [
              0.7777777777777778,
              "#fb9f3a"
             ],
             [
              0.8888888888888888,
              "#fdca26"
             ],
             [
              1,
              "#f0f921"
             ]
            ],
            "type": "heatmap"
           }
          ],
          "heatmapgl": [
           {
            "colorbar": {
             "outlinewidth": 0,
             "ticks": ""
            },
            "colorscale": [
             [
              0,
              "#0d0887"
             ],
             [
              0.1111111111111111,
              "#46039f"
             ],
             [
              0.2222222222222222,
              "#7201a8"
             ],
             [
              0.3333333333333333,
              "#9c179e"
             ],
             [
              0.4444444444444444,
              "#bd3786"
             ],
             [
              0.5555555555555556,
              "#d8576b"
             ],
             [
              0.6666666666666666,
              "#ed7953"
             ],
             [
              0.7777777777777778,
              "#fb9f3a"
             ],
             [
              0.8888888888888888,
              "#fdca26"
             ],
             [
              1,
              "#f0f921"
             ]
            ],
            "type": "heatmapgl"
           }
          ],
          "histogram": [
           {
            "marker": {
             "colorbar": {
              "outlinewidth": 0,
              "ticks": ""
             }
            },
            "type": "histogram"
           }
          ],
          "histogram2d": [
           {
            "colorbar": {
             "outlinewidth": 0,
             "ticks": ""
            },
            "colorscale": [
             [
              0,
              "#0d0887"
             ],
             [
              0.1111111111111111,
              "#46039f"
             ],
             [
              0.2222222222222222,
              "#7201a8"
             ],
             [
              0.3333333333333333,
              "#9c179e"
             ],
             [
              0.4444444444444444,
              "#bd3786"
             ],
             [
              0.5555555555555556,
              "#d8576b"
             ],
             [
              0.6666666666666666,
              "#ed7953"
             ],
             [
              0.7777777777777778,
              "#fb9f3a"
             ],
             [
              0.8888888888888888,
              "#fdca26"
             ],
             [
              1,
              "#f0f921"
             ]
            ],
            "type": "histogram2d"
           }
          ],
          "histogram2dcontour": [
           {
            "colorbar": {
             "outlinewidth": 0,
             "ticks": ""
            },
            "colorscale": [
             [
              0,
              "#0d0887"
             ],
             [
              0.1111111111111111,
              "#46039f"
             ],
             [
              0.2222222222222222,
              "#7201a8"
             ],
             [
              0.3333333333333333,
              "#9c179e"
             ],
             [
              0.4444444444444444,
              "#bd3786"
             ],
             [
              0.5555555555555556,
              "#d8576b"
             ],
             [
              0.6666666666666666,
              "#ed7953"
             ],
             [
              0.7777777777777778,
              "#fb9f3a"
             ],
             [
              0.8888888888888888,
              "#fdca26"
             ],
             [
              1,
              "#f0f921"
             ]
            ],
            "type": "histogram2dcontour"
           }
          ],
          "mesh3d": [
           {
            "colorbar": {
             "outlinewidth": 0,
             "ticks": ""
            },
            "type": "mesh3d"
           }
          ],
          "parcoords": [
           {
            "line": {
             "colorbar": {
              "outlinewidth": 0,
              "ticks": ""
             }
            },
            "type": "parcoords"
           }
          ],
          "scatter": [
           {
            "marker": {
             "colorbar": {
              "outlinewidth": 0,
              "ticks": ""
             }
            },
            "type": "scatter"
           }
          ],
          "scatter3d": [
           {
            "line": {
             "colorbar": {
              "outlinewidth": 0,
              "ticks": ""
             }
            },
            "marker": {
             "colorbar": {
              "outlinewidth": 0,
              "ticks": ""
             }
            },
            "type": "scatter3d"
           }
          ],
          "scattercarpet": [
           {
            "marker": {
             "colorbar": {
              "outlinewidth": 0,
              "ticks": ""
             }
            },
            "type": "scattercarpet"
           }
          ],
          "scattergeo": [
           {
            "marker": {
             "colorbar": {
              "outlinewidth": 0,
              "ticks": ""
             }
            },
            "type": "scattergeo"
           }
          ],
          "scattergl": [
           {
            "marker": {
             "colorbar": {
              "outlinewidth": 0,
              "ticks": ""
             }
            },
            "type": "scattergl"
           }
          ],
          "scattermapbox": [
           {
            "marker": {
             "colorbar": {
              "outlinewidth": 0,
              "ticks": ""
             }
            },
            "type": "scattermapbox"
           }
          ],
          "scatterpolar": [
           {
            "marker": {
             "colorbar": {
              "outlinewidth": 0,
              "ticks": ""
             }
            },
            "type": "scatterpolar"
           }
          ],
          "scatterpolargl": [
           {
            "marker": {
             "colorbar": {
              "outlinewidth": 0,
              "ticks": ""
             }
            },
            "type": "scatterpolargl"
           }
          ],
          "scatterternary": [
           {
            "marker": {
             "colorbar": {
              "outlinewidth": 0,
              "ticks": ""
             }
            },
            "type": "scatterternary"
           }
          ],
          "surface": [
           {
            "colorbar": {
             "outlinewidth": 0,
             "ticks": ""
            },
            "colorscale": [
             [
              0,
              "#0d0887"
             ],
             [
              0.1111111111111111,
              "#46039f"
             ],
             [
              0.2222222222222222,
              "#7201a8"
             ],
             [
              0.3333333333333333,
              "#9c179e"
             ],
             [
              0.4444444444444444,
              "#bd3786"
             ],
             [
              0.5555555555555556,
              "#d8576b"
             ],
             [
              0.6666666666666666,
              "#ed7953"
             ],
             [
              0.7777777777777778,
              "#fb9f3a"
             ],
             [
              0.8888888888888888,
              "#fdca26"
             ],
             [
              1,
              "#f0f921"
             ]
            ],
            "type": "surface"
           }
          ],
          "table": [
           {
            "cells": {
             "fill": {
              "color": "#EBF0F8"
             },
             "line": {
              "color": "white"
             }
            },
            "header": {
             "fill": {
              "color": "#C8D4E3"
             },
             "line": {
              "color": "white"
             }
            },
            "type": "table"
           }
          ]
         },
         "layout": {
          "annotationdefaults": {
           "arrowcolor": "#2a3f5f",
           "arrowhead": 0,
           "arrowwidth": 1
          },
          "colorscale": {
           "diverging": [
            [
             0,
             "#8e0152"
            ],
            [
             0.1,
             "#c51b7d"
            ],
            [
             0.2,
             "#de77ae"
            ],
            [
             0.3,
             "#f1b6da"
            ],
            [
             0.4,
             "#fde0ef"
            ],
            [
             0.5,
             "#f7f7f7"
            ],
            [
             0.6,
             "#e6f5d0"
            ],
            [
             0.7,
             "#b8e186"
            ],
            [
             0.8,
             "#7fbc41"
            ],
            [
             0.9,
             "#4d9221"
            ],
            [
             1,
             "#276419"
            ]
           ],
           "sequential": [
            [
             0,
             "#0d0887"
            ],
            [
             0.1111111111111111,
             "#46039f"
            ],
            [
             0.2222222222222222,
             "#7201a8"
            ],
            [
             0.3333333333333333,
             "#9c179e"
            ],
            [
             0.4444444444444444,
             "#bd3786"
            ],
            [
             0.5555555555555556,
             "#d8576b"
            ],
            [
             0.6666666666666666,
             "#ed7953"
            ],
            [
             0.7777777777777778,
             "#fb9f3a"
            ],
            [
             0.8888888888888888,
             "#fdca26"
            ],
            [
             1,
             "#f0f921"
            ]
           ],
           "sequentialminus": [
            [
             0,
             "#0d0887"
            ],
            [
             0.1111111111111111,
             "#46039f"
            ],
            [
             0.2222222222222222,
             "#7201a8"
            ],
            [
             0.3333333333333333,
             "#9c179e"
            ],
            [
             0.4444444444444444,
             "#bd3786"
            ],
            [
             0.5555555555555556,
             "#d8576b"
            ],
            [
             0.6666666666666666,
             "#ed7953"
            ],
            [
             0.7777777777777778,
             "#fb9f3a"
            ],
            [
             0.8888888888888888,
             "#fdca26"
            ],
            [
             1,
             "#f0f921"
            ]
           ]
          },
          "colorway": [
           "#636efa",
           "#EF553B",
           "#00cc96",
           "#ab63fa",
           "#FFA15A",
           "#19d3f3",
           "#FF6692",
           "#B6E880",
           "#FF97FF",
           "#FECB52"
          ],
          "font": {
           "color": "#2a3f5f"
          },
          "geo": {
           "bgcolor": "white",
           "lakecolor": "white",
           "landcolor": "#E5ECF6",
           "showlakes": true,
           "showland": true,
           "subunitcolor": "white"
          },
          "hoverlabel": {
           "align": "left"
          },
          "hovermode": "closest",
          "mapbox": {
           "style": "light"
          },
          "paper_bgcolor": "white",
          "plot_bgcolor": "#E5ECF6",
          "polar": {
           "angularaxis": {
            "gridcolor": "white",
            "linecolor": "white",
            "ticks": ""
           },
           "bgcolor": "#E5ECF6",
           "radialaxis": {
            "gridcolor": "white",
            "linecolor": "white",
            "ticks": ""
           }
          },
          "scene": {
           "xaxis": {
            "backgroundcolor": "#E5ECF6",
            "gridcolor": "white",
            "gridwidth": 2,
            "linecolor": "white",
            "showbackground": true,
            "ticks": "",
            "zerolinecolor": "white"
           },
           "yaxis": {
            "backgroundcolor": "#E5ECF6",
            "gridcolor": "white",
            "gridwidth": 2,
            "linecolor": "white",
            "showbackground": true,
            "ticks": "",
            "zerolinecolor": "white"
           },
           "zaxis": {
            "backgroundcolor": "#E5ECF6",
            "gridcolor": "white",
            "gridwidth": 2,
            "linecolor": "white",
            "showbackground": true,
            "ticks": "",
            "zerolinecolor": "white"
           }
          },
          "shapedefaults": {
           "line": {
            "color": "#2a3f5f"
           }
          },
          "ternary": {
           "aaxis": {
            "gridcolor": "white",
            "linecolor": "white",
            "ticks": ""
           },
           "baxis": {
            "gridcolor": "white",
            "linecolor": "white",
            "ticks": ""
           },
           "bgcolor": "#E5ECF6",
           "caxis": {
            "gridcolor": "white",
            "linecolor": "white",
            "ticks": ""
           }
          },
          "title": {
           "x": 0.05
          },
          "xaxis": {
           "automargin": true,
           "gridcolor": "white",
           "linecolor": "white",
           "ticks": "",
           "zerolinecolor": "white",
           "zerolinewidth": 2
          },
          "yaxis": {
           "automargin": true,
           "gridcolor": "white",
           "linecolor": "white",
           "ticks": "",
           "zerolinecolor": "white",
           "zerolinewidth": 2
          }
         }
        },
        "title": {
         "text": "청자의 성별에 따른 어미 사용 비율"
        },
        "xaxis": {
         "anchor": "y",
         "domain": [
          0,
          0.98
         ],
         "title": {
          "text": "청자의 성별"
         }
        },
        "yaxis": {
         "anchor": "x",
         "domain": [
          0,
          1
         ],
         "title": {
          "text": "어미 사용 비율(%)"
         }
        }
       }
      },
      "text/html": [
       "<div>\n",
       "        \n",
       "        \n",
       "            <div id=\"665bbbb0-eed6-4a7b-8152-c7feb3aecbca\" class=\"plotly-graph-div\" style=\"height:400px; width:100%;\"></div>\n",
       "            <script type=\"text/javascript\">\n",
       "                require([\"plotly\"], function(Plotly) {\n",
       "                    window.PLOTLYENV=window.PLOTLYENV || {};\n",
       "                    \n",
       "                if (document.getElementById(\"665bbbb0-eed6-4a7b-8152-c7feb3aecbca\")) {\n",
       "                    Plotly.newPlot(\n",
       "                        '665bbbb0-eed6-4a7b-8152-c7feb3aecbca',\n",
       "                        [{\"alignmentgroup\": \"True\", \"hoverlabel\": {\"namelength\": 0}, \"hovertemplate\": \"\\uc5b4\\ubbf8=\\uc796<br>listener=%{x}<br>\\ube44\\uc728=%{y}\", \"legendgroup\": \"\\uc5b4\\ubbf8=\\uc796\", \"marker\": {\"color\": \"#636efa\"}, \"name\": \"\\uc5b4\\ubbf8=\\uc796\", \"offsetgroup\": \"\\uc5b4\\ubbf8=\\uc796\", \"orientation\": \"v\", \"showlegend\": true, \"textposition\": \"auto\", \"type\": \"bar\", \"x\": [\"F\", \"M\", \"\\ub2e4\\uc218\"], \"xaxis\": \"x\", \"y\": [1.4388489208633095, 0.7246376811594203, 2.570694087403599], \"yaxis\": \"y\"}, {\"alignmentgroup\": \"True\", \"hoverlabel\": {\"namelength\": 0}, \"hovertemplate\": \"\\uc5b4\\ubbf8=\\uac70\\ub4e0<br>listener=%{x}<br>\\ube44\\uc728=%{y}\", \"legendgroup\": \"\\uc5b4\\ubbf8=\\uac70\\ub4e0\", \"marker\": {\"color\": \"#EF553B\"}, \"name\": \"\\uc5b4\\ubbf8=\\uac70\\ub4e0\", \"offsetgroup\": \"\\uc5b4\\ubbf8=\\uac70\\ub4e0\", \"orientation\": \"v\", \"showlegend\": true, \"textposition\": \"auto\", \"type\": \"bar\", \"x\": [\"F\", \"M\", \"\\ub2e4\\uc218\"], \"xaxis\": \"x\", \"y\": [4.316546762589928, 2.1739130434782608, 3.3419023136246784], \"yaxis\": \"y\"}],\n",
       "                        {\"barmode\": \"group\", \"height\": 400, \"legend\": {\"tracegroupgap\": 0}, \"margin\": {\"t\": 60}, \"template\": {\"data\": {\"bar\": [{\"error_x\": {\"color\": \"#2a3f5f\"}, \"error_y\": {\"color\": \"#2a3f5f\"}, \"marker\": {\"line\": {\"color\": \"#E5ECF6\", \"width\": 0.5}}, \"type\": \"bar\"}], \"barpolar\": [{\"marker\": {\"line\": {\"color\": \"#E5ECF6\", \"width\": 0.5}}, \"type\": \"barpolar\"}], \"carpet\": [{\"aaxis\": {\"endlinecolor\": \"#2a3f5f\", \"gridcolor\": \"white\", \"linecolor\": \"white\", \"minorgridcolor\": \"white\", \"startlinecolor\": \"#2a3f5f\"}, \"baxis\": {\"endlinecolor\": \"#2a3f5f\", \"gridcolor\": \"white\", \"linecolor\": \"white\", \"minorgridcolor\": \"white\", \"startlinecolor\": \"#2a3f5f\"}, \"type\": \"carpet\"}], \"choropleth\": [{\"colorbar\": {\"outlinewidth\": 0, \"ticks\": \"\"}, \"type\": \"choropleth\"}], \"contour\": [{\"colorbar\": {\"outlinewidth\": 0, \"ticks\": \"\"}, \"colorscale\": [[0.0, \"#0d0887\"], [0.1111111111111111, \"#46039f\"], [0.2222222222222222, \"#7201a8\"], [0.3333333333333333, \"#9c179e\"], [0.4444444444444444, \"#bd3786\"], [0.5555555555555556, \"#d8576b\"], [0.6666666666666666, \"#ed7953\"], [0.7777777777777778, \"#fb9f3a\"], [0.8888888888888888, \"#fdca26\"], [1.0, \"#f0f921\"]], \"type\": \"contour\"}], \"contourcarpet\": [{\"colorbar\": {\"outlinewidth\": 0, \"ticks\": \"\"}, \"type\": \"contourcarpet\"}], \"heatmap\": [{\"colorbar\": {\"outlinewidth\": 0, \"ticks\": \"\"}, \"colorscale\": [[0.0, \"#0d0887\"], [0.1111111111111111, \"#46039f\"], [0.2222222222222222, \"#7201a8\"], [0.3333333333333333, \"#9c179e\"], [0.4444444444444444, \"#bd3786\"], [0.5555555555555556, \"#d8576b\"], [0.6666666666666666, \"#ed7953\"], [0.7777777777777778, \"#fb9f3a\"], [0.8888888888888888, \"#fdca26\"], [1.0, \"#f0f921\"]], \"type\": \"heatmap\"}], \"heatmapgl\": [{\"colorbar\": {\"outlinewidth\": 0, \"ticks\": \"\"}, \"colorscale\": [[0.0, \"#0d0887\"], [0.1111111111111111, \"#46039f\"], [0.2222222222222222, \"#7201a8\"], [0.3333333333333333, \"#9c179e\"], [0.4444444444444444, \"#bd3786\"], [0.5555555555555556, \"#d8576b\"], [0.6666666666666666, \"#ed7953\"], [0.7777777777777778, \"#fb9f3a\"], [0.8888888888888888, \"#fdca26\"], [1.0, \"#f0f921\"]], \"type\": \"heatmapgl\"}], \"histogram\": [{\"marker\": {\"colorbar\": {\"outlinewidth\": 0, \"ticks\": \"\"}}, \"type\": \"histogram\"}], \"histogram2d\": [{\"colorbar\": {\"outlinewidth\": 0, \"ticks\": \"\"}, \"colorscale\": [[0.0, \"#0d0887\"], [0.1111111111111111, \"#46039f\"], [0.2222222222222222, \"#7201a8\"], [0.3333333333333333, \"#9c179e\"], [0.4444444444444444, \"#bd3786\"], [0.5555555555555556, \"#d8576b\"], [0.6666666666666666, \"#ed7953\"], [0.7777777777777778, \"#fb9f3a\"], [0.8888888888888888, \"#fdca26\"], [1.0, \"#f0f921\"]], \"type\": \"histogram2d\"}], \"histogram2dcontour\": [{\"colorbar\": {\"outlinewidth\": 0, \"ticks\": \"\"}, \"colorscale\": [[0.0, \"#0d0887\"], [0.1111111111111111, \"#46039f\"], [0.2222222222222222, \"#7201a8\"], [0.3333333333333333, \"#9c179e\"], [0.4444444444444444, \"#bd3786\"], [0.5555555555555556, \"#d8576b\"], [0.6666666666666666, \"#ed7953\"], [0.7777777777777778, \"#fb9f3a\"], [0.8888888888888888, \"#fdca26\"], [1.0, \"#f0f921\"]], \"type\": \"histogram2dcontour\"}], \"mesh3d\": [{\"colorbar\": {\"outlinewidth\": 0, \"ticks\": \"\"}, \"type\": \"mesh3d\"}], \"parcoords\": [{\"line\": {\"colorbar\": {\"outlinewidth\": 0, \"ticks\": \"\"}}, \"type\": \"parcoords\"}], \"scatter\": [{\"marker\": {\"colorbar\": {\"outlinewidth\": 0, \"ticks\": \"\"}}, \"type\": \"scatter\"}], \"scatter3d\": [{\"line\": {\"colorbar\": {\"outlinewidth\": 0, \"ticks\": \"\"}}, \"marker\": {\"colorbar\": {\"outlinewidth\": 0, \"ticks\": \"\"}}, \"type\": \"scatter3d\"}], \"scattercarpet\": [{\"marker\": {\"colorbar\": {\"outlinewidth\": 0, \"ticks\": \"\"}}, \"type\": \"scattercarpet\"}], \"scattergeo\": [{\"marker\": {\"colorbar\": {\"outlinewidth\": 0, \"ticks\": \"\"}}, \"type\": \"scattergeo\"}], \"scattergl\": [{\"marker\": {\"colorbar\": {\"outlinewidth\": 0, \"ticks\": \"\"}}, \"type\": \"scattergl\"}], \"scattermapbox\": [{\"marker\": {\"colorbar\": {\"outlinewidth\": 0, \"ticks\": \"\"}}, \"type\": \"scattermapbox\"}], \"scatterpolar\": [{\"marker\": {\"colorbar\": {\"outlinewidth\": 0, \"ticks\": \"\"}}, \"type\": \"scatterpolar\"}], \"scatterpolargl\": [{\"marker\": {\"colorbar\": {\"outlinewidth\": 0, \"ticks\": \"\"}}, \"type\": \"scatterpolargl\"}], \"scatterternary\": [{\"marker\": {\"colorbar\": {\"outlinewidth\": 0, \"ticks\": \"\"}}, \"type\": \"scatterternary\"}], \"surface\": [{\"colorbar\": {\"outlinewidth\": 0, \"ticks\": \"\"}, \"colorscale\": [[0.0, \"#0d0887\"], [0.1111111111111111, \"#46039f\"], [0.2222222222222222, \"#7201a8\"], [0.3333333333333333, \"#9c179e\"], [0.4444444444444444, \"#bd3786\"], [0.5555555555555556, \"#d8576b\"], [0.6666666666666666, \"#ed7953\"], [0.7777777777777778, \"#fb9f3a\"], [0.8888888888888888, \"#fdca26\"], [1.0, \"#f0f921\"]], \"type\": \"surface\"}], \"table\": [{\"cells\": {\"fill\": {\"color\": \"#EBF0F8\"}, \"line\": {\"color\": \"white\"}}, \"header\": {\"fill\": {\"color\": \"#C8D4E3\"}, \"line\": {\"color\": \"white\"}}, \"type\": \"table\"}]}, \"layout\": {\"annotationdefaults\": {\"arrowcolor\": \"#2a3f5f\", \"arrowhead\": 0, \"arrowwidth\": 1}, \"colorscale\": {\"diverging\": [[0, \"#8e0152\"], [0.1, \"#c51b7d\"], [0.2, \"#de77ae\"], [0.3, \"#f1b6da\"], [0.4, \"#fde0ef\"], [0.5, \"#f7f7f7\"], [0.6, \"#e6f5d0\"], [0.7, \"#b8e186\"], [0.8, \"#7fbc41\"], [0.9, \"#4d9221\"], [1, \"#276419\"]], \"sequential\": [[0.0, \"#0d0887\"], [0.1111111111111111, \"#46039f\"], [0.2222222222222222, \"#7201a8\"], [0.3333333333333333, \"#9c179e\"], [0.4444444444444444, \"#bd3786\"], [0.5555555555555556, \"#d8576b\"], [0.6666666666666666, \"#ed7953\"], [0.7777777777777778, \"#fb9f3a\"], [0.8888888888888888, \"#fdca26\"], [1.0, \"#f0f921\"]], \"sequentialminus\": [[0.0, \"#0d0887\"], [0.1111111111111111, \"#46039f\"], [0.2222222222222222, \"#7201a8\"], [0.3333333333333333, \"#9c179e\"], [0.4444444444444444, \"#bd3786\"], [0.5555555555555556, \"#d8576b\"], [0.6666666666666666, \"#ed7953\"], [0.7777777777777778, \"#fb9f3a\"], [0.8888888888888888, \"#fdca26\"], [1.0, \"#f0f921\"]]}, \"colorway\": [\"#636efa\", \"#EF553B\", \"#00cc96\", \"#ab63fa\", \"#FFA15A\", \"#19d3f3\", \"#FF6692\", \"#B6E880\", \"#FF97FF\", \"#FECB52\"], \"font\": {\"color\": \"#2a3f5f\"}, \"geo\": {\"bgcolor\": \"white\", \"lakecolor\": \"white\", \"landcolor\": \"#E5ECF6\", \"showlakes\": true, \"showland\": true, \"subunitcolor\": \"white\"}, \"hoverlabel\": {\"align\": \"left\"}, \"hovermode\": \"closest\", \"mapbox\": {\"style\": \"light\"}, \"paper_bgcolor\": \"white\", \"plot_bgcolor\": \"#E5ECF6\", \"polar\": {\"angularaxis\": {\"gridcolor\": \"white\", \"linecolor\": \"white\", \"ticks\": \"\"}, \"bgcolor\": \"#E5ECF6\", \"radialaxis\": {\"gridcolor\": \"white\", \"linecolor\": \"white\", \"ticks\": \"\"}}, \"scene\": {\"xaxis\": {\"backgroundcolor\": \"#E5ECF6\", \"gridcolor\": \"white\", \"gridwidth\": 2, \"linecolor\": \"white\", \"showbackground\": true, \"ticks\": \"\", \"zerolinecolor\": \"white\"}, \"yaxis\": {\"backgroundcolor\": \"#E5ECF6\", \"gridcolor\": \"white\", \"gridwidth\": 2, \"linecolor\": \"white\", \"showbackground\": true, \"ticks\": \"\", \"zerolinecolor\": \"white\"}, \"zaxis\": {\"backgroundcolor\": \"#E5ECF6\", \"gridcolor\": \"white\", \"gridwidth\": 2, \"linecolor\": \"white\", \"showbackground\": true, \"ticks\": \"\", \"zerolinecolor\": \"white\"}}, \"shapedefaults\": {\"line\": {\"color\": \"#2a3f5f\"}}, \"ternary\": {\"aaxis\": {\"gridcolor\": \"white\", \"linecolor\": \"white\", \"ticks\": \"\"}, \"baxis\": {\"gridcolor\": \"white\", \"linecolor\": \"white\", \"ticks\": \"\"}, \"bgcolor\": \"#E5ECF6\", \"caxis\": {\"gridcolor\": \"white\", \"linecolor\": \"white\", \"ticks\": \"\"}}, \"title\": {\"x\": 0.05}, \"xaxis\": {\"automargin\": true, \"gridcolor\": \"white\", \"linecolor\": \"white\", \"ticks\": \"\", \"zerolinecolor\": \"white\", \"zerolinewidth\": 2}, \"yaxis\": {\"automargin\": true, \"gridcolor\": \"white\", \"linecolor\": \"white\", \"ticks\": \"\", \"zerolinecolor\": \"white\", \"zerolinewidth\": 2}}}, \"title\": {\"text\": \"\\uccad\\uc790\\uc758 \\uc131\\ubcc4\\uc5d0 \\ub530\\ub978 \\uc5b4\\ubbf8 \\uc0ac\\uc6a9 \\ube44\\uc728\"}, \"xaxis\": {\"anchor\": \"y\", \"domain\": [0.0, 0.98], \"title\": {\"text\": \"\\uccad\\uc790\\uc758 \\uc131\\ubcc4\"}}, \"yaxis\": {\"anchor\": \"x\", \"domain\": [0.0, 1.0], \"title\": {\"text\": \"\\uc5b4\\ubbf8 \\uc0ac\\uc6a9 \\ube44\\uc728(%)\"}}},\n",
       "                        {\"responsive\": true}\n",
       "                    ).then(function(){\n",
       "                            \n",
       "var gd = document.getElementById('665bbbb0-eed6-4a7b-8152-c7feb3aecbca');\n",
       "var x = new MutationObserver(function (mutations, observer) {{\n",
       "        var display = window.getComputedStyle(gd).display;\n",
       "        if (!display || display === 'none') {{\n",
       "            console.log([gd, 'removed!']);\n",
       "            Plotly.purge(gd);\n",
       "            observer.disconnect();\n",
       "        }}\n",
       "}});\n",
       "\n",
       "// Listen for the removal of the full notebook cells\n",
       "var notebookContainer = gd.closest('#notebook-container');\n",
       "if (notebookContainer) {{\n",
       "    x.observe(notebookContainer, {childList: true});\n",
       "}}\n",
       "\n",
       "// Listen for the clearing of the current output cell\n",
       "var outputEl = gd.closest('.output');\n",
       "if (outputEl) {{\n",
       "    x.observe(outputEl, {childList: true});\n",
       "}}\n",
       "\n",
       "                        })\n",
       "                };\n",
       "                });\n",
       "            </script>\n",
       "        </div>"
      ]
     },
     "metadata": {},
     "output_type": "display_data"
    }
   ],
   "source": [
    "fig = px.bar(mean3, x=\"listener\", y=\"비율\", color='어미', barmode='group',\n",
    "             height=400)\n",
    "fig.update_layout(title=\"청자의 성별에 따른 어미 사용 비율\", xaxis_title=\"청자의 성별\", yaxis_title = \"어미 사용 비율(%)\")\n",
    "fig.show()"
   ]
  },
  {
   "cell_type": "code",
   "execution_count": 273,
   "metadata": {},
   "outputs": [
    {
     "data": {
      "text/html": [
       "<div>\n",
       "<style scoped>\n",
       "    .dataframe tbody tr th:only-of-type {\n",
       "        vertical-align: middle;\n",
       "    }\n",
       "\n",
       "    .dataframe tbody tr th {\n",
       "        vertical-align: top;\n",
       "    }\n",
       "\n",
       "    .dataframe thead th {\n",
       "        text-align: right;\n",
       "    }\n",
       "</style>\n",
       "<table border=\"1\" class=\"dataframe\">\n",
       "  <thead>\n",
       "    <tr style=\"text-align: right;\">\n",
       "      <th></th>\n",
       "      <th>지위</th>\n",
       "      <th>어미</th>\n",
       "      <th>비율</th>\n",
       "    </tr>\n",
       "  </thead>\n",
       "  <tbody>\n",
       "    <tr>\n",
       "      <th>0</th>\n",
       "      <td>모름</td>\n",
       "      <td>잖</td>\n",
       "      <td>3.492063</td>\n",
       "    </tr>\n",
       "    <tr>\n",
       "      <th>1</th>\n",
       "      <td>상</td>\n",
       "      <td>잖</td>\n",
       "      <td>1.432665</td>\n",
       "    </tr>\n",
       "    <tr>\n",
       "      <th>2</th>\n",
       "      <td>하</td>\n",
       "      <td>잖</td>\n",
       "      <td>4.761905</td>\n",
       "    </tr>\n",
       "    <tr>\n",
       "      <th>3</th>\n",
       "      <td>모름</td>\n",
       "      <td>거든</td>\n",
       "      <td>5.079365</td>\n",
       "    </tr>\n",
       "    <tr>\n",
       "      <th>4</th>\n",
       "      <td>상</td>\n",
       "      <td>거든</td>\n",
       "      <td>2.578797</td>\n",
       "    </tr>\n",
       "    <tr>\n",
       "      <th>5</th>\n",
       "      <td>하</td>\n",
       "      <td>거든</td>\n",
       "      <td>2.380952</td>\n",
       "    </tr>\n",
       "  </tbody>\n",
       "</table>\n",
       "</div>"
      ],
      "text/plain": [
       "   지위  어미        비율\n",
       "0  모름   잖  3.492063\n",
       "1   상   잖  1.432665\n",
       "2   하   잖  4.761905\n",
       "3  모름  거든  5.079365\n",
       "4   상  거든  2.578797\n",
       "5   하  거든  2.380952"
      ]
     },
     "execution_count": 273,
     "metadata": {},
     "output_type": "execute_result"
    }
   ],
   "source": [
    "mean2 = df.groupby('지위').mean()[['잖','거든']]*100\n",
    "mean2 = mean2.reset_index()\n",
    "mean2 = pd.melt(mean2, id_vars=['지위'], value_vars=['잖', '거든'], var_name='어미',value_name='비율')\n",
    "mean2"
   ]
  },
  {
   "cell_type": "code",
   "execution_count": 274,
   "metadata": {},
   "outputs": [
    {
     "data": {
      "application/vnd.plotly.v1+json": {
       "config": {
        "plotlyServerURL": "https://plot.ly"
       },
       "data": [
        {
         "alignmentgroup": "True",
         "hoverlabel": {
          "namelength": 0
         },
         "hovertemplate": "어미=잖<br>지위=%{x}<br>비율=%{y}",
         "legendgroup": "어미=잖",
         "marker": {
          "color": "#636efa"
         },
         "name": "어미=잖",
         "offsetgroup": "어미=잖",
         "orientation": "v",
         "showlegend": true,
         "textposition": "auto",
         "type": "bar",
         "x": [
          "모름",
          "상",
          "하"
         ],
         "xaxis": "x",
         "y": [
          3.492063492063492,
          1.4326647564469914,
          4.761904761904762
         ],
         "yaxis": "y"
        },
        {
         "alignmentgroup": "True",
         "hoverlabel": {
          "namelength": 0
         },
         "hovertemplate": "어미=거든<br>지위=%{x}<br>비율=%{y}",
         "legendgroup": "어미=거든",
         "marker": {
          "color": "#EF553B"
         },
         "name": "어미=거든",
         "offsetgroup": "어미=거든",
         "orientation": "v",
         "showlegend": true,
         "textposition": "auto",
         "type": "bar",
         "x": [
          "모름",
          "상",
          "하"
         ],
         "xaxis": "x",
         "y": [
          5.079365079365079,
          2.5787965616045847,
          2.380952380952381
         ],
         "yaxis": "y"
        }
       ],
       "layout": {
        "barmode": "group",
        "height": 400,
        "legend": {
         "tracegroupgap": 0
        },
        "margin": {
         "t": 60
        },
        "template": {
         "data": {
          "bar": [
           {
            "error_x": {
             "color": "#2a3f5f"
            },
            "error_y": {
             "color": "#2a3f5f"
            },
            "marker": {
             "line": {
              "color": "#E5ECF6",
              "width": 0.5
             }
            },
            "type": "bar"
           }
          ],
          "barpolar": [
           {
            "marker": {
             "line": {
              "color": "#E5ECF6",
              "width": 0.5
             }
            },
            "type": "barpolar"
           }
          ],
          "carpet": [
           {
            "aaxis": {
             "endlinecolor": "#2a3f5f",
             "gridcolor": "white",
             "linecolor": "white",
             "minorgridcolor": "white",
             "startlinecolor": "#2a3f5f"
            },
            "baxis": {
             "endlinecolor": "#2a3f5f",
             "gridcolor": "white",
             "linecolor": "white",
             "minorgridcolor": "white",
             "startlinecolor": "#2a3f5f"
            },
            "type": "carpet"
           }
          ],
          "choropleth": [
           {
            "colorbar": {
             "outlinewidth": 0,
             "ticks": ""
            },
            "type": "choropleth"
           }
          ],
          "contour": [
           {
            "colorbar": {
             "outlinewidth": 0,
             "ticks": ""
            },
            "colorscale": [
             [
              0,
              "#0d0887"
             ],
             [
              0.1111111111111111,
              "#46039f"
             ],
             [
              0.2222222222222222,
              "#7201a8"
             ],
             [
              0.3333333333333333,
              "#9c179e"
             ],
             [
              0.4444444444444444,
              "#bd3786"
             ],
             [
              0.5555555555555556,
              "#d8576b"
             ],
             [
              0.6666666666666666,
              "#ed7953"
             ],
             [
              0.7777777777777778,
              "#fb9f3a"
             ],
             [
              0.8888888888888888,
              "#fdca26"
             ],
             [
              1,
              "#f0f921"
             ]
            ],
            "type": "contour"
           }
          ],
          "contourcarpet": [
           {
            "colorbar": {
             "outlinewidth": 0,
             "ticks": ""
            },
            "type": "contourcarpet"
           }
          ],
          "heatmap": [
           {
            "colorbar": {
             "outlinewidth": 0,
             "ticks": ""
            },
            "colorscale": [
             [
              0,
              "#0d0887"
             ],
             [
              0.1111111111111111,
              "#46039f"
             ],
             [
              0.2222222222222222,
              "#7201a8"
             ],
             [
              0.3333333333333333,
              "#9c179e"
             ],
             [
              0.4444444444444444,
              "#bd3786"
             ],
             [
              0.5555555555555556,
              "#d8576b"
             ],
             [
              0.6666666666666666,
              "#ed7953"
             ],
             [
              0.7777777777777778,
              "#fb9f3a"
             ],
             [
              0.8888888888888888,
              "#fdca26"
             ],
             [
              1,
              "#f0f921"
             ]
            ],
            "type": "heatmap"
           }
          ],
          "heatmapgl": [
           {
            "colorbar": {
             "outlinewidth": 0,
             "ticks": ""
            },
            "colorscale": [
             [
              0,
              "#0d0887"
             ],
             [
              0.1111111111111111,
              "#46039f"
             ],
             [
              0.2222222222222222,
              "#7201a8"
             ],
             [
              0.3333333333333333,
              "#9c179e"
             ],
             [
              0.4444444444444444,
              "#bd3786"
             ],
             [
              0.5555555555555556,
              "#d8576b"
             ],
             [
              0.6666666666666666,
              "#ed7953"
             ],
             [
              0.7777777777777778,
              "#fb9f3a"
             ],
             [
              0.8888888888888888,
              "#fdca26"
             ],
             [
              1,
              "#f0f921"
             ]
            ],
            "type": "heatmapgl"
           }
          ],
          "histogram": [
           {
            "marker": {
             "colorbar": {
              "outlinewidth": 0,
              "ticks": ""
             }
            },
            "type": "histogram"
           }
          ],
          "histogram2d": [
           {
            "colorbar": {
             "outlinewidth": 0,
             "ticks": ""
            },
            "colorscale": [
             [
              0,
              "#0d0887"
             ],
             [
              0.1111111111111111,
              "#46039f"
             ],
             [
              0.2222222222222222,
              "#7201a8"
             ],
             [
              0.3333333333333333,
              "#9c179e"
             ],
             [
              0.4444444444444444,
              "#bd3786"
             ],
             [
              0.5555555555555556,
              "#d8576b"
             ],
             [
              0.6666666666666666,
              "#ed7953"
             ],
             [
              0.7777777777777778,
              "#fb9f3a"
             ],
             [
              0.8888888888888888,
              "#fdca26"
             ],
             [
              1,
              "#f0f921"
             ]
            ],
            "type": "histogram2d"
           }
          ],
          "histogram2dcontour": [
           {
            "colorbar": {
             "outlinewidth": 0,
             "ticks": ""
            },
            "colorscale": [
             [
              0,
              "#0d0887"
             ],
             [
              0.1111111111111111,
              "#46039f"
             ],
             [
              0.2222222222222222,
              "#7201a8"
             ],
             [
              0.3333333333333333,
              "#9c179e"
             ],
             [
              0.4444444444444444,
              "#bd3786"
             ],
             [
              0.5555555555555556,
              "#d8576b"
             ],
             [
              0.6666666666666666,
              "#ed7953"
             ],
             [
              0.7777777777777778,
              "#fb9f3a"
             ],
             [
              0.8888888888888888,
              "#fdca26"
             ],
             [
              1,
              "#f0f921"
             ]
            ],
            "type": "histogram2dcontour"
           }
          ],
          "mesh3d": [
           {
            "colorbar": {
             "outlinewidth": 0,
             "ticks": ""
            },
            "type": "mesh3d"
           }
          ],
          "parcoords": [
           {
            "line": {
             "colorbar": {
              "outlinewidth": 0,
              "ticks": ""
             }
            },
            "type": "parcoords"
           }
          ],
          "scatter": [
           {
            "marker": {
             "colorbar": {
              "outlinewidth": 0,
              "ticks": ""
             }
            },
            "type": "scatter"
           }
          ],
          "scatter3d": [
           {
            "line": {
             "colorbar": {
              "outlinewidth": 0,
              "ticks": ""
             }
            },
            "marker": {
             "colorbar": {
              "outlinewidth": 0,
              "ticks": ""
             }
            },
            "type": "scatter3d"
           }
          ],
          "scattercarpet": [
           {
            "marker": {
             "colorbar": {
              "outlinewidth": 0,
              "ticks": ""
             }
            },
            "type": "scattercarpet"
           }
          ],
          "scattergeo": [
           {
            "marker": {
             "colorbar": {
              "outlinewidth": 0,
              "ticks": ""
             }
            },
            "type": "scattergeo"
           }
          ],
          "scattergl": [
           {
            "marker": {
             "colorbar": {
              "outlinewidth": 0,
              "ticks": ""
             }
            },
            "type": "scattergl"
           }
          ],
          "scattermapbox": [
           {
            "marker": {
             "colorbar": {
              "outlinewidth": 0,
              "ticks": ""
             }
            },
            "type": "scattermapbox"
           }
          ],
          "scatterpolar": [
           {
            "marker": {
             "colorbar": {
              "outlinewidth": 0,
              "ticks": ""
             }
            },
            "type": "scatterpolar"
           }
          ],
          "scatterpolargl": [
           {
            "marker": {
             "colorbar": {
              "outlinewidth": 0,
              "ticks": ""
             }
            },
            "type": "scatterpolargl"
           }
          ],
          "scatterternary": [
           {
            "marker": {
             "colorbar": {
              "outlinewidth": 0,
              "ticks": ""
             }
            },
            "type": "scatterternary"
           }
          ],
          "surface": [
           {
            "colorbar": {
             "outlinewidth": 0,
             "ticks": ""
            },
            "colorscale": [
             [
              0,
              "#0d0887"
             ],
             [
              0.1111111111111111,
              "#46039f"
             ],
             [
              0.2222222222222222,
              "#7201a8"
             ],
             [
              0.3333333333333333,
              "#9c179e"
             ],
             [
              0.4444444444444444,
              "#bd3786"
             ],
             [
              0.5555555555555556,
              "#d8576b"
             ],
             [
              0.6666666666666666,
              "#ed7953"
             ],
             [
              0.7777777777777778,
              "#fb9f3a"
             ],
             [
              0.8888888888888888,
              "#fdca26"
             ],
             [
              1,
              "#f0f921"
             ]
            ],
            "type": "surface"
           }
          ],
          "table": [
           {
            "cells": {
             "fill": {
              "color": "#EBF0F8"
             },
             "line": {
              "color": "white"
             }
            },
            "header": {
             "fill": {
              "color": "#C8D4E3"
             },
             "line": {
              "color": "white"
             }
            },
            "type": "table"
           }
          ]
         },
         "layout": {
          "annotationdefaults": {
           "arrowcolor": "#2a3f5f",
           "arrowhead": 0,
           "arrowwidth": 1
          },
          "colorscale": {
           "diverging": [
            [
             0,
             "#8e0152"
            ],
            [
             0.1,
             "#c51b7d"
            ],
            [
             0.2,
             "#de77ae"
            ],
            [
             0.3,
             "#f1b6da"
            ],
            [
             0.4,
             "#fde0ef"
            ],
            [
             0.5,
             "#f7f7f7"
            ],
            [
             0.6,
             "#e6f5d0"
            ],
            [
             0.7,
             "#b8e186"
            ],
            [
             0.8,
             "#7fbc41"
            ],
            [
             0.9,
             "#4d9221"
            ],
            [
             1,
             "#276419"
            ]
           ],
           "sequential": [
            [
             0,
             "#0d0887"
            ],
            [
             0.1111111111111111,
             "#46039f"
            ],
            [
             0.2222222222222222,
             "#7201a8"
            ],
            [
             0.3333333333333333,
             "#9c179e"
            ],
            [
             0.4444444444444444,
             "#bd3786"
            ],
            [
             0.5555555555555556,
             "#d8576b"
            ],
            [
             0.6666666666666666,
             "#ed7953"
            ],
            [
             0.7777777777777778,
             "#fb9f3a"
            ],
            [
             0.8888888888888888,
             "#fdca26"
            ],
            [
             1,
             "#f0f921"
            ]
           ],
           "sequentialminus": [
            [
             0,
             "#0d0887"
            ],
            [
             0.1111111111111111,
             "#46039f"
            ],
            [
             0.2222222222222222,
             "#7201a8"
            ],
            [
             0.3333333333333333,
             "#9c179e"
            ],
            [
             0.4444444444444444,
             "#bd3786"
            ],
            [
             0.5555555555555556,
             "#d8576b"
            ],
            [
             0.6666666666666666,
             "#ed7953"
            ],
            [
             0.7777777777777778,
             "#fb9f3a"
            ],
            [
             0.8888888888888888,
             "#fdca26"
            ],
            [
             1,
             "#f0f921"
            ]
           ]
          },
          "colorway": [
           "#636efa",
           "#EF553B",
           "#00cc96",
           "#ab63fa",
           "#FFA15A",
           "#19d3f3",
           "#FF6692",
           "#B6E880",
           "#FF97FF",
           "#FECB52"
          ],
          "font": {
           "color": "#2a3f5f"
          },
          "geo": {
           "bgcolor": "white",
           "lakecolor": "white",
           "landcolor": "#E5ECF6",
           "showlakes": true,
           "showland": true,
           "subunitcolor": "white"
          },
          "hoverlabel": {
           "align": "left"
          },
          "hovermode": "closest",
          "mapbox": {
           "style": "light"
          },
          "paper_bgcolor": "white",
          "plot_bgcolor": "#E5ECF6",
          "polar": {
           "angularaxis": {
            "gridcolor": "white",
            "linecolor": "white",
            "ticks": ""
           },
           "bgcolor": "#E5ECF6",
           "radialaxis": {
            "gridcolor": "white",
            "linecolor": "white",
            "ticks": ""
           }
          },
          "scene": {
           "xaxis": {
            "backgroundcolor": "#E5ECF6",
            "gridcolor": "white",
            "gridwidth": 2,
            "linecolor": "white",
            "showbackground": true,
            "ticks": "",
            "zerolinecolor": "white"
           },
           "yaxis": {
            "backgroundcolor": "#E5ECF6",
            "gridcolor": "white",
            "gridwidth": 2,
            "linecolor": "white",
            "showbackground": true,
            "ticks": "",
            "zerolinecolor": "white"
           },
           "zaxis": {
            "backgroundcolor": "#E5ECF6",
            "gridcolor": "white",
            "gridwidth": 2,
            "linecolor": "white",
            "showbackground": true,
            "ticks": "",
            "zerolinecolor": "white"
           }
          },
          "shapedefaults": {
           "line": {
            "color": "#2a3f5f"
           }
          },
          "ternary": {
           "aaxis": {
            "gridcolor": "white",
            "linecolor": "white",
            "ticks": ""
           },
           "baxis": {
            "gridcolor": "white",
            "linecolor": "white",
            "ticks": ""
           },
           "bgcolor": "#E5ECF6",
           "caxis": {
            "gridcolor": "white",
            "linecolor": "white",
            "ticks": ""
           }
          },
          "title": {
           "x": 0.05
          },
          "xaxis": {
           "automargin": true,
           "gridcolor": "white",
           "linecolor": "white",
           "ticks": "",
           "zerolinecolor": "white",
           "zerolinewidth": 2
          },
          "yaxis": {
           "automargin": true,
           "gridcolor": "white",
           "linecolor": "white",
           "ticks": "",
           "zerolinecolor": "white",
           "zerolinewidth": 2
          }
         }
        },
        "title": {
         "text": "화자의 상대적 지위에 따른 어미 사용 비율"
        },
        "xaxis": {
         "anchor": "y",
         "domain": [
          0,
          0.98
         ],
         "title": {
          "text": "화자의 상대적 지위"
         }
        },
        "yaxis": {
         "anchor": "x",
         "domain": [
          0,
          1
         ],
         "title": {
          "text": "어미 사용 비율(%)"
         }
        }
       }
      },
      "text/html": [
       "<div>\n",
       "        \n",
       "        \n",
       "            <div id=\"09e41594-2789-4c69-b6d8-41948a3bafbb\" class=\"plotly-graph-div\" style=\"height:400px; width:100%;\"></div>\n",
       "            <script type=\"text/javascript\">\n",
       "                require([\"plotly\"], function(Plotly) {\n",
       "                    window.PLOTLYENV=window.PLOTLYENV || {};\n",
       "                    \n",
       "                if (document.getElementById(\"09e41594-2789-4c69-b6d8-41948a3bafbb\")) {\n",
       "                    Plotly.newPlot(\n",
       "                        '09e41594-2789-4c69-b6d8-41948a3bafbb',\n",
       "                        [{\"alignmentgroup\": \"True\", \"hoverlabel\": {\"namelength\": 0}, \"hovertemplate\": \"\\uc5b4\\ubbf8=\\uc796<br>\\uc9c0\\uc704=%{x}<br>\\ube44\\uc728=%{y}\", \"legendgroup\": \"\\uc5b4\\ubbf8=\\uc796\", \"marker\": {\"color\": \"#636efa\"}, \"name\": \"\\uc5b4\\ubbf8=\\uc796\", \"offsetgroup\": \"\\uc5b4\\ubbf8=\\uc796\", \"orientation\": \"v\", \"showlegend\": true, \"textposition\": \"auto\", \"type\": \"bar\", \"x\": [\"\\ubaa8\\ub984\", \"\\uc0c1\", \"\\ud558\"], \"xaxis\": \"x\", \"y\": [3.492063492063492, 1.4326647564469914, 4.761904761904762], \"yaxis\": \"y\"}, {\"alignmentgroup\": \"True\", \"hoverlabel\": {\"namelength\": 0}, \"hovertemplate\": \"\\uc5b4\\ubbf8=\\uac70\\ub4e0<br>\\uc9c0\\uc704=%{x}<br>\\ube44\\uc728=%{y}\", \"legendgroup\": \"\\uc5b4\\ubbf8=\\uac70\\ub4e0\", \"marker\": {\"color\": \"#EF553B\"}, \"name\": \"\\uc5b4\\ubbf8=\\uac70\\ub4e0\", \"offsetgroup\": \"\\uc5b4\\ubbf8=\\uac70\\ub4e0\", \"orientation\": \"v\", \"showlegend\": true, \"textposition\": \"auto\", \"type\": \"bar\", \"x\": [\"\\ubaa8\\ub984\", \"\\uc0c1\", \"\\ud558\"], \"xaxis\": \"x\", \"y\": [5.079365079365079, 2.5787965616045847, 2.380952380952381], \"yaxis\": \"y\"}],\n",
       "                        {\"barmode\": \"group\", \"height\": 400, \"legend\": {\"tracegroupgap\": 0}, \"margin\": {\"t\": 60}, \"template\": {\"data\": {\"bar\": [{\"error_x\": {\"color\": \"#2a3f5f\"}, \"error_y\": {\"color\": \"#2a3f5f\"}, \"marker\": {\"line\": {\"color\": \"#E5ECF6\", \"width\": 0.5}}, \"type\": \"bar\"}], \"barpolar\": [{\"marker\": {\"line\": {\"color\": \"#E5ECF6\", \"width\": 0.5}}, \"type\": \"barpolar\"}], \"carpet\": [{\"aaxis\": {\"endlinecolor\": \"#2a3f5f\", \"gridcolor\": \"white\", \"linecolor\": \"white\", \"minorgridcolor\": \"white\", \"startlinecolor\": \"#2a3f5f\"}, \"baxis\": {\"endlinecolor\": \"#2a3f5f\", \"gridcolor\": \"white\", \"linecolor\": \"white\", \"minorgridcolor\": \"white\", \"startlinecolor\": \"#2a3f5f\"}, \"type\": \"carpet\"}], \"choropleth\": [{\"colorbar\": {\"outlinewidth\": 0, \"ticks\": \"\"}, \"type\": \"choropleth\"}], \"contour\": [{\"colorbar\": {\"outlinewidth\": 0, \"ticks\": \"\"}, \"colorscale\": [[0.0, \"#0d0887\"], [0.1111111111111111, \"#46039f\"], [0.2222222222222222, \"#7201a8\"], [0.3333333333333333, \"#9c179e\"], [0.4444444444444444, \"#bd3786\"], [0.5555555555555556, \"#d8576b\"], [0.6666666666666666, \"#ed7953\"], [0.7777777777777778, \"#fb9f3a\"], [0.8888888888888888, \"#fdca26\"], [1.0, \"#f0f921\"]], \"type\": \"contour\"}], \"contourcarpet\": [{\"colorbar\": {\"outlinewidth\": 0, \"ticks\": \"\"}, \"type\": \"contourcarpet\"}], \"heatmap\": [{\"colorbar\": {\"outlinewidth\": 0, \"ticks\": \"\"}, \"colorscale\": [[0.0, \"#0d0887\"], [0.1111111111111111, \"#46039f\"], [0.2222222222222222, \"#7201a8\"], [0.3333333333333333, \"#9c179e\"], [0.4444444444444444, \"#bd3786\"], [0.5555555555555556, \"#d8576b\"], [0.6666666666666666, \"#ed7953\"], [0.7777777777777778, \"#fb9f3a\"], [0.8888888888888888, \"#fdca26\"], [1.0, \"#f0f921\"]], \"type\": \"heatmap\"}], \"heatmapgl\": [{\"colorbar\": {\"outlinewidth\": 0, \"ticks\": \"\"}, \"colorscale\": [[0.0, \"#0d0887\"], [0.1111111111111111, \"#46039f\"], [0.2222222222222222, \"#7201a8\"], [0.3333333333333333, \"#9c179e\"], [0.4444444444444444, \"#bd3786\"], [0.5555555555555556, \"#d8576b\"], [0.6666666666666666, \"#ed7953\"], [0.7777777777777778, \"#fb9f3a\"], [0.8888888888888888, \"#fdca26\"], [1.0, \"#f0f921\"]], \"type\": \"heatmapgl\"}], \"histogram\": [{\"marker\": {\"colorbar\": {\"outlinewidth\": 0, \"ticks\": \"\"}}, \"type\": \"histogram\"}], \"histogram2d\": [{\"colorbar\": {\"outlinewidth\": 0, \"ticks\": \"\"}, \"colorscale\": [[0.0, \"#0d0887\"], [0.1111111111111111, \"#46039f\"], [0.2222222222222222, \"#7201a8\"], [0.3333333333333333, \"#9c179e\"], [0.4444444444444444, \"#bd3786\"], [0.5555555555555556, \"#d8576b\"], [0.6666666666666666, \"#ed7953\"], [0.7777777777777778, \"#fb9f3a\"], [0.8888888888888888, \"#fdca26\"], [1.0, \"#f0f921\"]], \"type\": \"histogram2d\"}], \"histogram2dcontour\": [{\"colorbar\": {\"outlinewidth\": 0, \"ticks\": \"\"}, \"colorscale\": [[0.0, \"#0d0887\"], [0.1111111111111111, \"#46039f\"], [0.2222222222222222, \"#7201a8\"], [0.3333333333333333, \"#9c179e\"], [0.4444444444444444, \"#bd3786\"], [0.5555555555555556, \"#d8576b\"], [0.6666666666666666, \"#ed7953\"], [0.7777777777777778, \"#fb9f3a\"], [0.8888888888888888, \"#fdca26\"], [1.0, \"#f0f921\"]], \"type\": \"histogram2dcontour\"}], \"mesh3d\": [{\"colorbar\": {\"outlinewidth\": 0, \"ticks\": \"\"}, \"type\": \"mesh3d\"}], \"parcoords\": [{\"line\": {\"colorbar\": {\"outlinewidth\": 0, \"ticks\": \"\"}}, \"type\": \"parcoords\"}], \"scatter\": [{\"marker\": {\"colorbar\": {\"outlinewidth\": 0, \"ticks\": \"\"}}, \"type\": \"scatter\"}], \"scatter3d\": [{\"line\": {\"colorbar\": {\"outlinewidth\": 0, \"ticks\": \"\"}}, \"marker\": {\"colorbar\": {\"outlinewidth\": 0, \"ticks\": \"\"}}, \"type\": \"scatter3d\"}], \"scattercarpet\": [{\"marker\": {\"colorbar\": {\"outlinewidth\": 0, \"ticks\": \"\"}}, \"type\": \"scattercarpet\"}], \"scattergeo\": [{\"marker\": {\"colorbar\": {\"outlinewidth\": 0, \"ticks\": \"\"}}, \"type\": \"scattergeo\"}], \"scattergl\": [{\"marker\": {\"colorbar\": {\"outlinewidth\": 0, \"ticks\": \"\"}}, \"type\": \"scattergl\"}], \"scattermapbox\": [{\"marker\": {\"colorbar\": {\"outlinewidth\": 0, \"ticks\": \"\"}}, \"type\": \"scattermapbox\"}], \"scatterpolar\": [{\"marker\": {\"colorbar\": {\"outlinewidth\": 0, \"ticks\": \"\"}}, \"type\": \"scatterpolar\"}], \"scatterpolargl\": [{\"marker\": {\"colorbar\": {\"outlinewidth\": 0, \"ticks\": \"\"}}, \"type\": \"scatterpolargl\"}], \"scatterternary\": [{\"marker\": {\"colorbar\": {\"outlinewidth\": 0, \"ticks\": \"\"}}, \"type\": \"scatterternary\"}], \"surface\": [{\"colorbar\": {\"outlinewidth\": 0, \"ticks\": \"\"}, \"colorscale\": [[0.0, \"#0d0887\"], [0.1111111111111111, \"#46039f\"], [0.2222222222222222, \"#7201a8\"], [0.3333333333333333, \"#9c179e\"], [0.4444444444444444, \"#bd3786\"], [0.5555555555555556, \"#d8576b\"], [0.6666666666666666, \"#ed7953\"], [0.7777777777777778, \"#fb9f3a\"], [0.8888888888888888, \"#fdca26\"], [1.0, \"#f0f921\"]], \"type\": \"surface\"}], \"table\": [{\"cells\": {\"fill\": {\"color\": \"#EBF0F8\"}, \"line\": {\"color\": \"white\"}}, \"header\": {\"fill\": {\"color\": \"#C8D4E3\"}, \"line\": {\"color\": \"white\"}}, \"type\": \"table\"}]}, \"layout\": {\"annotationdefaults\": {\"arrowcolor\": \"#2a3f5f\", \"arrowhead\": 0, \"arrowwidth\": 1}, \"colorscale\": {\"diverging\": [[0, \"#8e0152\"], [0.1, \"#c51b7d\"], [0.2, \"#de77ae\"], [0.3, \"#f1b6da\"], [0.4, \"#fde0ef\"], [0.5, \"#f7f7f7\"], [0.6, \"#e6f5d0\"], [0.7, \"#b8e186\"], [0.8, \"#7fbc41\"], [0.9, \"#4d9221\"], [1, \"#276419\"]], \"sequential\": [[0.0, \"#0d0887\"], [0.1111111111111111, \"#46039f\"], [0.2222222222222222, \"#7201a8\"], [0.3333333333333333, \"#9c179e\"], [0.4444444444444444, \"#bd3786\"], [0.5555555555555556, \"#d8576b\"], [0.6666666666666666, \"#ed7953\"], [0.7777777777777778, \"#fb9f3a\"], [0.8888888888888888, \"#fdca26\"], [1.0, \"#f0f921\"]], \"sequentialminus\": [[0.0, \"#0d0887\"], [0.1111111111111111, \"#46039f\"], [0.2222222222222222, \"#7201a8\"], [0.3333333333333333, \"#9c179e\"], [0.4444444444444444, \"#bd3786\"], [0.5555555555555556, \"#d8576b\"], [0.6666666666666666, \"#ed7953\"], [0.7777777777777778, \"#fb9f3a\"], [0.8888888888888888, \"#fdca26\"], [1.0, \"#f0f921\"]]}, \"colorway\": [\"#636efa\", \"#EF553B\", \"#00cc96\", \"#ab63fa\", \"#FFA15A\", \"#19d3f3\", \"#FF6692\", \"#B6E880\", \"#FF97FF\", \"#FECB52\"], \"font\": {\"color\": \"#2a3f5f\"}, \"geo\": {\"bgcolor\": \"white\", \"lakecolor\": \"white\", \"landcolor\": \"#E5ECF6\", \"showlakes\": true, \"showland\": true, \"subunitcolor\": \"white\"}, \"hoverlabel\": {\"align\": \"left\"}, \"hovermode\": \"closest\", \"mapbox\": {\"style\": \"light\"}, \"paper_bgcolor\": \"white\", \"plot_bgcolor\": \"#E5ECF6\", \"polar\": {\"angularaxis\": {\"gridcolor\": \"white\", \"linecolor\": \"white\", \"ticks\": \"\"}, \"bgcolor\": \"#E5ECF6\", \"radialaxis\": {\"gridcolor\": \"white\", \"linecolor\": \"white\", \"ticks\": \"\"}}, \"scene\": {\"xaxis\": {\"backgroundcolor\": \"#E5ECF6\", \"gridcolor\": \"white\", \"gridwidth\": 2, \"linecolor\": \"white\", \"showbackground\": true, \"ticks\": \"\", \"zerolinecolor\": \"white\"}, \"yaxis\": {\"backgroundcolor\": \"#E5ECF6\", \"gridcolor\": \"white\", \"gridwidth\": 2, \"linecolor\": \"white\", \"showbackground\": true, \"ticks\": \"\", \"zerolinecolor\": \"white\"}, \"zaxis\": {\"backgroundcolor\": \"#E5ECF6\", \"gridcolor\": \"white\", \"gridwidth\": 2, \"linecolor\": \"white\", \"showbackground\": true, \"ticks\": \"\", \"zerolinecolor\": \"white\"}}, \"shapedefaults\": {\"line\": {\"color\": \"#2a3f5f\"}}, \"ternary\": {\"aaxis\": {\"gridcolor\": \"white\", \"linecolor\": \"white\", \"ticks\": \"\"}, \"baxis\": {\"gridcolor\": \"white\", \"linecolor\": \"white\", \"ticks\": \"\"}, \"bgcolor\": \"#E5ECF6\", \"caxis\": {\"gridcolor\": \"white\", \"linecolor\": \"white\", \"ticks\": \"\"}}, \"title\": {\"x\": 0.05}, \"xaxis\": {\"automargin\": true, \"gridcolor\": \"white\", \"linecolor\": \"white\", \"ticks\": \"\", \"zerolinecolor\": \"white\", \"zerolinewidth\": 2}, \"yaxis\": {\"automargin\": true, \"gridcolor\": \"white\", \"linecolor\": \"white\", \"ticks\": \"\", \"zerolinecolor\": \"white\", \"zerolinewidth\": 2}}}, \"title\": {\"text\": \"\\ud654\\uc790\\uc758 \\uc0c1\\ub300\\uc801 \\uc9c0\\uc704\\uc5d0 \\ub530\\ub978 \\uc5b4\\ubbf8 \\uc0ac\\uc6a9 \\ube44\\uc728\"}, \"xaxis\": {\"anchor\": \"y\", \"domain\": [0.0, 0.98], \"title\": {\"text\": \"\\ud654\\uc790\\uc758 \\uc0c1\\ub300\\uc801 \\uc9c0\\uc704\"}}, \"yaxis\": {\"anchor\": \"x\", \"domain\": [0.0, 1.0], \"title\": {\"text\": \"\\uc5b4\\ubbf8 \\uc0ac\\uc6a9 \\ube44\\uc728(%)\"}}},\n",
       "                        {\"responsive\": true}\n",
       "                    ).then(function(){\n",
       "                            \n",
       "var gd = document.getElementById('09e41594-2789-4c69-b6d8-41948a3bafbb');\n",
       "var x = new MutationObserver(function (mutations, observer) {{\n",
       "        var display = window.getComputedStyle(gd).display;\n",
       "        if (!display || display === 'none') {{\n",
       "            console.log([gd, 'removed!']);\n",
       "            Plotly.purge(gd);\n",
       "            observer.disconnect();\n",
       "        }}\n",
       "}});\n",
       "\n",
       "// Listen for the removal of the full notebook cells\n",
       "var notebookContainer = gd.closest('#notebook-container');\n",
       "if (notebookContainer) {{\n",
       "    x.observe(notebookContainer, {childList: true});\n",
       "}}\n",
       "\n",
       "// Listen for the clearing of the current output cell\n",
       "var outputEl = gd.closest('.output');\n",
       "if (outputEl) {{\n",
       "    x.observe(outputEl, {childList: true});\n",
       "}}\n",
       "\n",
       "                        })\n",
       "                };\n",
       "                });\n",
       "            </script>\n",
       "        </div>"
      ]
     },
     "metadata": {},
     "output_type": "display_data"
    }
   ],
   "source": [
    "fig = px.bar(mean2, x=\"지위\", y=\"비율\", color='어미', barmode='group',\n",
    "             height=400)\n",
    "fig.update_layout(title=\"화자의 상대적 지위에 따른 어미 사용 비율\", xaxis_title=\"화자의 상대적 지위\", yaxis_title = \"어미 사용 비율(%)\")\n",
    "fig.show()"
   ]
  },
  {
   "cell_type": "markdown",
   "metadata": {},
   "source": [
    "## 6. 예시 "
   ]
  },
  {
   "cell_type": "code",
   "execution_count": 276,
   "metadata": {
    "scrolled": true
   },
   "outputs": [
    {
     "name": "stdout",
     "output_type": "stream",
     "text": [
      "어~ 그리구 두 번째 어~ 두 번째로는 어~ 이기상의 가요발전소라는 거거든요.\n",
      "헬렌이라는 여자는 이 사람의 전처거든요.\n",
      "음~ 그~ 여기서 새로 수령자라는 단어는 개념을 새로 도입했거든요 이~ 논문 쓰신 분이,\n",
      "말로 표현하는 것까지:: 포함하는 게 수령자라는 개념이거든요?\n",
      "그리고 신동이라는 모차르트 음악이 많이 좀 틀리거든요?\n",
      "까마귀라는 그림을 그렸는데 산이 저런 식으로 파란색으로 하거든요,\n",
      "헤라클레스라는 피씨방 있었거든,\n",
      "그:: 권력이라는 게 쉽게 없어지지 않았거든?\n",
      "파샤이라는 종족이거든요?\n",
      "머릿속에서 리싸이팅이라는 거를 하거든요?\n",
      "매져란 특정이라는 뜻이거든요.\n",
      "주파수라는 게 헤르쯔거든요?\n",
      "서울과 일산 사이에 고양시라는 데가 있거든요?\n",
      "좋을 만한 제품 시민운동이라는 생각이 들어가거든요 사실,\n",
      "오해::라는 건 편견이라고 그랬거든요?\n"
     ]
    }
   ],
   "source": [
    "# 지위 높은 사람이 '-거든' 사용한 예시\n",
    "high = list(df.query('지위==\"상\"')['cleaned'])\n",
    "for i in range(len(high)):\n",
    "    if '거든' in high[i]:\n",
    "        print(high[i])"
   ]
  },
  {
   "cell_type": "code",
   "execution_count": 277,
   "metadata": {},
   "outputs": [
    {
     "name": "stdout",
     "output_type": "stream",
     "text": [
      "어~ 옛날에 뭐~ 통신 문화 같은 경우는 생각해 보면 어느 정도 돈을 지불하고 어느 정도 단계에 있어서 그~ 사람들이 어느 정도 계층이라는 게 있잖아요.\n",
      "청에 대해서 저게 정운이라는 걸 생각을 이제 못 할 수가 있잖아요,\n"
     ]
    }
   ],
   "source": [
    "# 지위 낮은 사람이 '-잖-' 사용한 예시\n",
    "low = list(df.query('지위==\"하\"')['cleaned'])\n",
    "for i in range(len(low)):\n",
    "    if '잖' in low[i]:\n",
    "        print(low[i])"
   ]
  },
  {
   "cell_type": "code",
   "execution_count": 278,
   "metadata": {},
   "outputs": [
    {
     "name": "stdout",
     "output_type": "stream",
     "text": [
      "그~ 방송언어라는 것도 말씀하신 것처럼 우리 상당히 똑바로 자랐다는 생각을 하거든요 저두.\n",
      "다양화의 추구라는 게 저~ 일본 코메디를 봤거든요.\n",
      "하지만 그 나라가 지나가면서 시간이 흘러가면서도 그 신세대라는 사람들이 다시 기성세대가 됐을 때는 그런 부정부패라는 게 여전했다는 거라고 생각이 되거든요.\n",
      "내 동경에 <name>이라는 사람이 있거든,\n",
      "그리고 신동이라는 모차르트 음악이 많이 좀 틀리거든요?\n",
      "까마귀라는 그림을 그렸는데 산이 저런 식으로 파란색으로 하거든요,\n",
      "그때 내가 기억하기로는 세종 때 처음 조선이 독립이라는 단어를 썼거든요?\n",
      "독립국이라는 단어를 썼거든요?\n",
      "헤라클레스라는 피씨방 있었거든,\n",
      "파스텔데 쵸콜로라는 게 있거든?\n",
      "그:: 권력이라는 게 쉽게 없어지지 않았거든?\n",
      "파샤이라는 종족이거든요?\n",
      "매져란 특정이라는 뜻이거든요.\n",
      "주파수라는 게 헤르쯔거든요?\n",
      "좋을 만한 제품 시민운동이라는 생각이 들어가거든요 사실,\n",
      "오해::라는 건 편견이라고 그랬거든요?\n",
      "저축 계좌라는 뜻이거든,\n"
     ]
    }
   ],
   "source": [
    "# 남성이 '-거든' 사용한 예시\n",
    "aa = list(df.query('gender==\"M\"')['cleaned'])\n",
    "for i in range(len(aa)):\n",
    "    if '거든' in aa[i]:\n",
    "        print(aa[i])"
   ]
  },
  {
   "cell_type": "code",
   "execution_count": 279,
   "metadata": {},
   "outputs": [
    {
     "name": "stdout",
     "output_type": "stream",
     "text": [
      "재투성이 아가씨라는 그런 말이잖아요.\n",
      "수직적인 그런 예절은 발달했는데 수평적인 그런 매너 그니까 윗사람에 대한 예절이나 예의라는 개념 자체가 윗사람에 대한 어떤 개념이잖아요 근데,\n",
      "물론 인제~ 그 부분이 그 부분이 뭐~ 욕에 해당되는 그 부분이라는 걸 누구나 알지만 방송에선 제시를 안 하잖아.\n",
      "근데 아니 근데 만약에 지금 지금은 세계가 되게 막 지구촌이라는 말이 생길 만큼 되게 가깝잖아.\n",
      "자꾸 우리가 의식적으로도 바꾸다 보면은 나중에 우리 세대가 아닌 다른 세대가 되거나 아니면 점점 그~ 이게 세계화가 되는 상황에서도 원격조정기라는 말이 사람들한테 익숙해지고 또 점점 의식이 바꿔서 나중엔 그게 전혀 불편하거나 어색하거나 그렇게 안 느낄 수 있다 안 느낄 수도 있잖아!\n",
      "대화라는 게 그렇잖아요?\n",
      "우리 사회라는 게 뭐~ 여러분이 경험하는 모든 일들이 사회잖아요.\n",
      "그까 어떤 세대::의 가치관보다는 이 부정부패라는 거는 기본적으로 인간::이 욕심::이 있잖아요 인간의 본능 속에 욕심이 있잖아요 자기 것 챙기고자 하는.\n",
      "어~ 옛날에 뭐~ 통신 문화 같은 경우는 생각해 보면 어느 정도 돈을 지불하고 어느 정도 단계에 있어서 그~ 사람들이 어느 정도 계층이라는 게 있잖아요.\n",
      "어~ 저희들이 흔히 알고 있는 브이제이라는 그런 어~ 비디오 자키잖아요.\n",
      "반말로 얘기를 가끔 한다거나 아니면 아까 보셨다시피 오빠라는 용어가 쓰였잖아요.\n",
      "지금 이제 팅이라는 그~ 어떤 소리가 계속 나오잖아요,\n",
      "청에 대해서 저게 정운이라는 걸 생각을 이제 못 할 수가 있잖아요,\n",
      "그래서 그~ 문화인류학이라는 수업을 들었잖아?\n",
      "연어라는 게 뭔가 와 닿지 않잖아요,\n",
      "우리들은 그거 연어라는 거 누구나 알잖아 그거 보통 문장인데\n",
      "그거는 어차피 그 아버지라는 그~ 원래 속해 있는 거잖아?\n",
      "유에스던 피터라는 근까 거기에 당 당들이 있잖아::.\n"
     ]
    }
   ],
   "source": [
    "# 여성이 '-잖-' 사용한 예시\n",
    "aa = list(df.query('gender==\"F\"')['cleaned'])\n",
    "for i in range(len(aa)):\n",
    "    if '잖' in aa[i]:\n",
    "        print(aa[i])"
   ]
  },
  {
   "cell_type": "code",
   "execution_count": 280,
   "metadata": {},
   "outputs": [
    {
     "name": "stdout",
     "output_type": "stream",
     "text": [
      "거기가 피피섬이라는 데거든요,\n",
      "파샤이라는 종족이거든요?\n",
      "냉동 인간이라는 소재가 나오고 그까 그 텔레비전 프로에 그런 게 있었거든요?\n",
      "영어라는 근까 다른 말이 그렇거든요?\n",
      "군대라는 경험이 상당히 세거든요 그런 게,\n"
     ]
    }
   ],
   "source": [
    "# 청자가 여성일 때 '-거든' 사용한 예시\n",
    "aa = list(df.query('listener==\"F\"')['cleaned'])\n",
    "for i in range(len(aa)):\n",
    "    if '거든' in aa[i]:\n",
    "        print(aa[i])"
   ]
  },
  {
   "cell_type": "code",
   "execution_count": null,
   "metadata": {},
   "outputs": [],
   "source": []
  }
 ],
 "metadata": {
  "kernelspec": {
   "display_name": "Python 3",
   "language": "python",
   "name": "python3"
  },
  "language_info": {
   "codemirror_mode": {
    "name": "ipython",
    "version": 3
   },
   "file_extension": ".py",
   "mimetype": "text/x-python",
   "name": "python",
   "nbconvert_exporter": "python",
   "pygments_lexer": "ipython3",
   "version": "3.7.0"
  }
 },
 "nbformat": 4,
 "nbformat_minor": 2
}
